{
 "cells": [
  {
   "cell_type": "markdown",
   "metadata": {},
   "source": [
    "> **Tip**: Welcome to the Investigate a Dataset project! You will find tips in quoted sections like this to help organize your approach to your investigation. Before submitting your project, it will be a good idea to go back through your report and remove these sections to make the presentation of your work as tidy as possible. First things first, you might want to double-click this Markdown cell and change the title so that it reflects your dataset and investigation.\n",
    "\n",
    "# Project: Movies Data Analysis\n",
    "\n",
    "## Table of Contents\n",
    "<ul>\n",
    "<li><a href=\"#intro\">Introduction</a></li>\n",
    "<li><a href=\"#wrangling\">Data Wrangling</a></li>\n",
    "<li><a href=\"#eda\">Exploratory Data Analysis</a></li>\n",
    "<li><a href=\"#conclusions\">Conclusions</a></li>\n",
    "</ul>"
   ]
  },
  {
   "cell_type": "markdown",
   "metadata": {},
   "source": [
    "<a id='intro'></a>\n",
    "## Introduction\n",
    "\n",
    "> **Tip**: In this section of the report, provide a brief introduction to the dataset you've selected for analysis. At the end of this section, describe the questions that you plan on exploring over the course of the report. Try to build your report around the analysis of at least one dependent variable and three independent variables.\n",
    ">\n",
    "> If you haven't yet selected and downloaded your data, make sure you do that first before coming back here. If you're not sure what questions to ask right now, then make sure you familiarize yourself with the variables and the dataset context for ideas of what to explore."
   ]
  },
  {
   "cell_type": "code",
   "execution_count": 1,
   "metadata": {},
   "outputs": [],
   "source": [
    "import numpy as np\n",
    "import pandas as pd\n",
    "import matplotlib.pyplot as plt\n",
    "import seaborn as sns\n",
    "%matplotlib inline"
   ]
  },
  {
   "cell_type": "markdown",
   "metadata": {},
   "source": [
    "<a id='wrangling'></a>\n",
    "## Data Wrangling\n",
    "\n",
    "> **Tip**: In this section of the report, you will load in the data, check for cleanliness, and then trim and clean your dataset for analysis. Make sure that you document your steps carefully and justify your cleaning decisions.\n",
    "\n",
    "### Load the Dataset"
   ]
  },
  {
   "cell_type": "code",
   "execution_count": 2,
   "metadata": {},
   "outputs": [
    {
     "data": {
      "text/html": [
       "<div>\n",
       "<style scoped>\n",
       "    .dataframe tbody tr th:only-of-type {\n",
       "        vertical-align: middle;\n",
       "    }\n",
       "\n",
       "    .dataframe tbody tr th {\n",
       "        vertical-align: top;\n",
       "    }\n",
       "\n",
       "    .dataframe thead th {\n",
       "        text-align: right;\n",
       "    }\n",
       "</style>\n",
       "<table border=\"1\" class=\"dataframe\">\n",
       "  <thead>\n",
       "    <tr style=\"text-align: right;\">\n",
       "      <th></th>\n",
       "      <th>id</th>\n",
       "      <th>imdb_id</th>\n",
       "      <th>popularity</th>\n",
       "      <th>budget</th>\n",
       "      <th>revenue</th>\n",
       "      <th>original_title</th>\n",
       "      <th>cast</th>\n",
       "      <th>homepage</th>\n",
       "      <th>director</th>\n",
       "      <th>tagline</th>\n",
       "      <th>...</th>\n",
       "      <th>overview</th>\n",
       "      <th>runtime</th>\n",
       "      <th>genres</th>\n",
       "      <th>production_companies</th>\n",
       "      <th>release_date</th>\n",
       "      <th>vote_count</th>\n",
       "      <th>vote_average</th>\n",
       "      <th>release_year</th>\n",
       "      <th>budget_adj</th>\n",
       "      <th>revenue_adj</th>\n",
       "    </tr>\n",
       "  </thead>\n",
       "  <tbody>\n",
       "    <tr>\n",
       "      <td>0</td>\n",
       "      <td>135397</td>\n",
       "      <td>tt0369610</td>\n",
       "      <td>32.985763</td>\n",
       "      <td>150000000</td>\n",
       "      <td>1513528810</td>\n",
       "      <td>Jurassic World</td>\n",
       "      <td>Chris Pratt|Bryce Dallas Howard|Irrfan Khan|Vi...</td>\n",
       "      <td>http://www.jurassicworld.com/</td>\n",
       "      <td>Colin Trevorrow</td>\n",
       "      <td>The park is open.</td>\n",
       "      <td>...</td>\n",
       "      <td>Twenty-two years after the events of Jurassic ...</td>\n",
       "      <td>124</td>\n",
       "      <td>Action|Adventure|Science Fiction|Thriller</td>\n",
       "      <td>Universal Studios|Amblin Entertainment|Legenda...</td>\n",
       "      <td>6/9/15</td>\n",
       "      <td>5562</td>\n",
       "      <td>6.5</td>\n",
       "      <td>2015</td>\n",
       "      <td>1.379999e+08</td>\n",
       "      <td>1.392446e+09</td>\n",
       "    </tr>\n",
       "    <tr>\n",
       "      <td>1</td>\n",
       "      <td>76341</td>\n",
       "      <td>tt1392190</td>\n",
       "      <td>28.419936</td>\n",
       "      <td>150000000</td>\n",
       "      <td>378436354</td>\n",
       "      <td>Mad Max: Fury Road</td>\n",
       "      <td>Tom Hardy|Charlize Theron|Hugh Keays-Byrne|Nic...</td>\n",
       "      <td>http://www.madmaxmovie.com/</td>\n",
       "      <td>George Miller</td>\n",
       "      <td>What a Lovely Day.</td>\n",
       "      <td>...</td>\n",
       "      <td>An apocalyptic story set in the furthest reach...</td>\n",
       "      <td>120</td>\n",
       "      <td>Action|Adventure|Science Fiction|Thriller</td>\n",
       "      <td>Village Roadshow Pictures|Kennedy Miller Produ...</td>\n",
       "      <td>5/13/15</td>\n",
       "      <td>6185</td>\n",
       "      <td>7.1</td>\n",
       "      <td>2015</td>\n",
       "      <td>1.379999e+08</td>\n",
       "      <td>3.481613e+08</td>\n",
       "    </tr>\n",
       "    <tr>\n",
       "      <td>2</td>\n",
       "      <td>262500</td>\n",
       "      <td>tt2908446</td>\n",
       "      <td>13.112507</td>\n",
       "      <td>110000000</td>\n",
       "      <td>295238201</td>\n",
       "      <td>Insurgent</td>\n",
       "      <td>Shailene Woodley|Theo James|Kate Winslet|Ansel...</td>\n",
       "      <td>http://www.thedivergentseries.movie/#insurgent</td>\n",
       "      <td>Robert Schwentke</td>\n",
       "      <td>One Choice Can Destroy You</td>\n",
       "      <td>...</td>\n",
       "      <td>Beatrice Prior must confront her inner demons ...</td>\n",
       "      <td>119</td>\n",
       "      <td>Adventure|Science Fiction|Thriller</td>\n",
       "      <td>Summit Entertainment|Mandeville Films|Red Wago...</td>\n",
       "      <td>3/18/15</td>\n",
       "      <td>2480</td>\n",
       "      <td>6.3</td>\n",
       "      <td>2015</td>\n",
       "      <td>1.012000e+08</td>\n",
       "      <td>2.716190e+08</td>\n",
       "    </tr>\n",
       "    <tr>\n",
       "      <td>3</td>\n",
       "      <td>140607</td>\n",
       "      <td>tt2488496</td>\n",
       "      <td>11.173104</td>\n",
       "      <td>200000000</td>\n",
       "      <td>2068178225</td>\n",
       "      <td>Star Wars: The Force Awakens</td>\n",
       "      <td>Harrison Ford|Mark Hamill|Carrie Fisher|Adam D...</td>\n",
       "      <td>http://www.starwars.com/films/star-wars-episod...</td>\n",
       "      <td>J.J. Abrams</td>\n",
       "      <td>Every generation has a story.</td>\n",
       "      <td>...</td>\n",
       "      <td>Thirty years after defeating the Galactic Empi...</td>\n",
       "      <td>136</td>\n",
       "      <td>Action|Adventure|Science Fiction|Fantasy</td>\n",
       "      <td>Lucasfilm|Truenorth Productions|Bad Robot</td>\n",
       "      <td>12/15/15</td>\n",
       "      <td>5292</td>\n",
       "      <td>7.5</td>\n",
       "      <td>2015</td>\n",
       "      <td>1.839999e+08</td>\n",
       "      <td>1.902723e+09</td>\n",
       "    </tr>\n",
       "    <tr>\n",
       "      <td>4</td>\n",
       "      <td>168259</td>\n",
       "      <td>tt2820852</td>\n",
       "      <td>9.335014</td>\n",
       "      <td>190000000</td>\n",
       "      <td>1506249360</td>\n",
       "      <td>Furious 7</td>\n",
       "      <td>Vin Diesel|Paul Walker|Jason Statham|Michelle ...</td>\n",
       "      <td>http://www.furious7.com/</td>\n",
       "      <td>James Wan</td>\n",
       "      <td>Vengeance Hits Home</td>\n",
       "      <td>...</td>\n",
       "      <td>Deckard Shaw seeks revenge against Dominic Tor...</td>\n",
       "      <td>137</td>\n",
       "      <td>Action|Crime|Thriller</td>\n",
       "      <td>Universal Pictures|Original Film|Media Rights ...</td>\n",
       "      <td>4/1/15</td>\n",
       "      <td>2947</td>\n",
       "      <td>7.3</td>\n",
       "      <td>2015</td>\n",
       "      <td>1.747999e+08</td>\n",
       "      <td>1.385749e+09</td>\n",
       "    </tr>\n",
       "  </tbody>\n",
       "</table>\n",
       "<p>5 rows × 21 columns</p>\n",
       "</div>"
      ],
      "text/plain": [
       "       id    imdb_id  popularity     budget     revenue  \\\n",
       "0  135397  tt0369610   32.985763  150000000  1513528810   \n",
       "1   76341  tt1392190   28.419936  150000000   378436354   \n",
       "2  262500  tt2908446   13.112507  110000000   295238201   \n",
       "3  140607  tt2488496   11.173104  200000000  2068178225   \n",
       "4  168259  tt2820852    9.335014  190000000  1506249360   \n",
       "\n",
       "                 original_title  \\\n",
       "0                Jurassic World   \n",
       "1            Mad Max: Fury Road   \n",
       "2                     Insurgent   \n",
       "3  Star Wars: The Force Awakens   \n",
       "4                     Furious 7   \n",
       "\n",
       "                                                cast  \\\n",
       "0  Chris Pratt|Bryce Dallas Howard|Irrfan Khan|Vi...   \n",
       "1  Tom Hardy|Charlize Theron|Hugh Keays-Byrne|Nic...   \n",
       "2  Shailene Woodley|Theo James|Kate Winslet|Ansel...   \n",
       "3  Harrison Ford|Mark Hamill|Carrie Fisher|Adam D...   \n",
       "4  Vin Diesel|Paul Walker|Jason Statham|Michelle ...   \n",
       "\n",
       "                                            homepage          director  \\\n",
       "0                      http://www.jurassicworld.com/   Colin Trevorrow   \n",
       "1                        http://www.madmaxmovie.com/     George Miller   \n",
       "2     http://www.thedivergentseries.movie/#insurgent  Robert Schwentke   \n",
       "3  http://www.starwars.com/films/star-wars-episod...       J.J. Abrams   \n",
       "4                           http://www.furious7.com/         James Wan   \n",
       "\n",
       "                         tagline  ...  \\\n",
       "0              The park is open.  ...   \n",
       "1             What a Lovely Day.  ...   \n",
       "2     One Choice Can Destroy You  ...   \n",
       "3  Every generation has a story.  ...   \n",
       "4            Vengeance Hits Home  ...   \n",
       "\n",
       "                                            overview runtime  \\\n",
       "0  Twenty-two years after the events of Jurassic ...     124   \n",
       "1  An apocalyptic story set in the furthest reach...     120   \n",
       "2  Beatrice Prior must confront her inner demons ...     119   \n",
       "3  Thirty years after defeating the Galactic Empi...     136   \n",
       "4  Deckard Shaw seeks revenge against Dominic Tor...     137   \n",
       "\n",
       "                                      genres  \\\n",
       "0  Action|Adventure|Science Fiction|Thriller   \n",
       "1  Action|Adventure|Science Fiction|Thriller   \n",
       "2         Adventure|Science Fiction|Thriller   \n",
       "3   Action|Adventure|Science Fiction|Fantasy   \n",
       "4                      Action|Crime|Thriller   \n",
       "\n",
       "                                production_companies release_date vote_count  \\\n",
       "0  Universal Studios|Amblin Entertainment|Legenda...       6/9/15       5562   \n",
       "1  Village Roadshow Pictures|Kennedy Miller Produ...      5/13/15       6185   \n",
       "2  Summit Entertainment|Mandeville Films|Red Wago...      3/18/15       2480   \n",
       "3          Lucasfilm|Truenorth Productions|Bad Robot     12/15/15       5292   \n",
       "4  Universal Pictures|Original Film|Media Rights ...       4/1/15       2947   \n",
       "\n",
       "   vote_average  release_year    budget_adj   revenue_adj  \n",
       "0           6.5          2015  1.379999e+08  1.392446e+09  \n",
       "1           7.1          2015  1.379999e+08  3.481613e+08  \n",
       "2           6.3          2015  1.012000e+08  2.716190e+08  \n",
       "3           7.5          2015  1.839999e+08  1.902723e+09  \n",
       "4           7.3          2015  1.747999e+08  1.385749e+09  \n",
       "\n",
       "[5 rows x 21 columns]"
      ]
     },
     "execution_count": 2,
     "metadata": {},
     "output_type": "execute_result"
    }
   ],
   "source": [
    "df = pd.read_csv('tmdb-movies.csv')\n",
    "df.head()"
   ]
  },
  {
   "cell_type": "markdown",
   "metadata": {},
   "source": [
    "### Investigate the dataset"
   ]
  },
  {
   "cell_type": "code",
   "execution_count": 3,
   "metadata": {},
   "outputs": [
    {
     "name": "stdout",
     "output_type": "stream",
     "text": [
      "<class 'pandas.core.frame.DataFrame'>\n",
      "RangeIndex: 10866 entries, 0 to 10865\n",
      "Data columns (total 21 columns):\n",
      "id                      10866 non-null int64\n",
      "imdb_id                 10856 non-null object\n",
      "popularity              10866 non-null float64\n",
      "budget                  10866 non-null int64\n",
      "revenue                 10866 non-null int64\n",
      "original_title          10866 non-null object\n",
      "cast                    10790 non-null object\n",
      "homepage                2936 non-null object\n",
      "director                10822 non-null object\n",
      "tagline                 8042 non-null object\n",
      "keywords                9373 non-null object\n",
      "overview                10862 non-null object\n",
      "runtime                 10866 non-null int64\n",
      "genres                  10843 non-null object\n",
      "production_companies    9836 non-null object\n",
      "release_date            10866 non-null object\n",
      "vote_count              10866 non-null int64\n",
      "vote_average            10866 non-null float64\n",
      "release_year            10866 non-null int64\n",
      "budget_adj              10866 non-null float64\n",
      "revenue_adj             10866 non-null float64\n",
      "dtypes: float64(4), int64(6), object(11)\n",
      "memory usage: 1.7+ MB\n"
     ]
    }
   ],
   "source": [
    "df.info()"
   ]
  },
  {
   "cell_type": "code",
   "execution_count": 4,
   "metadata": {},
   "outputs": [
    {
     "data": {
      "text/plain": [
       "id                         0\n",
       "imdb_id                   10\n",
       "popularity                 0\n",
       "budget                     0\n",
       "revenue                    0\n",
       "original_title             0\n",
       "cast                      76\n",
       "homepage                7930\n",
       "director                  44\n",
       "tagline                 2824\n",
       "keywords                1493\n",
       "overview                   4\n",
       "runtime                    0\n",
       "genres                    23\n",
       "production_companies    1030\n",
       "release_date               0\n",
       "vote_count                 0\n",
       "vote_average               0\n",
       "release_year               0\n",
       "budget_adj                 0\n",
       "revenue_adj                0\n",
       "dtype: int64"
      ]
     },
     "execution_count": 4,
     "metadata": {},
     "output_type": "execute_result"
    }
   ],
   "source": [
    "df.isnull().sum()"
   ]
  },
  {
   "cell_type": "code",
   "execution_count": 5,
   "metadata": {},
   "outputs": [
    {
     "data": {
      "image/png": "[encoded data removed]",
      "text/plain": [
       "<Figure size 1152x576 with 12 Axes>"
      ]
     },
     "metadata": {
      "needs_background": "light"
     },
     "output_type": "display_data"
    }
   ],
   "source": [
    "df.hist(figsize=(16,8));"
   ]
  },
  {
   "cell_type": "code",
   "execution_count": 6,
   "metadata": {},
   "outputs": [
    {
     "data": {
      "text/plain": [
       "Index(['id', 'imdb_id', 'popularity', 'budget', 'revenue', 'original_title',\n",
       "       'cast', 'homepage', 'director', 'tagline', 'keywords', 'overview',\n",
       "       'runtime', 'genres', 'production_companies', 'release_date',\n",
       "       'vote_count', 'vote_average', 'release_year', 'budget_adj',\n",
       "       'revenue_adj'],\n",
       "      dtype='object')"
      ]
     },
     "execution_count": 6,
     "metadata": {},
     "output_type": "execute_result"
    }
   ],
   "source": [
    "df.columns"
   ]
  },
  {
   "cell_type": "code",
   "execution_count": 7,
   "metadata": {},
   "outputs": [
    {
     "data": {
      "text/plain": [
       "1"
      ]
     },
     "execution_count": 7,
     "metadata": {},
     "output_type": "execute_result"
    }
   ],
   "source": [
    "df.duplicated().sum()"
   ]
  },
  {
   "cell_type": "markdown",
   "metadata": {},
   "source": [
    "- Issues\n",
    "    - one duplicate\n",
    "    - `id` should be string\n",
    "    - `release_date` should be datetime"
   ]
  },
  {
   "cell_type": "markdown",
   "metadata": {},
   "source": [
    "#### `release_year` column"
   ]
  },
  {
   "cell_type": "code",
   "execution_count": 8,
   "metadata": {},
   "outputs": [
    {
     "data": {
      "text/plain": [
       "2014    700\n",
       "2013    659\n",
       "2015    629\n",
       "2012    588\n",
       "2011    540\n",
       "2009    533\n",
       "2008    496\n",
       "2010    490\n",
       "2007    438\n",
       "2006    408\n",
       "2005    364\n",
       "2004    307\n",
       "2003    281\n",
       "2002    266\n",
       "2001    242\n",
       "Name: release_year, dtype: int64"
      ]
     },
     "execution_count": 8,
     "metadata": {},
     "output_type": "execute_result"
    }
   ],
   "source": [
    "#Search for categorical variables\n",
    "df['release_year'].value_counts().sort_values(ascending=False).head(15)"
   ]
  },
  {
   "cell_type": "code",
   "execution_count": 9,
   "metadata": {},
   "outputs": [
    {
     "data": {
      "image/png": "[encoded data removed]",
      "text/plain": [
       "<Figure size 432x288 with 1 Axes>"
      ]
     },
     "metadata": {
      "needs_background": "light"
     },
     "output_type": "display_data"
    }
   ],
   "source": [
    "df['release_year'].hist(bins=50);"
   ]
  },
  {
   "cell_type": "markdown",
   "metadata": {},
   "source": [
    "#### `director` column"
   ]
  },
  {
   "cell_type": "code",
   "execution_count": 10,
   "metadata": {},
   "outputs": [
    {
     "data": {
      "text/plain": [
       "Woody Allen          45\n",
       "Clint Eastwood       34\n",
       "Steven Spielberg     29\n",
       "Martin Scorsese      29\n",
       "Ridley Scott         23\n",
       "Steven Soderbergh    22\n",
       "Ron Howard           22\n",
       "Joel Schumacher      21\n",
       "Brian De Palma       20\n",
       "Barry Levinson       19\n",
       "Tim Burton           19\n",
       "Wes Craven           19\n",
       "David Cronenberg     18\n",
       "Mike Nichols         18\n",
       "John Carpenter       18\n",
       "Name: director, dtype: int64"
      ]
     },
     "execution_count": 10,
     "metadata": {},
     "output_type": "execute_result"
    }
   ],
   "source": [
    "df['director'].value_counts().sort_values(ascending=False).head(15)"
   ]
  },
  {
   "cell_type": "markdown",
   "metadata": {},
   "source": [
    "#### `original_title` column"
   ]
  },
  {
   "cell_type": "code",
   "execution_count": 11,
   "metadata": {},
   "outputs": [
    {
     "data": {
      "text/plain": [
       "Hamlet                  4\n",
       "Jane Eyre               3\n",
       "Hercules                3\n",
       "Oliver Twist            3\n",
       "A Christmas Carol       3\n",
       "Alice in Wonderland     3\n",
       "The Three Musketeers    3\n",
       "Emma                    3\n",
       "Shelter                 3\n",
       "Frankenstein            3\n",
       "Annie                   3\n",
       "The Black Hole          3\n",
       "Beauty and the Beast    3\n",
       "Julia                   3\n",
       "Life                    3\n",
       "Name: original_title, dtype: int64"
      ]
     },
     "execution_count": 11,
     "metadata": {},
     "output_type": "execute_result"
    }
   ],
   "source": [
    "df['original_title'].value_counts().head(15)"
   ]
  },
  {
   "cell_type": "markdown",
   "metadata": {},
   "source": [
    "It's not strange that there are many repeated titles, because famous movies are re-acted but let's check!"
   ]
  },
  {
   "cell_type": "code",
   "execution_count": 12,
   "metadata": {},
   "outputs": [
    {
     "data": {
      "text/html": [
       "<div>\n",
       "<style scoped>\n",
       "    .dataframe tbody tr th:only-of-type {\n",
       "        vertical-align: middle;\n",
       "    }\n",
       "\n",
       "    .dataframe tbody tr th {\n",
       "        vertical-align: top;\n",
       "    }\n",
       "\n",
       "    .dataframe thead th {\n",
       "        text-align: right;\n",
       "    }\n",
       "</style>\n",
       "<table border=\"1\" class=\"dataframe\">\n",
       "  <thead>\n",
       "    <tr style=\"text-align: right;\">\n",
       "      <th></th>\n",
       "      <th>id</th>\n",
       "      <th>imdb_id</th>\n",
       "      <th>popularity</th>\n",
       "      <th>budget</th>\n",
       "      <th>revenue</th>\n",
       "      <th>original_title</th>\n",
       "      <th>cast</th>\n",
       "      <th>homepage</th>\n",
       "      <th>director</th>\n",
       "      <th>tagline</th>\n",
       "      <th>...</th>\n",
       "      <th>overview</th>\n",
       "      <th>runtime</th>\n",
       "      <th>genres</th>\n",
       "      <th>production_companies</th>\n",
       "      <th>release_date</th>\n",
       "      <th>vote_count</th>\n",
       "      <th>vote_average</th>\n",
       "      <th>release_year</th>\n",
       "      <th>budget_adj</th>\n",
       "      <th>revenue_adj</th>\n",
       "    </tr>\n",
       "  </thead>\n",
       "  <tbody>\n",
       "    <tr>\n",
       "      <td>1890</td>\n",
       "      <td>28238</td>\n",
       "      <td>tt1449175</td>\n",
       "      <td>0.086490</td>\n",
       "      <td>0</td>\n",
       "      <td>0</td>\n",
       "      <td>Hamlet</td>\n",
       "      <td>David Tennant|Patrick Stewart|Penny Downie|Oli...</td>\n",
       "      <td>http://www.bbc.co.uk/hamlet/</td>\n",
       "      <td>Gregory Doran</td>\n",
       "      <td>To be, or not to be?</td>\n",
       "      <td>...</td>\n",
       "      <td>David Tennant stars in a film of the Royal Sha...</td>\n",
       "      <td>185</td>\n",
       "      <td>Drama</td>\n",
       "      <td>NHK Enterprises|Illuminations|BBC Wales</td>\n",
       "      <td>12/26/09</td>\n",
       "      <td>13</td>\n",
       "      <td>6.4</td>\n",
       "      <td>2009</td>\n",
       "      <td>0.000000e+00</td>\n",
       "      <td>0.000000e+00</td>\n",
       "    </tr>\n",
       "    <tr>\n",
       "      <td>8573</td>\n",
       "      <td>10549</td>\n",
       "      <td>tt0116477</td>\n",
       "      <td>0.383469</td>\n",
       "      <td>0</td>\n",
       "      <td>0</td>\n",
       "      <td>Hamlet</td>\n",
       "      <td>Kenneth Branagh|Derek Jacobi|Julie Christie|Ri...</td>\n",
       "      <td>NaN</td>\n",
       "      <td>Kenneth Branagh</td>\n",
       "      <td>NaN</td>\n",
       "      <td>...</td>\n",
       "      <td>Hamlet, Prince of Denmark, returns home to fin...</td>\n",
       "      <td>242</td>\n",
       "      <td>Drama</td>\n",
       "      <td>Castle Rock Entertainment|Turner Pictures (I)</td>\n",
       "      <td>12/25/96</td>\n",
       "      <td>51</td>\n",
       "      <td>6.7</td>\n",
       "      <td>1996</td>\n",
       "      <td>0.000000e+00</td>\n",
       "      <td>0.000000e+00</td>\n",
       "    </tr>\n",
       "    <tr>\n",
       "      <td>8797</td>\n",
       "      <td>10688</td>\n",
       "      <td>tt0171359</td>\n",
       "      <td>0.277798</td>\n",
       "      <td>2000000</td>\n",
       "      <td>1568749</td>\n",
       "      <td>Hamlet</td>\n",
       "      <td>Ethan Hawke|Kyle MacLachlan|Diane Venora|Sam S...</td>\n",
       "      <td>NaN</td>\n",
       "      <td>Michael Almereyda</td>\n",
       "      <td>Passion, Betrayal, Revenge, A hostile takeover...</td>\n",
       "      <td>...</td>\n",
       "      <td>Modern day adaptation of Shakespeare's immorta...</td>\n",
       "      <td>112</td>\n",
       "      <td>Drama</td>\n",
       "      <td>Miramax Films|double A Films</td>\n",
       "      <td>5/12/00</td>\n",
       "      <td>18</td>\n",
       "      <td>5.0</td>\n",
       "      <td>2000</td>\n",
       "      <td>2.532584e+06</td>\n",
       "      <td>1.986494e+06</td>\n",
       "    </tr>\n",
       "    <tr>\n",
       "      <td>10106</td>\n",
       "      <td>10264</td>\n",
       "      <td>tt0099726</td>\n",
       "      <td>0.067973</td>\n",
       "      <td>0</td>\n",
       "      <td>20710451</td>\n",
       "      <td>Hamlet</td>\n",
       "      <td>Mel Gibson|Glenn Close|Alan Bates|Paul Scofiel...</td>\n",
       "      <td>NaN</td>\n",
       "      <td>Franco Zeffirelli</td>\n",
       "      <td>The extraordinary adaptation of Shakespeare's ...</td>\n",
       "      <td>...</td>\n",
       "      <td>Hamlet, Prince of Denmark, finds out that his ...</td>\n",
       "      <td>130</td>\n",
       "      <td>Drama|History</td>\n",
       "      <td>Icon Productions|Warner Bros. Pictures|Nelson ...</td>\n",
       "      <td>12/19/90</td>\n",
       "      <td>43</td>\n",
       "      <td>6.5</td>\n",
       "      <td>1990</td>\n",
       "      <td>0.000000e+00</td>\n",
       "      <td>3.456364e+07</td>\n",
       "    </tr>\n",
       "  </tbody>\n",
       "</table>\n",
       "<p>4 rows × 21 columns</p>\n",
       "</div>"
      ],
      "text/plain": [
       "          id    imdb_id  popularity   budget   revenue original_title  \\\n",
       "1890   28238  tt1449175    0.086490        0         0         Hamlet   \n",
       "8573   10549  tt0116477    0.383469        0         0         Hamlet   \n",
       "8797   10688  tt0171359    0.277798  2000000   1568749         Hamlet   \n",
       "10106  10264  tt0099726    0.067973        0  20710451         Hamlet   \n",
       "\n",
       "                                                    cast  \\\n",
       "1890   David Tennant|Patrick Stewart|Penny Downie|Oli...   \n",
       "8573   Kenneth Branagh|Derek Jacobi|Julie Christie|Ri...   \n",
       "8797   Ethan Hawke|Kyle MacLachlan|Diane Venora|Sam S...   \n",
       "10106  Mel Gibson|Glenn Close|Alan Bates|Paul Scofiel...   \n",
       "\n",
       "                           homepage           director  \\\n",
       "1890   http://www.bbc.co.uk/hamlet/      Gregory Doran   \n",
       "8573                            NaN    Kenneth Branagh   \n",
       "8797                            NaN  Michael Almereyda   \n",
       "10106                           NaN  Franco Zeffirelli   \n",
       "\n",
       "                                                 tagline  ...  \\\n",
       "1890                                To be, or not to be?  ...   \n",
       "8573                                                 NaN  ...   \n",
       "8797   Passion, Betrayal, Revenge, A hostile takeover...  ...   \n",
       "10106  The extraordinary adaptation of Shakespeare's ...  ...   \n",
       "\n",
       "                                                overview runtime  \\\n",
       "1890   David Tennant stars in a film of the Royal Sha...     185   \n",
       "8573   Hamlet, Prince of Denmark, returns home to fin...     242   \n",
       "8797   Modern day adaptation of Shakespeare's immorta...     112   \n",
       "10106  Hamlet, Prince of Denmark, finds out that his ...     130   \n",
       "\n",
       "              genres                               production_companies  \\\n",
       "1890           Drama            NHK Enterprises|Illuminations|BBC Wales   \n",
       "8573           Drama      Castle Rock Entertainment|Turner Pictures (I)   \n",
       "8797           Drama                       Miramax Films|double A Films   \n",
       "10106  Drama|History  Icon Productions|Warner Bros. Pictures|Nelson ...   \n",
       "\n",
       "      release_date vote_count  vote_average  release_year    budget_adj  \\\n",
       "1890      12/26/09         13           6.4          2009  0.000000e+00   \n",
       "8573      12/25/96         51           6.7          1996  0.000000e+00   \n",
       "8797       5/12/00         18           5.0          2000  2.532584e+06   \n",
       "10106     12/19/90         43           6.5          1990  0.000000e+00   \n",
       "\n",
       "        revenue_adj  \n",
       "1890   0.000000e+00  \n",
       "8573   0.000000e+00  \n",
       "8797   1.986494e+06  \n",
       "10106  3.456364e+07  \n",
       "\n",
       "[4 rows x 21 columns]"
      ]
     },
     "execution_count": 12,
     "metadata": {},
     "output_type": "execute_result"
    }
   ],
   "source": [
    "df[df['original_title'] == 'Hamlet']"
   ]
  },
  {
   "cell_type": "code",
   "execution_count": 13,
   "metadata": {},
   "outputs": [
    {
     "data": {
      "text/html": [
       "<div>\n",
       "<style scoped>\n",
       "    .dataframe tbody tr th:only-of-type {\n",
       "        vertical-align: middle;\n",
       "    }\n",
       "\n",
       "    .dataframe tbody tr th {\n",
       "        vertical-align: top;\n",
       "    }\n",
       "\n",
       "    .dataframe thead th {\n",
       "        text-align: right;\n",
       "    }\n",
       "</style>\n",
       "<table border=\"1\" class=\"dataframe\">\n",
       "  <thead>\n",
       "    <tr style=\"text-align: right;\">\n",
       "      <th></th>\n",
       "      <th>id</th>\n",
       "      <th>imdb_id</th>\n",
       "      <th>popularity</th>\n",
       "      <th>budget</th>\n",
       "      <th>revenue</th>\n",
       "      <th>original_title</th>\n",
       "      <th>cast</th>\n",
       "      <th>homepage</th>\n",
       "      <th>director</th>\n",
       "      <th>tagline</th>\n",
       "      <th>...</th>\n",
       "      <th>overview</th>\n",
       "      <th>runtime</th>\n",
       "      <th>genres</th>\n",
       "      <th>production_companies</th>\n",
       "      <th>release_date</th>\n",
       "      <th>vote_count</th>\n",
       "      <th>vote_average</th>\n",
       "      <th>release_year</th>\n",
       "      <th>budget_adj</th>\n",
       "      <th>revenue_adj</th>\n",
       "    </tr>\n",
       "  </thead>\n",
       "  <tbody>\n",
       "    <tr>\n",
       "      <td>4101</td>\n",
       "      <td>7342</td>\n",
       "      <td>tt0319970</td>\n",
       "      <td>0.257263</td>\n",
       "      <td>0</td>\n",
       "      <td>0</td>\n",
       "      <td>Carrie</td>\n",
       "      <td>Angela Bettis|Patricia Clarkson|Rena Sofer|Kan...</td>\n",
       "      <td>NaN</td>\n",
       "      <td>David Carson</td>\n",
       "      <td>NaN</td>\n",
       "      <td>...</td>\n",
       "      <td>Carrie White is a lonely and painfully shy tee...</td>\n",
       "      <td>132</td>\n",
       "      <td>Drama|Horror</td>\n",
       "      <td>MGM Television|Trilogy Entertainment Group</td>\n",
       "      <td>11/4/02</td>\n",
       "      <td>53</td>\n",
       "      <td>5.5</td>\n",
       "      <td>2002</td>\n",
       "      <td>0.000000e+00</td>\n",
       "      <td>0.000000e+00</td>\n",
       "    </tr>\n",
       "    <tr>\n",
       "      <td>5486</td>\n",
       "      <td>133805</td>\n",
       "      <td>tt1939659</td>\n",
       "      <td>1.412233</td>\n",
       "      <td>30000000</td>\n",
       "      <td>82394288</td>\n",
       "      <td>Carrie</td>\n",
       "      <td>ChloÃ« Grace Moretz|Julianne Moore|Judy Greer|...</td>\n",
       "      <td>http://www.carrie-movie.com</td>\n",
       "      <td>Kimberly Peirce</td>\n",
       "      <td>Know her name. Fear her power.</td>\n",
       "      <td>...</td>\n",
       "      <td>A reimagining of the classic horror tale about...</td>\n",
       "      <td>100</td>\n",
       "      <td>Drama|Horror</td>\n",
       "      <td>Screen Gems|Metro-Goldwyn-Mayer (MGM)|Misher F...</td>\n",
       "      <td>10/16/13</td>\n",
       "      <td>897</td>\n",
       "      <td>5.8</td>\n",
       "      <td>2013</td>\n",
       "      <td>2.808100e+07</td>\n",
       "      <td>7.712380e+07</td>\n",
       "    </tr>\n",
       "    <tr>\n",
       "      <td>10175</td>\n",
       "      <td>7340</td>\n",
       "      <td>tt0074285</td>\n",
       "      <td>1.263483</td>\n",
       "      <td>1800000</td>\n",
       "      <td>33800000</td>\n",
       "      <td>Carrie</td>\n",
       "      <td>Sissy Spacek|Piper Laurie|Amy Irving|William K...</td>\n",
       "      <td>NaN</td>\n",
       "      <td>Brian De Palma</td>\n",
       "      <td>If youâ€™ve got a taste for terror... take Car...</td>\n",
       "      <td>...</td>\n",
       "      <td>Carrie may be ostracized, but the shy teen has...</td>\n",
       "      <td>98</td>\n",
       "      <td>Horror|Thriller</td>\n",
       "      <td>United Artists</td>\n",
       "      <td>11/3/76</td>\n",
       "      <td>497</td>\n",
       "      <td>6.8</td>\n",
       "      <td>1976</td>\n",
       "      <td>6.897056e+06</td>\n",
       "      <td>1.295114e+08</td>\n",
       "    </tr>\n",
       "  </tbody>\n",
       "</table>\n",
       "<p>3 rows × 21 columns</p>\n",
       "</div>"
      ],
      "text/plain": [
       "           id    imdb_id  popularity    budget   revenue original_title  \\\n",
       "4101     7342  tt0319970    0.257263         0         0         Carrie   \n",
       "5486   133805  tt1939659    1.412233  30000000  82394288         Carrie   \n",
       "10175    7340  tt0074285    1.263483   1800000  33800000         Carrie   \n",
       "\n",
       "                                                    cast  \\\n",
       "4101   Angela Bettis|Patricia Clarkson|Rena Sofer|Kan...   \n",
       "5486   ChloÃ« Grace Moretz|Julianne Moore|Judy Greer|...   \n",
       "10175  Sissy Spacek|Piper Laurie|Amy Irving|William K...   \n",
       "\n",
       "                          homepage         director  \\\n",
       "4101                           NaN     David Carson   \n",
       "5486   http://www.carrie-movie.com  Kimberly Peirce   \n",
       "10175                          NaN   Brian De Palma   \n",
       "\n",
       "                                                 tagline  ...  \\\n",
       "4101                                                 NaN  ...   \n",
       "5486                      Know her name. Fear her power.  ...   \n",
       "10175  If youâ€™ve got a taste for terror... take Car...  ...   \n",
       "\n",
       "                                                overview runtime  \\\n",
       "4101   Carrie White is a lonely and painfully shy tee...     132   \n",
       "5486   A reimagining of the classic horror tale about...     100   \n",
       "10175  Carrie may be ostracized, but the shy teen has...      98   \n",
       "\n",
       "                genres                               production_companies  \\\n",
       "4101      Drama|Horror         MGM Television|Trilogy Entertainment Group   \n",
       "5486      Drama|Horror  Screen Gems|Metro-Goldwyn-Mayer (MGM)|Misher F...   \n",
       "10175  Horror|Thriller                                     United Artists   \n",
       "\n",
       "      release_date vote_count  vote_average  release_year    budget_adj  \\\n",
       "4101       11/4/02         53           5.5          2002  0.000000e+00   \n",
       "5486      10/16/13        897           5.8          2013  2.808100e+07   \n",
       "10175      11/3/76        497           6.8          1976  6.897056e+06   \n",
       "\n",
       "        revenue_adj  \n",
       "4101   0.000000e+00  \n",
       "5486   7.712380e+07  \n",
       "10175  1.295114e+08  \n",
       "\n",
       "[3 rows x 21 columns]"
      ]
     },
     "execution_count": 13,
     "metadata": {},
     "output_type": "execute_result"
    }
   ],
   "source": [
    "df[df['original_title'] == 'Carrie']"
   ]
  },
  {
   "cell_type": "code",
   "execution_count": 14,
   "metadata": {},
   "outputs": [
    {
     "data": {
      "text/html": [
       "<div>\n",
       "<style scoped>\n",
       "    .dataframe tbody tr th:only-of-type {\n",
       "        vertical-align: middle;\n",
       "    }\n",
       "\n",
       "    .dataframe tbody tr th {\n",
       "        vertical-align: top;\n",
       "    }\n",
       "\n",
       "    .dataframe thead th {\n",
       "        text-align: right;\n",
       "    }\n",
       "</style>\n",
       "<table border=\"1\" class=\"dataframe\">\n",
       "  <thead>\n",
       "    <tr style=\"text-align: right;\">\n",
       "      <th></th>\n",
       "      <th>id</th>\n",
       "      <th>imdb_id</th>\n",
       "      <th>popularity</th>\n",
       "      <th>budget</th>\n",
       "      <th>revenue</th>\n",
       "      <th>original_title</th>\n",
       "      <th>cast</th>\n",
       "      <th>homepage</th>\n",
       "      <th>director</th>\n",
       "      <th>tagline</th>\n",
       "      <th>...</th>\n",
       "      <th>overview</th>\n",
       "      <th>runtime</th>\n",
       "      <th>genres</th>\n",
       "      <th>production_companies</th>\n",
       "      <th>release_date</th>\n",
       "      <th>vote_count</th>\n",
       "      <th>vote_average</th>\n",
       "      <th>release_year</th>\n",
       "      <th>budget_adj</th>\n",
       "      <th>revenue_adj</th>\n",
       "    </tr>\n",
       "  </thead>\n",
       "  <tbody>\n",
       "    <tr>\n",
       "      <td>724</td>\n",
       "      <td>196867</td>\n",
       "      <td>tt1823664</td>\n",
       "      <td>1.588010</td>\n",
       "      <td>65000000</td>\n",
       "      <td>133821816</td>\n",
       "      <td>Annie</td>\n",
       "      <td>QuvenzhanÃ© Wallis|Jamie Foxx|Rose Byrne|Camer...</td>\n",
       "      <td>NaN</td>\n",
       "      <td>Will Gluck</td>\n",
       "      <td>It's a Hard Knock Life</td>\n",
       "      <td>...</td>\n",
       "      <td>Ever since her parents left her as a baby, lit...</td>\n",
       "      <td>119</td>\n",
       "      <td>Music|Comedy|Drama|Family</td>\n",
       "      <td>Columbia Pictures|Sony Pictures Entertainment ...</td>\n",
       "      <td>12/19/14</td>\n",
       "      <td>331</td>\n",
       "      <td>6.1</td>\n",
       "      <td>2014</td>\n",
       "      <td>5.987092e+07</td>\n",
       "      <td>1.232621e+08</td>\n",
       "    </tr>\n",
       "    <tr>\n",
       "      <td>2485</td>\n",
       "      <td>26177</td>\n",
       "      <td>tt0207972</td>\n",
       "      <td>0.548720</td>\n",
       "      <td>0</td>\n",
       "      <td>0</td>\n",
       "      <td>Annie</td>\n",
       "      <td>Kathy Bates|Victor Garber|Alan Cumming|Audra M...</td>\n",
       "      <td>NaN</td>\n",
       "      <td>Rob Marshall</td>\n",
       "      <td>Disney makes the classical musical more magica...</td>\n",
       "      <td>...</td>\n",
       "      <td>Eleven-year-old Annie has been living in an or...</td>\n",
       "      <td>90</td>\n",
       "      <td>Music|Family|Comedy</td>\n",
       "      <td>Walt Disney Television|Storyline Entertainment...</td>\n",
       "      <td>11/7/99</td>\n",
       "      <td>35</td>\n",
       "      <td>5.5</td>\n",
       "      <td>1999</td>\n",
       "      <td>0.000000e+00</td>\n",
       "      <td>0.000000e+00</td>\n",
       "    </tr>\n",
       "    <tr>\n",
       "      <td>8920</td>\n",
       "      <td>15739</td>\n",
       "      <td>tt0083564</td>\n",
       "      <td>0.421748</td>\n",
       "      <td>50000000</td>\n",
       "      <td>57059003</td>\n",
       "      <td>Annie</td>\n",
       "      <td>Aileen Quinn|Albert Finney|Carol Burnett|Ann R...</td>\n",
       "      <td>NaN</td>\n",
       "      <td>John Huston</td>\n",
       "      <td>The movie of 'Tomorrow'</td>\n",
       "      <td>...</td>\n",
       "      <td>An orphan in a facility run by the mean Miss H...</td>\n",
       "      <td>127</td>\n",
       "      <td>Comedy|Drama|Family|Music</td>\n",
       "      <td>Columbia Pictures|Rastar Pictures</td>\n",
       "      <td>6/18/82</td>\n",
       "      <td>99</td>\n",
       "      <td>6.2</td>\n",
       "      <td>1982</td>\n",
       "      <td>1.129821e+08</td>\n",
       "      <td>1.289329e+08</td>\n",
       "    </tr>\n",
       "  </tbody>\n",
       "</table>\n",
       "<p>3 rows × 21 columns</p>\n",
       "</div>"
      ],
      "text/plain": [
       "          id    imdb_id  popularity    budget    revenue original_title  \\\n",
       "724   196867  tt1823664    1.588010  65000000  133821816          Annie   \n",
       "2485   26177  tt0207972    0.548720         0          0          Annie   \n",
       "8920   15739  tt0083564    0.421748  50000000   57059003          Annie   \n",
       "\n",
       "                                                   cast homepage  \\\n",
       "724   QuvenzhanÃ© Wallis|Jamie Foxx|Rose Byrne|Camer...      NaN   \n",
       "2485  Kathy Bates|Victor Garber|Alan Cumming|Audra M...      NaN   \n",
       "8920  Aileen Quinn|Albert Finney|Carol Burnett|Ann R...      NaN   \n",
       "\n",
       "          director                                            tagline  ...  \\\n",
       "724     Will Gluck                             It's a Hard Knock Life  ...   \n",
       "2485  Rob Marshall  Disney makes the classical musical more magica...  ...   \n",
       "8920   John Huston                            The movie of 'Tomorrow'  ...   \n",
       "\n",
       "                                               overview runtime  \\\n",
       "724   Ever since her parents left her as a baby, lit...     119   \n",
       "2485  Eleven-year-old Annie has been living in an or...      90   \n",
       "8920  An orphan in a facility run by the mean Miss H...     127   \n",
       "\n",
       "                         genres  \\\n",
       "724   Music|Comedy|Drama|Family   \n",
       "2485        Music|Family|Comedy   \n",
       "8920  Comedy|Drama|Family|Music   \n",
       "\n",
       "                                   production_companies release_date  \\\n",
       "724   Columbia Pictures|Sony Pictures Entertainment ...     12/19/14   \n",
       "2485  Walt Disney Television|Storyline Entertainment...      11/7/99   \n",
       "8920                  Columbia Pictures|Rastar Pictures      6/18/82   \n",
       "\n",
       "     vote_count  vote_average  release_year    budget_adj   revenue_adj  \n",
       "724         331           6.1          2014  5.987092e+07  1.232621e+08  \n",
       "2485         35           5.5          1999  0.000000e+00  0.000000e+00  \n",
       "8920         99           6.2          1982  1.129821e+08  1.289329e+08  \n",
       "\n",
       "[3 rows x 21 columns]"
      ]
     },
     "execution_count": 14,
     "metadata": {},
     "output_type": "execute_result"
    }
   ],
   "source": [
    "df[df['original_title'] == 'Annie']"
   ]
  },
  {
   "cell_type": "markdown",
   "metadata": {},
   "source": [
    "Cool, they're not duplicates. No worries here."
   ]
  },
  {
   "cell_type": "markdown",
   "metadata": {},
   "source": [
    "#### `homepage` column"
   ]
  },
  {
   "cell_type": "code",
   "execution_count": 15,
   "metadata": {},
   "outputs": [
    {
     "data": {
      "text/plain": [
       "7930"
      ]
     },
     "execution_count": 15,
     "metadata": {},
     "output_type": "execute_result"
    }
   ],
   "source": [
    "df['homepage'].isnull().sum()"
   ]
  },
  {
   "cell_type": "code",
   "execution_count": 16,
   "metadata": {},
   "outputs": [
    {
     "data": {
      "text/plain": [
       "9649                             NaN\n",
       "10443                            NaN\n",
       "1976     http://www.leapyearfilm.net\n",
       "10818                            NaN\n",
       "10733                            NaN\n",
       "2825                             NaN\n",
       "9226                             NaN\n",
       "9037                             NaN\n",
       "2841                             NaN\n",
       "9896                             NaN\n",
       "Name: homepage, dtype: object"
      ]
     },
     "execution_count": 16,
     "metadata": {},
     "output_type": "execute_result"
    }
   ],
   "source": [
    "df['homepage'].sample(10)"
   ]
  },
  {
   "cell_type": "markdown",
   "metadata": {},
   "source": [
    "Looks like the column `homepage` won't be of much use, since it's has many nans"
   ]
  },
  {
   "cell_type": "markdown",
   "metadata": {},
   "source": [
    "#### `tagline` column"
   ]
  },
  {
   "cell_type": "code",
   "execution_count": 17,
   "metadata": {},
   "outputs": [
    {
     "data": {
      "text/plain": [
       "5502                     Danger is real, fear is a choice\n",
       "6893                                                  NaN\n",
       "6459                                                  NaN\n",
       "6571                       Come to Kazakhstan, it's nice!\n",
       "7125    18 women want children. Jack is a white collar...\n",
       "5592                   He Will Bring Out The Devil In You\n",
       "3860                      You can't be what you can't see\n",
       "528                                                   NaN\n",
       "3127                      Keep the faith. Steal the rest.\n",
       "159     It takes a cop from the future to fight an ene...\n",
       "Name: tagline, dtype: object"
      ]
     },
     "execution_count": 17,
     "metadata": {},
     "output_type": "execute_result"
    }
   ],
   "source": [
    "# Can't really imagine what tagline column might be like\n",
    "df['tagline'].sample(10)"
   ]
  },
  {
   "cell_type": "code",
   "execution_count": 18,
   "metadata": {},
   "outputs": [
    {
     "data": {
      "text/plain": [
       "2824"
      ]
     },
     "execution_count": 18,
     "metadata": {},
     "output_type": "execute_result"
    }
   ],
   "source": [
    "df['tagline'].isnull().sum()"
   ]
  },
  {
   "cell_type": "markdown",
   "metadata": {},
   "source": [
    "#### `keywords` column"
   ]
  },
  {
   "cell_type": "code",
   "execution_count": 19,
   "metadata": {},
   "outputs": [
    {
     "data": {
      "text/plain": [
       "1714                     independent film|writer|hometown\n",
       "2115               jealousy|cooking|garden|funeral|season\n",
       "6495    street gang|street war|internal affairs|los an...\n",
       "7363    war crimes|writing|mythology|australian|south ...\n",
       "2059         number in title|digit in title|sea turtle|3d\n",
       "5010             trauma|psychopath|stalker|friends|murder\n",
       "1445    toronto|lesbian|remake of french film|suspicio...\n",
       "2516    alien|martian|based on tv series|fish out of w...\n",
       "9873    atomic bomb|nuclear radiation|post-apocalyptic...\n",
       "1794    arranged marriage|failure|near future|woman di...\n",
       "Name: keywords, dtype: object"
      ]
     },
     "execution_count": 19,
     "metadata": {},
     "output_type": "execute_result"
    }
   ],
   "source": [
    "df['keywords'].sample(10)"
   ]
  },
  {
   "cell_type": "code",
   "execution_count": 20,
   "metadata": {},
   "outputs": [
    {
     "data": {
      "text/plain": [
       "woman director                     134\n",
       "independent film                    82\n",
       "sport                               25\n",
       "musical                             24\n",
       "suspense                            24\n",
       "duringcreditsstinger                24\n",
       "holiday                             16\n",
       "stand-up|stand up comedy            16\n",
       "biography                           15\n",
       "independent film|woman director     13\n",
       "stand up comedy                      9\n",
       "christmas                            7\n",
       "holiday|christmas                    7\n",
       "dystopia                             7\n",
       "found footage                        7\n",
       "Name: keywords, dtype: int64"
      ]
     },
     "execution_count": 20,
     "metadata": {},
     "output_type": "execute_result"
    }
   ],
   "source": [
    "df['keywords'].value_counts().head(15)"
   ]
  },
  {
   "cell_type": "code",
   "execution_count": 21,
   "metadata": {},
   "outputs": [
    {
     "data": {
      "text/plain": [
       "1493"
      ]
     },
     "execution_count": 21,
     "metadata": {},
     "output_type": "execute_result"
    }
   ],
   "source": [
    "df['keywords'].isnull().sum()"
   ]
  },
  {
   "cell_type": "markdown",
   "metadata": {},
   "source": [
    "#### `overview` column"
   ]
  },
  {
   "cell_type": "code",
   "execution_count": 22,
   "metadata": {},
   "outputs": [
    {
     "data": {
      "text/plain": [
       "No overview found.                                                                                                                                                                                                                                                                                                                                                    13\n",
       "1960. The thrilling battles waged by a band of kids from two rival villages in the southern French countryside.                                                                                                                                                                                                                                                        2\n",
       "In the year of 2039, after World Wars destroy much of the civilization as we know it, territories are no longer run by governments, but by corporations; the mightiest of which is the Mishima Zaibatsu. In order to placate the seething masses of this dystopia, Mishima sponsors Tekken, a tournament in which fighters battle until only one is left standing.     2\n",
       "Wilbur the pig is scared of the end of the season, because he knows that come that time, he will end up on the dinner table. He hatches a plan with Charlotte, a spider that lives in his pen, to ensure that this will never happen.                                                                                                                                  2\n",
       "A cop investigates the murder of a beautiful teen girl left naked by a lake.                                                                                                                                                                                                                                                                                           1\n",
       "                                                                                                                                                                                                                                                                                                                                                                      ..\n",
       "A frog who hates the water and jumping wishes that he could be like the other animals in the Amazon rainforest.                                                                                                                                                                                                                                                        1\n",
       "Harry starts his fourth year at Hogwarts, competes in the treacherous Triwizard Tournament and faces the evil Lord Voldemort. Ron and Hermione help Harry manage the pressure â€“ but Voldemort lurks, awaiting his chance to destroy Harry and all that he stands for.                                                                                                1\n",
       "Follows the tale of a young womanâ€™s sexual awakening and subsequent journey around the world in pursuit of her ideal lover. Encounters include an Arabian sheik and a Spanish bullfighter. Her friend and butler accompany her and help to arrange her couplings.                                                                                                    1\n",
       "Paul Giamatti stars as himself, agonizing over his interpretation of \"Uncle Vanya.\" Paralyzed by anxiety, he stumbles upon a solution via a New Yorker article about a high-tech company promising to alleviate suffering by extracting souls. Giamatti enlists their service -- only to discover that his soul is the shape and size of a chickpea.                   1\n",
       "Alex, Emily, and their son, RJ, are new to Los Angeles. A chance meeting at the park introduces them to the mysterious Kurt, Charlotte, and Max. A family â€œplaydateâ€ becomes increasingly interesting as the night goes on.                                                                                                                                         1\n",
       "Name: overview, Length: 10847, dtype: int64"
      ]
     },
     "execution_count": 22,
     "metadata": {},
     "output_type": "execute_result"
    }
   ],
   "source": [
    "df['overview'].value_counts()"
   ]
  },
  {
   "cell_type": "code",
   "execution_count": 23,
   "metadata": {},
   "outputs": [
    {
     "data": {
      "text/plain": [
       "17"
      ]
     },
     "execution_count": 23,
     "metadata": {},
     "output_type": "execute_result"
    }
   ],
   "source": [
    "useless_overviews = sum(df['overview'].isnull()) + sum(df['overview'] == 'No overview found.')\n",
    "useless_overviews"
   ]
  },
  {
   "cell_type": "markdown",
   "metadata": {},
   "source": [
    "#### `production_companies` column"
   ]
  },
  {
   "cell_type": "code",
   "execution_count": 24,
   "metadata": {},
   "outputs": [
    {
     "data": {
      "text/plain": [
       "Paramount Pictures                              156\n",
       "Universal Pictures                              133\n",
       "Warner Bros.                                     84\n",
       "Walt Disney Pictures                             76\n",
       "Columbia Pictures                                72\n",
       "Metro-Goldwyn-Mayer (MGM)                        72\n",
       "New Line Cinema                                  61\n",
       "Touchstone Pictures                              51\n",
       "20th Century Fox                                 50\n",
       "Twentieth Century Fox Film Corporation           49\n",
       "TriStar Pictures                                 45\n",
       "Orion Pictures                                   42\n",
       "Miramax Films                                    32\n",
       "Columbia Pictures Corporation                    31\n",
       "DreamWorks Animation                             31\n",
       "Pixar Animation Studios                          30\n",
       "Walt Disney Productions                          29\n",
       "Dimension Films                                  28\n",
       "United Artists                                   23\n",
       "Imagine Entertainment|Universal Pictures         22\n",
       "Marvel Studios                                   22\n",
       "Lions Gate Films                                 21\n",
       "The Asylum                                       21\n",
       "Walt Disney Pictures|Pixar Animation Studios     17\n",
       "New World Pictures                               17\n",
       "Name: production_companies, dtype: int64"
      ]
     },
     "execution_count": 24,
     "metadata": {},
     "output_type": "execute_result"
    }
   ],
   "source": [
    "df['production_companies'].value_counts().head(25)"
   ]
  },
  {
   "cell_type": "markdown",
   "metadata": {},
   "source": [
    "#### `release_date` column"
   ]
  },
  {
   "cell_type": "code",
   "execution_count": 25,
   "metadata": {},
   "outputs": [
    {
     "data": {
      "text/plain": [
       "7872       1/1/79\n",
       "5665      4/20/13\n",
       "1023      3/21/14\n",
       "4936     11/23/12\n",
       "2320      8/12/10\n",
       "7502      9/20/07\n",
       "2837       8/3/01\n",
       "6961      9/22/06\n",
       "10018     8/10/90\n",
       "10429    10/30/67\n",
       "Name: release_date, dtype: object"
      ]
     },
     "execution_count": 25,
     "metadata": {},
     "output_type": "execute_result"
    }
   ],
   "source": [
    "df['release_date'].sample(10)"
   ]
  },
  {
   "cell_type": "markdown",
   "metadata": {},
   "source": [
    "#### `vote_count` column"
   ]
  },
  {
   "cell_type": "code",
   "execution_count": 26,
   "metadata": {},
   "outputs": [
    {
     "data": {
      "text/plain": [
       "839     393\n",
       "1613    108\n",
       "3816     17\n",
       "2985    197\n",
       "2479    196\n",
       "5284     12\n",
       "9759    456\n",
       "9900     11\n",
       "5537    242\n",
       "512      27\n",
       "Name: vote_count, dtype: int64"
      ]
     },
     "execution_count": 26,
     "metadata": {},
     "output_type": "execute_result"
    }
   ],
   "source": [
    "df['vote_count'].sample(10)"
   ]
  },
  {
   "cell_type": "code",
   "execution_count": 27,
   "metadata": {},
   "outputs": [
    {
     "data": {
      "text/plain": [
       "count    10866.000000\n",
       "mean       217.389748\n",
       "std        575.619058\n",
       "min         10.000000\n",
       "25%         17.000000\n",
       "50%         38.000000\n",
       "75%        145.750000\n",
       "max       9767.000000\n",
       "Name: vote_count, dtype: float64"
      ]
     },
     "execution_count": 27,
     "metadata": {},
     "output_type": "execute_result"
    }
   ],
   "source": [
    "#to get a sense of the numbers\n",
    "df['vote_count'].describe()"
   ]
  },
  {
   "cell_type": "markdown",
   "metadata": {},
   "source": [
    "#### `popularity` column"
   ]
  },
  {
   "cell_type": "code",
   "execution_count": 28,
   "metadata": {},
   "outputs": [
    {
     "data": {
      "text/plain": [
       "count    10866.000000\n",
       "mean         0.646441\n",
       "std          1.000185\n",
       "min          0.000065\n",
       "25%          0.207583\n",
       "50%          0.383856\n",
       "75%          0.713817\n",
       "max         32.985763\n",
       "Name: popularity, dtype: float64"
      ]
     },
     "execution_count": 28,
     "metadata": {},
     "output_type": "execute_result"
    }
   ],
   "source": [
    "#to get a sense of the numbers\n",
    "df['popularity'].describe()"
   ]
  },
  {
   "cell_type": "code",
   "execution_count": 29,
   "metadata": {},
   "outputs": [
    {
     "data": {
      "text/plain": [
       "6.500000000000001e-05"
      ]
     },
     "execution_count": 29,
     "metadata": {},
     "output_type": "execute_result"
    }
   ],
   "source": [
    "df['popularity'].min()"
   ]
  },
  {
   "cell_type": "code",
   "execution_count": 30,
   "metadata": {},
   "outputs": [
    {
     "data": {
      "text/html": [
       "<div>\n",
       "<style scoped>\n",
       "    .dataframe tbody tr th:only-of-type {\n",
       "        vertical-align: middle;\n",
       "    }\n",
       "\n",
       "    .dataframe tbody tr th {\n",
       "        vertical-align: top;\n",
       "    }\n",
       "\n",
       "    .dataframe thead th {\n",
       "        text-align: right;\n",
       "    }\n",
       "</style>\n",
       "<table border=\"1\" class=\"dataframe\">\n",
       "  <thead>\n",
       "    <tr style=\"text-align: right;\">\n",
       "      <th></th>\n",
       "      <th>id</th>\n",
       "      <th>imdb_id</th>\n",
       "      <th>popularity</th>\n",
       "      <th>budget</th>\n",
       "      <th>revenue</th>\n",
       "      <th>original_title</th>\n",
       "      <th>cast</th>\n",
       "      <th>homepage</th>\n",
       "      <th>director</th>\n",
       "      <th>tagline</th>\n",
       "      <th>...</th>\n",
       "      <th>overview</th>\n",
       "      <th>runtime</th>\n",
       "      <th>genres</th>\n",
       "      <th>production_companies</th>\n",
       "      <th>release_date</th>\n",
       "      <th>vote_count</th>\n",
       "      <th>vote_average</th>\n",
       "      <th>release_year</th>\n",
       "      <th>budget_adj</th>\n",
       "      <th>revenue_adj</th>\n",
       "    </tr>\n",
       "  </thead>\n",
       "  <tbody>\n",
       "    <tr>\n",
       "      <td>6181</td>\n",
       "      <td>18729</td>\n",
       "      <td>tt0088583</td>\n",
       "      <td>0.000065</td>\n",
       "      <td>0</td>\n",
       "      <td>0</td>\n",
       "      <td>North and South, Book I</td>\n",
       "      <td>Patrick Swayze|Philip Casnoff|Kirstie Alley|Ge...</td>\n",
       "      <td>NaN</td>\n",
       "      <td>NaN</td>\n",
       "      <td>NaN</td>\n",
       "      <td>...</td>\n",
       "      <td>Two friends, one northern and one southern, st...</td>\n",
       "      <td>561</td>\n",
       "      <td>Drama|History|Western</td>\n",
       "      <td>NaN</td>\n",
       "      <td>11/3/85</td>\n",
       "      <td>17</td>\n",
       "      <td>6.0</td>\n",
       "      <td>1985</td>\n",
       "      <td>0.0</td>\n",
       "      <td>0.0</td>\n",
       "    </tr>\n",
       "  </tbody>\n",
       "</table>\n",
       "<p>1 rows × 21 columns</p>\n",
       "</div>"
      ],
      "text/plain": [
       "         id    imdb_id  popularity  budget  revenue           original_title  \\\n",
       "6181  18729  tt0088583    0.000065       0        0  North and South, Book I   \n",
       "\n",
       "                                                   cast homepage director  \\\n",
       "6181  Patrick Swayze|Philip Casnoff|Kirstie Alley|Ge...      NaN      NaN   \n",
       "\n",
       "     tagline  ...                                           overview runtime  \\\n",
       "6181     NaN  ...  Two friends, one northern and one southern, st...     561   \n",
       "\n",
       "                     genres production_companies release_date vote_count  \\\n",
       "6181  Drama|History|Western                  NaN      11/3/85         17   \n",
       "\n",
       "      vote_average  release_year  budget_adj  revenue_adj  \n",
       "6181           6.0          1985         0.0          0.0  \n",
       "\n",
       "[1 rows x 21 columns]"
      ]
     },
     "execution_count": 30,
     "metadata": {},
     "output_type": "execute_result"
    }
   ],
   "source": [
    "df[df['popularity'] == df['popularity'].min()] "
   ]
  },
  {
   "cell_type": "markdown",
   "metadata": {},
   "source": [
    "Runtime is 561 mins which is wierd!!"
   ]
  },
  {
   "cell_type": "markdown",
   "metadata": {},
   "source": [
    "#### `runtime` column"
   ]
  },
  {
   "cell_type": "code",
   "execution_count": 31,
   "metadata": {},
   "outputs": [
    {
     "data": {
      "text/plain": [
       "145"
      ]
     },
     "execution_count": 31,
     "metadata": {},
     "output_type": "execute_result"
    }
   ],
   "source": [
    "sum(df['runtime'] >= 180)"
   ]
  },
  {
   "cell_type": "markdown",
   "metadata": {},
   "source": [
    "Apparantly, there's something wrong"
   ]
  },
  {
   "cell_type": "code",
   "execution_count": 32,
   "metadata": {},
   "outputs": [
    {
     "data": {
      "text/html": [
       "<div>\n",
       "<style scoped>\n",
       "    .dataframe tbody tr th:only-of-type {\n",
       "        vertical-align: middle;\n",
       "    }\n",
       "\n",
       "    .dataframe tbody tr th {\n",
       "        vertical-align: top;\n",
       "    }\n",
       "\n",
       "    .dataframe thead th {\n",
       "        text-align: right;\n",
       "    }\n",
       "</style>\n",
       "<table border=\"1\" class=\"dataframe\">\n",
       "  <thead>\n",
       "    <tr style=\"text-align: right;\">\n",
       "      <th></th>\n",
       "      <th>id</th>\n",
       "      <th>imdb_id</th>\n",
       "      <th>popularity</th>\n",
       "      <th>budget</th>\n",
       "      <th>revenue</th>\n",
       "      <th>original_title</th>\n",
       "      <th>cast</th>\n",
       "      <th>homepage</th>\n",
       "      <th>director</th>\n",
       "      <th>tagline</th>\n",
       "      <th>...</th>\n",
       "      <th>overview</th>\n",
       "      <th>runtime</th>\n",
       "      <th>genres</th>\n",
       "      <th>production_companies</th>\n",
       "      <th>release_date</th>\n",
       "      <th>vote_count</th>\n",
       "      <th>vote_average</th>\n",
       "      <th>release_year</th>\n",
       "      <th>budget_adj</th>\n",
       "      <th>revenue_adj</th>\n",
       "    </tr>\n",
       "  </thead>\n",
       "  <tbody>\n",
       "    <tr>\n",
       "      <td>10443</td>\n",
       "      <td>8095</td>\n",
       "      <td>tt0056937</td>\n",
       "      <td>0.804533</td>\n",
       "      <td>31115000</td>\n",
       "      <td>57750000</td>\n",
       "      <td>Cleopatra</td>\n",
       "      <td>Elizabeth Taylor|Richard Burton|Rex Harrison|R...</td>\n",
       "      <td>NaN</td>\n",
       "      <td>Joseph L. Mankiewicz|Rouben Mamoulian|Darryl F...</td>\n",
       "      <td>The motion picture the world has been waiting ...</td>\n",
       "      <td>...</td>\n",
       "      <td>Historical epic. The triumphs and tragedy of t...</td>\n",
       "      <td>248</td>\n",
       "      <td>Drama|History|Romance</td>\n",
       "      <td>Twentieth Century Fox Film Corporation|MCL Fil...</td>\n",
       "      <td>6/12/63</td>\n",
       "      <td>68</td>\n",
       "      <td>6.3</td>\n",
       "      <td>1963</td>\n",
       "      <td>2.215444e+08</td>\n",
       "      <td>4.111904e+08</td>\n",
       "    </tr>\n",
       "    <tr>\n",
       "      <td>7164</td>\n",
       "      <td>30698</td>\n",
       "      <td>tt0400435</td>\n",
       "      <td>0.290518</td>\n",
       "      <td>0</td>\n",
       "      <td>0</td>\n",
       "      <td>The Five People You Meet In Heaven</td>\n",
       "      <td>Jon Voight|Ellen Burstyn|Jeff Daniels|Dagmara ...</td>\n",
       "      <td>NaN</td>\n",
       "      <td>Lloyd Kramer</td>\n",
       "      <td>NaN</td>\n",
       "      <td>...</td>\n",
       "      <td>On his 83rd birthday, Eddie (Voight), a war ve...</td>\n",
       "      <td>180</td>\n",
       "      <td>Drama|Fantasy|Science Fiction</td>\n",
       "      <td>NaN</td>\n",
       "      <td>12/5/04</td>\n",
       "      <td>15</td>\n",
       "      <td>6.7</td>\n",
       "      <td>2004</td>\n",
       "      <td>0.000000e+00</td>\n",
       "      <td>0.000000e+00</td>\n",
       "    </tr>\n",
       "    <tr>\n",
       "      <td>1678</td>\n",
       "      <td>61872</td>\n",
       "      <td>tt1461312</td>\n",
       "      <td>0.342084</td>\n",
       "      <td>0</td>\n",
       "      <td>0</td>\n",
       "      <td>Alice</td>\n",
       "      <td>Caterina Scorsone|Kathy Bates|Andrew-Lee Potts...</td>\n",
       "      <td>NaN</td>\n",
       "      <td>Nick Willing</td>\n",
       "      <td>Welcome to a whole new Wonderland.</td>\n",
       "      <td>...</td>\n",
       "      <td>The story takes place in Wonderland 150 years ...</td>\n",
       "      <td>240</td>\n",
       "      <td>Fantasy|Drama|Science Fiction</td>\n",
       "      <td>NaN</td>\n",
       "      <td>12/6/09</td>\n",
       "      <td>32</td>\n",
       "      <td>6.0</td>\n",
       "      <td>2009</td>\n",
       "      <td>0.000000e+00</td>\n",
       "      <td>0.000000e+00</td>\n",
       "    </tr>\n",
       "    <tr>\n",
       "      <td>3708</td>\n",
       "      <td>76115</td>\n",
       "      <td>tt2077886</td>\n",
       "      <td>0.295301</td>\n",
       "      <td>0</td>\n",
       "      <td>0</td>\n",
       "      <td>The Phantom of the Opera at the Royal Albert Hall</td>\n",
       "      <td>Ramin Karimloo|Sierra Boggess|Hadley Fraser|Ki...</td>\n",
       "      <td>NaN</td>\n",
       "      <td>Nick Morris|Laurence Connor</td>\n",
       "      <td>Be Seduced</td>\n",
       "      <td>...</td>\n",
       "      <td>A disfigured musical genius, hidden away in th...</td>\n",
       "      <td>202</td>\n",
       "      <td>Drama|Music|Romance</td>\n",
       "      <td>THE REALLY USEFUL THEATRE COMPANY PRODUCTION|C...</td>\n",
       "      <td>9/27/11</td>\n",
       "      <td>15</td>\n",
       "      <td>7.6</td>\n",
       "      <td>2011</td>\n",
       "      <td>0.000000e+00</td>\n",
       "      <td>0.000000e+00</td>\n",
       "    </tr>\n",
       "    <tr>\n",
       "      <td>2598</td>\n",
       "      <td>5319</td>\n",
       "      <td>tt0150992</td>\n",
       "      <td>0.161076</td>\n",
       "      <td>0</td>\n",
       "      <td>0</td>\n",
       "      <td>Hum Dil De Chuke Sanam</td>\n",
       "      <td>Aishwarya Rai Bachchan|Salman Khan|Ajay Devgn|...</td>\n",
       "      <td>NaN</td>\n",
       "      <td>Sanjay Leela Bhansali</td>\n",
       "      <td>NaN</td>\n",
       "      <td>...</td>\n",
       "      <td>Indian-based traditional family of Pundit Darb...</td>\n",
       "      <td>188</td>\n",
       "      <td>Drama|Romance</td>\n",
       "      <td>Bhansali Films</td>\n",
       "      <td>6/18/99</td>\n",
       "      <td>16</td>\n",
       "      <td>6.6</td>\n",
       "      <td>1999</td>\n",
       "      <td>0.000000e+00</td>\n",
       "      <td>0.000000e+00</td>\n",
       "    </tr>\n",
       "  </tbody>\n",
       "</table>\n",
       "<p>5 rows × 21 columns</p>\n",
       "</div>"
      ],
      "text/plain": [
       "          id    imdb_id  popularity    budget   revenue  \\\n",
       "10443   8095  tt0056937    0.804533  31115000  57750000   \n",
       "7164   30698  tt0400435    0.290518         0         0   \n",
       "1678   61872  tt1461312    0.342084         0         0   \n",
       "3708   76115  tt2077886    0.295301         0         0   \n",
       "2598    5319  tt0150992    0.161076         0         0   \n",
       "\n",
       "                                          original_title  \\\n",
       "10443                                          Cleopatra   \n",
       "7164                  The Five People You Meet In Heaven   \n",
       "1678                                               Alice   \n",
       "3708   The Phantom of the Opera at the Royal Albert Hall   \n",
       "2598                              Hum Dil De Chuke Sanam   \n",
       "\n",
       "                                                    cast homepage  \\\n",
       "10443  Elizabeth Taylor|Richard Burton|Rex Harrison|R...      NaN   \n",
       "7164   Jon Voight|Ellen Burstyn|Jeff Daniels|Dagmara ...      NaN   \n",
       "1678   Caterina Scorsone|Kathy Bates|Andrew-Lee Potts...      NaN   \n",
       "3708   Ramin Karimloo|Sierra Boggess|Hadley Fraser|Ki...      NaN   \n",
       "2598   Aishwarya Rai Bachchan|Salman Khan|Ajay Devgn|...      NaN   \n",
       "\n",
       "                                                director  \\\n",
       "10443  Joseph L. Mankiewicz|Rouben Mamoulian|Darryl F...   \n",
       "7164                                        Lloyd Kramer   \n",
       "1678                                        Nick Willing   \n",
       "3708                         Nick Morris|Laurence Connor   \n",
       "2598                               Sanjay Leela Bhansali   \n",
       "\n",
       "                                                 tagline  ...  \\\n",
       "10443  The motion picture the world has been waiting ...  ...   \n",
       "7164                                                 NaN  ...   \n",
       "1678                  Welcome to a whole new Wonderland.  ...   \n",
       "3708                                          Be Seduced  ...   \n",
       "2598                                                 NaN  ...   \n",
       "\n",
       "                                                overview runtime  \\\n",
       "10443  Historical epic. The triumphs and tragedy of t...     248   \n",
       "7164   On his 83rd birthday, Eddie (Voight), a war ve...     180   \n",
       "1678   The story takes place in Wonderland 150 years ...     240   \n",
       "3708   A disfigured musical genius, hidden away in th...     202   \n",
       "2598   Indian-based traditional family of Pundit Darb...     188   \n",
       "\n",
       "                              genres  \\\n",
       "10443          Drama|History|Romance   \n",
       "7164   Drama|Fantasy|Science Fiction   \n",
       "1678   Fantasy|Drama|Science Fiction   \n",
       "3708             Drama|Music|Romance   \n",
       "2598                   Drama|Romance   \n",
       "\n",
       "                                    production_companies release_date  \\\n",
       "10443  Twentieth Century Fox Film Corporation|MCL Fil...      6/12/63   \n",
       "7164                                                 NaN      12/5/04   \n",
       "1678                                                 NaN      12/6/09   \n",
       "3708   THE REALLY USEFUL THEATRE COMPANY PRODUCTION|C...      9/27/11   \n",
       "2598                                      Bhansali Films      6/18/99   \n",
       "\n",
       "      vote_count  vote_average  release_year    budget_adj   revenue_adj  \n",
       "10443         68           6.3          1963  2.215444e+08  4.111904e+08  \n",
       "7164          15           6.7          2004  0.000000e+00  0.000000e+00  \n",
       "1678          32           6.0          2009  0.000000e+00  0.000000e+00  \n",
       "3708          15           7.6          2011  0.000000e+00  0.000000e+00  \n",
       "2598          16           6.6          1999  0.000000e+00  0.000000e+00  \n",
       "\n",
       "[5 rows x 21 columns]"
      ]
     },
     "execution_count": 32,
     "metadata": {},
     "output_type": "execute_result"
    }
   ],
   "source": [
    "df[df['runtime'] >= 180].sample(5)"
   ]
  },
  {
   "cell_type": "markdown",
   "metadata": {},
   "source": [
    "The dataset has movies and series/miniseries which is considered a tidiness issue"
   ]
  },
  {
   "cell_type": "markdown",
   "metadata": {},
   "source": [
    "#### `genres` column"
   ]
  },
  {
   "cell_type": "code",
   "execution_count": 33,
   "metadata": {},
   "outputs": [
    {
     "data": {
      "text/plain": [
       "Comedy                  712\n",
       "Drama                   712\n",
       "Documentary             312\n",
       "Drama|Romance           289\n",
       "Comedy|Drama            280\n",
       "Comedy|Romance          268\n",
       "Horror|Thriller         259\n",
       "Horror                  253\n",
       "Comedy|Drama|Romance    222\n",
       "Drama|Thriller          138\n",
       "Comedy|Family           102\n",
       "Action|Thriller         101\n",
       "Thriller                 93\n",
       "Drama|Comedy             92\n",
       "Animation|Family         90\n",
       "Name: genres, dtype: int64"
      ]
     },
     "execution_count": 33,
     "metadata": {},
     "output_type": "execute_result"
    }
   ],
   "source": [
    "df['genres'].value_counts().sort_values(ascending=False).head(15)"
   ]
  },
  {
   "cell_type": "markdown",
   "metadata": {},
   "source": [
    "#### `budget` & `budget_adj` columns"
   ]
  },
  {
   "cell_type": "code",
   "execution_count": 34,
   "metadata": {},
   "outputs": [
    {
     "data": {
      "text/plain": [
       "count    1.086600e+04\n",
       "mean     1.462570e+07\n",
       "std      3.091321e+07\n",
       "min      0.000000e+00\n",
       "25%      0.000000e+00\n",
       "50%      0.000000e+00\n",
       "75%      1.500000e+07\n",
       "max      4.250000e+08\n",
       "Name: budget, dtype: float64"
      ]
     },
     "execution_count": 34,
     "metadata": {},
     "output_type": "execute_result"
    }
   ],
   "source": [
    "#to get a sense of the range of values in the budget column\n",
    "df['budget'].describe()"
   ]
  },
  {
   "cell_type": "code",
   "execution_count": 35,
   "metadata": {},
   "outputs": [
    {
     "data": {
      "text/html": [
       "<div>\n",
       "<style scoped>\n",
       "    .dataframe tbody tr th:only-of-type {\n",
       "        vertical-align: middle;\n",
       "    }\n",
       "\n",
       "    .dataframe tbody tr th {\n",
       "        vertical-align: top;\n",
       "    }\n",
       "\n",
       "    .dataframe thead th {\n",
       "        text-align: right;\n",
       "    }\n",
       "</style>\n",
       "<table border=\"1\" class=\"dataframe\">\n",
       "  <thead>\n",
       "    <tr style=\"text-align: right;\">\n",
       "      <th></th>\n",
       "      <th>id</th>\n",
       "      <th>imdb_id</th>\n",
       "      <th>popularity</th>\n",
       "      <th>budget</th>\n",
       "      <th>revenue</th>\n",
       "      <th>original_title</th>\n",
       "      <th>cast</th>\n",
       "      <th>homepage</th>\n",
       "      <th>director</th>\n",
       "      <th>tagline</th>\n",
       "      <th>...</th>\n",
       "      <th>overview</th>\n",
       "      <th>runtime</th>\n",
       "      <th>genres</th>\n",
       "      <th>production_companies</th>\n",
       "      <th>release_date</th>\n",
       "      <th>vote_count</th>\n",
       "      <th>vote_average</th>\n",
       "      <th>release_year</th>\n",
       "      <th>budget_adj</th>\n",
       "      <th>revenue_adj</th>\n",
       "    </tr>\n",
       "  </thead>\n",
       "  <tbody>\n",
       "    <tr>\n",
       "      <td>7459</td>\n",
       "      <td>13649</td>\n",
       "      <td>tt0810900</td>\n",
       "      <td>0.996329</td>\n",
       "      <td>0</td>\n",
       "      <td>7000000</td>\n",
       "      <td>High School Musical 2</td>\n",
       "      <td>Zac Efron|Vanessa Hudgens|Ashley Tisdale|Lucas...</td>\n",
       "      <td>http://www.disneychannel.com/highschoolmusical2</td>\n",
       "      <td>Kenny Ortega</td>\n",
       "      <td>NaN</td>\n",
       "      <td>...</td>\n",
       "      <td>The East High Wildcats are ready to have the t...</td>\n",
       "      <td>104</td>\n",
       "      <td>Comedy|Drama|Family|Music</td>\n",
       "      <td>Disney Channel</td>\n",
       "      <td>8/17/07</td>\n",
       "      <td>448</td>\n",
       "      <td>6.0</td>\n",
       "      <td>2007</td>\n",
       "      <td>0.0</td>\n",
       "      <td>7.361680e+06</td>\n",
       "    </tr>\n",
       "    <tr>\n",
       "      <td>8963</td>\n",
       "      <td>49483</td>\n",
       "      <td>tt0084438</td>\n",
       "      <td>0.051755</td>\n",
       "      <td>0</td>\n",
       "      <td>0</td>\n",
       "      <td>Oliver Twist</td>\n",
       "      <td>George C. Scott|Tim Curry|Michael Hordern|Timo...</td>\n",
       "      <td>NaN</td>\n",
       "      <td>Clive Donner</td>\n",
       "      <td>A Compelling New Version of the Great Victoria...</td>\n",
       "      <td>...</td>\n",
       "      <td>The classic Dickens tale of an orphan boy who ...</td>\n",
       "      <td>103</td>\n",
       "      <td>TV Movie|Crime|Drama</td>\n",
       "      <td>Norman Rosemont Productions|Claridge Productio...</td>\n",
       "      <td>3/23/82</td>\n",
       "      <td>15</td>\n",
       "      <td>6.0</td>\n",
       "      <td>1982</td>\n",
       "      <td>0.0</td>\n",
       "      <td>0.000000e+00</td>\n",
       "    </tr>\n",
       "    <tr>\n",
       "      <td>5333</td>\n",
       "      <td>11210</td>\n",
       "      <td>tt0117496</td>\n",
       "      <td>0.419759</td>\n",
       "      <td>0</td>\n",
       "      <td>0</td>\n",
       "      <td>Robinson Crusoe</td>\n",
       "      <td>Pierce Brosnan|James Frain|Polly Walker|Ian Ha...</td>\n",
       "      <td>NaN</td>\n",
       "      <td>Rod Hardy|George T. Miller</td>\n",
       "      <td>NaN</td>\n",
       "      <td>...</td>\n",
       "      <td>Robinson Crusoe flees Britain on a ship after ...</td>\n",
       "      <td>92</td>\n",
       "      <td>Action|Adventure|Drama</td>\n",
       "      <td>Miramax</td>\n",
       "      <td>6/11/97</td>\n",
       "      <td>17</td>\n",
       "      <td>5.0</td>\n",
       "      <td>1997</td>\n",
       "      <td>0.0</td>\n",
       "      <td>0.000000e+00</td>\n",
       "    </tr>\n",
       "  </tbody>\n",
       "</table>\n",
       "<p>3 rows × 21 columns</p>\n",
       "</div>"
      ],
      "text/plain": [
       "         id    imdb_id  popularity  budget  revenue         original_title  \\\n",
       "7459  13649  tt0810900    0.996329       0  7000000  High School Musical 2   \n",
       "8963  49483  tt0084438    0.051755       0        0           Oliver Twist   \n",
       "5333  11210  tt0117496    0.419759       0        0        Robinson Crusoe   \n",
       "\n",
       "                                                   cast  \\\n",
       "7459  Zac Efron|Vanessa Hudgens|Ashley Tisdale|Lucas...   \n",
       "8963  George C. Scott|Tim Curry|Michael Hordern|Timo...   \n",
       "5333  Pierce Brosnan|James Frain|Polly Walker|Ian Ha...   \n",
       "\n",
       "                                             homepage  \\\n",
       "7459  http://www.disneychannel.com/highschoolmusical2   \n",
       "8963                                              NaN   \n",
       "5333                                              NaN   \n",
       "\n",
       "                        director  \\\n",
       "7459                Kenny Ortega   \n",
       "8963                Clive Donner   \n",
       "5333  Rod Hardy|George T. Miller   \n",
       "\n",
       "                                                tagline  ...  \\\n",
       "7459                                                NaN  ...   \n",
       "8963  A Compelling New Version of the Great Victoria...  ...   \n",
       "5333                                                NaN  ...   \n",
       "\n",
       "                                               overview runtime  \\\n",
       "7459  The East High Wildcats are ready to have the t...     104   \n",
       "8963  The classic Dickens tale of an orphan boy who ...     103   \n",
       "5333  Robinson Crusoe flees Britain on a ship after ...      92   \n",
       "\n",
       "                         genres  \\\n",
       "7459  Comedy|Drama|Family|Music   \n",
       "8963       TV Movie|Crime|Drama   \n",
       "5333     Action|Adventure|Drama   \n",
       "\n",
       "                                   production_companies release_date  \\\n",
       "7459                                     Disney Channel      8/17/07   \n",
       "8963  Norman Rosemont Productions|Claridge Productio...      3/23/82   \n",
       "5333                                            Miramax      6/11/97   \n",
       "\n",
       "     vote_count  vote_average  release_year  budget_adj   revenue_adj  \n",
       "7459        448           6.0          2007         0.0  7.361680e+06  \n",
       "8963         15           6.0          1982         0.0  0.000000e+00  \n",
       "5333         17           5.0          1997         0.0  0.000000e+00  \n",
       "\n",
       "[3 rows x 21 columns]"
      ]
     },
     "execution_count": 35,
     "metadata": {},
     "output_type": "execute_result"
    }
   ],
   "source": [
    "#because it doesn't make sense to have a budget of zero\n",
    "df[df['budget'] == 0].sample(3)"
   ]
  },
  {
   "cell_type": "code",
   "execution_count": 36,
   "metadata": {},
   "outputs": [
    {
     "data": {
      "text/plain": [
       "0.0"
      ]
     },
     "execution_count": 36,
     "metadata": {},
     "output_type": "execute_result"
    }
   ],
   "source": [
    "# let's check if we can fix them by using the 2010 dollar values\n",
    "df['budget_adj'].min()"
   ]
  },
  {
   "cell_type": "code",
   "execution_count": 37,
   "metadata": {},
   "outputs": [
    {
     "data": {
      "text/plain": [
       "count    1.086600e+04\n",
       "mean     1.755104e+07\n",
       "std      3.430616e+07\n",
       "min      0.000000e+00\n",
       "25%      0.000000e+00\n",
       "50%      0.000000e+00\n",
       "75%      2.085325e+07\n",
       "max      4.250000e+08\n",
       "Name: budget_adj, dtype: float64"
      ]
     },
     "execution_count": 37,
     "metadata": {},
     "output_type": "execute_result"
    }
   ],
   "source": [
    "df['budget_adj'].describe()"
   ]
  },
  {
   "cell_type": "markdown",
   "metadata": {},
   "source": [
    "#### `revenue` & `revenue_adj` columns"
   ]
  },
  {
   "cell_type": "code",
   "execution_count": 38,
   "metadata": {},
   "outputs": [
    {
     "data": {
      "text/plain": [
       "count    1.086600e+04\n",
       "mean     3.982332e+07\n",
       "std      1.170035e+08\n",
       "min      0.000000e+00\n",
       "25%      0.000000e+00\n",
       "50%      0.000000e+00\n",
       "75%      2.400000e+07\n",
       "max      2.781506e+09\n",
       "Name: revenue, dtype: float64"
      ]
     },
     "execution_count": 38,
     "metadata": {},
     "output_type": "execute_result"
    }
   ],
   "source": [
    "# to get a sense of the range of values in revenue\n",
    "df['revenue'].describe()"
   ]
  },
  {
   "cell_type": "code",
   "execution_count": 39,
   "metadata": {},
   "outputs": [
    {
     "data": {
      "text/plain": [
       "6016"
      ]
     },
     "execution_count": 39,
     "metadata": {},
     "output_type": "execute_result"
    }
   ],
   "source": [
    "sum(df['revenue'] == 0)"
   ]
  },
  {
   "cell_type": "code",
   "execution_count": 40,
   "metadata": {},
   "outputs": [
    {
     "data": {
      "text/plain": [
       "4850"
      ]
     },
     "execution_count": 40,
     "metadata": {},
     "output_type": "execute_result"
    }
   ],
   "source": [
    "sum(df['revenue'] != 0)"
   ]
  },
  {
   "cell_type": "code",
   "execution_count": 41,
   "metadata": {},
   "outputs": [
    {
     "data": {
      "text/plain": [
       "count    1.086600e+04\n",
       "mean     5.136436e+07\n",
       "std      1.446325e+08\n",
       "min      0.000000e+00\n",
       "25%      0.000000e+00\n",
       "50%      0.000000e+00\n",
       "75%      3.369710e+07\n",
       "max      2.827124e+09\n",
       "Name: revenue_adj, dtype: float64"
      ]
     },
     "execution_count": 41,
     "metadata": {},
     "output_type": "execute_result"
    }
   ],
   "source": [
    "# to get a sense of the range of values in revenue\n",
    "df['revenue_adj'].describe()"
   ]
  },
  {
   "cell_type": "code",
   "execution_count": 42,
   "metadata": {},
   "outputs": [
    {
     "data": {
      "text/html": [
       "<div>\n",
       "<style scoped>\n",
       "    .dataframe tbody tr th:only-of-type {\n",
       "        vertical-align: middle;\n",
       "    }\n",
       "\n",
       "    .dataframe tbody tr th {\n",
       "        vertical-align: top;\n",
       "    }\n",
       "\n",
       "    .dataframe thead th {\n",
       "        text-align: right;\n",
       "    }\n",
       "</style>\n",
       "<table border=\"1\" class=\"dataframe\">\n",
       "  <thead>\n",
       "    <tr style=\"text-align: right;\">\n",
       "      <th></th>\n",
       "      <th>id</th>\n",
       "      <th>imdb_id</th>\n",
       "      <th>popularity</th>\n",
       "      <th>budget</th>\n",
       "      <th>revenue</th>\n",
       "      <th>original_title</th>\n",
       "      <th>cast</th>\n",
       "      <th>homepage</th>\n",
       "      <th>director</th>\n",
       "      <th>tagline</th>\n",
       "      <th>...</th>\n",
       "      <th>overview</th>\n",
       "      <th>runtime</th>\n",
       "      <th>genres</th>\n",
       "      <th>production_companies</th>\n",
       "      <th>release_date</th>\n",
       "      <th>vote_count</th>\n",
       "      <th>vote_average</th>\n",
       "      <th>release_year</th>\n",
       "      <th>budget_adj</th>\n",
       "      <th>revenue_adj</th>\n",
       "    </tr>\n",
       "  </thead>\n",
       "  <tbody>\n",
       "    <tr>\n",
       "      <td>5652</td>\n",
       "      <td>215962</td>\n",
       "      <td>tt2573858</td>\n",
       "      <td>0.517151</td>\n",
       "      <td>600000</td>\n",
       "      <td>0</td>\n",
       "      <td>The Stag</td>\n",
       "      <td>Andrew Scott|Hugh O'Conor|Peter McDonald|Brian...</td>\n",
       "      <td>NaN</td>\n",
       "      <td>John Butler</td>\n",
       "      <td>Mistakes were made</td>\n",
       "      <td>...</td>\n",
       "      <td>At his fiancÃ©eâ€™s urging, a very modern Iris...</td>\n",
       "      <td>94</td>\n",
       "      <td>Comedy</td>\n",
       "      <td>Treasure Entertainment</td>\n",
       "      <td>9/10/13</td>\n",
       "      <td>25</td>\n",
       "      <td>5.0</td>\n",
       "      <td>2013</td>\n",
       "      <td>561620.011644</td>\n",
       "      <td>0.0</td>\n",
       "    </tr>\n",
       "    <tr>\n",
       "      <td>5185</td>\n",
       "      <td>13778</td>\n",
       "      <td>tt0325258</td>\n",
       "      <td>0.169652</td>\n",
       "      <td>0</td>\n",
       "      <td>0</td>\n",
       "      <td>Dickie Roberts: Former Child Star</td>\n",
       "      <td>David Spade|Mary McCormack|Craig Bierko|Scott ...</td>\n",
       "      <td>NaN</td>\n",
       "      <td>Sam Weisman</td>\n",
       "      <td>50 million people used to watch him on TV. Now...</td>\n",
       "      <td>...</td>\n",
       "      <td>TV child star of the '70s, Dickie Roberts is n...</td>\n",
       "      <td>98</td>\n",
       "      <td>Comedy</td>\n",
       "      <td>Paramount Pictures|Happy Madison Productions</td>\n",
       "      <td>9/5/03</td>\n",
       "      <td>27</td>\n",
       "      <td>5.4</td>\n",
       "      <td>2003</td>\n",
       "      <td>0.000000</td>\n",
       "      <td>0.0</td>\n",
       "    </tr>\n",
       "    <tr>\n",
       "      <td>5960</td>\n",
       "      <td>218460</td>\n",
       "      <td>tt2274172</td>\n",
       "      <td>0.134357</td>\n",
       "      <td>0</td>\n",
       "      <td>0</td>\n",
       "      <td>The Contractor</td>\n",
       "      <td>Danny Trejo|Christina Cox|Brad Rowe|Taylor Spr...</td>\n",
       "      <td>NaN</td>\n",
       "      <td>Sean Olson</td>\n",
       "      <td>NaN</td>\n",
       "      <td>...</td>\n",
       "      <td>Elizabeth Chase is busy remodeling her new hom...</td>\n",
       "      <td>87</td>\n",
       "      <td>Crime|Drama|Thriller</td>\n",
       "      <td>Hybrid</td>\n",
       "      <td>9/2/13</td>\n",
       "      <td>10</td>\n",
       "      <td>2.4</td>\n",
       "      <td>2013</td>\n",
       "      <td>0.000000</td>\n",
       "      <td>0.0</td>\n",
       "    </tr>\n",
       "  </tbody>\n",
       "</table>\n",
       "<p>3 rows × 21 columns</p>\n",
       "</div>"
      ],
      "text/plain": [
       "          id    imdb_id  popularity  budget  revenue  \\\n",
       "5652  215962  tt2573858    0.517151  600000        0   \n",
       "5185   13778  tt0325258    0.169652       0        0   \n",
       "5960  218460  tt2274172    0.134357       0        0   \n",
       "\n",
       "                         original_title  \\\n",
       "5652                           The Stag   \n",
       "5185  Dickie Roberts: Former Child Star   \n",
       "5960                     The Contractor   \n",
       "\n",
       "                                                   cast homepage     director  \\\n",
       "5652  Andrew Scott|Hugh O'Conor|Peter McDonald|Brian...      NaN  John Butler   \n",
       "5185  David Spade|Mary McCormack|Craig Bierko|Scott ...      NaN  Sam Weisman   \n",
       "5960  Danny Trejo|Christina Cox|Brad Rowe|Taylor Spr...      NaN   Sean Olson   \n",
       "\n",
       "                                                tagline  ...  \\\n",
       "5652                                 Mistakes were made  ...   \n",
       "5185  50 million people used to watch him on TV. Now...  ...   \n",
       "5960                                                NaN  ...   \n",
       "\n",
       "                                               overview runtime  \\\n",
       "5652  At his fiancÃ©eâ€™s urging, a very modern Iris...      94   \n",
       "5185  TV child star of the '70s, Dickie Roberts is n...      98   \n",
       "5960  Elizabeth Chase is busy remodeling her new hom...      87   \n",
       "\n",
       "                    genres                          production_companies  \\\n",
       "5652                Comedy                        Treasure Entertainment   \n",
       "5185                Comedy  Paramount Pictures|Happy Madison Productions   \n",
       "5960  Crime|Drama|Thriller                                        Hybrid   \n",
       "\n",
       "     release_date vote_count  vote_average  release_year     budget_adj  \\\n",
       "5652      9/10/13         25           5.0          2013  561620.011644   \n",
       "5185       9/5/03         27           5.4          2003       0.000000   \n",
       "5960       9/2/13         10           2.4          2013       0.000000   \n",
       "\n",
       "      revenue_adj  \n",
       "5652          0.0  \n",
       "5185          0.0  \n",
       "5960          0.0  \n",
       "\n",
       "[3 rows x 21 columns]"
      ]
     },
     "execution_count": 42,
     "metadata": {},
     "output_type": "execute_result"
    }
   ],
   "source": [
    "df[df['revenue'] == df['revenue'].min()].sample(3)"
   ]
  },
  {
   "cell_type": "code",
   "execution_count": 43,
   "metadata": {},
   "outputs": [
    {
     "data": {
      "text/html": [
       "<div>\n",
       "<style scoped>\n",
       "    .dataframe tbody tr th:only-of-type {\n",
       "        vertical-align: middle;\n",
       "    }\n",
       "\n",
       "    .dataframe tbody tr th {\n",
       "        vertical-align: top;\n",
       "    }\n",
       "\n",
       "    .dataframe thead th {\n",
       "        text-align: right;\n",
       "    }\n",
       "</style>\n",
       "<table border=\"1\" class=\"dataframe\">\n",
       "  <thead>\n",
       "    <tr style=\"text-align: right;\">\n",
       "      <th></th>\n",
       "      <th>id</th>\n",
       "      <th>imdb_id</th>\n",
       "      <th>popularity</th>\n",
       "      <th>budget</th>\n",
       "      <th>revenue</th>\n",
       "      <th>original_title</th>\n",
       "      <th>cast</th>\n",
       "      <th>homepage</th>\n",
       "      <th>director</th>\n",
       "      <th>tagline</th>\n",
       "      <th>...</th>\n",
       "      <th>overview</th>\n",
       "      <th>runtime</th>\n",
       "      <th>genres</th>\n",
       "      <th>production_companies</th>\n",
       "      <th>release_date</th>\n",
       "      <th>vote_count</th>\n",
       "      <th>vote_average</th>\n",
       "      <th>release_year</th>\n",
       "      <th>budget_adj</th>\n",
       "      <th>revenue_adj</th>\n",
       "    </tr>\n",
       "  </thead>\n",
       "  <tbody>\n",
       "    <tr>\n",
       "      <td>10789</td>\n",
       "      <td>34193</td>\n",
       "      <td>tt0077889</td>\n",
       "      <td>0.076600</td>\n",
       "      <td>0</td>\n",
       "      <td>0</td>\n",
       "      <td>Magic</td>\n",
       "      <td>Anthony Hopkins|Ann-Margret|Burgess Meredith|E...</td>\n",
       "      <td>NaN</td>\n",
       "      <td>Richard Attenborough</td>\n",
       "      <td>A terrifying love story.</td>\n",
       "      <td>...</td>\n",
       "      <td>A ventriloquist is at the mercy of his vicious...</td>\n",
       "      <td>107</td>\n",
       "      <td>Drama|Horror|Thriller</td>\n",
       "      <td>Twentieth Century Fox Film Corporation|Joseph ...</td>\n",
       "      <td>11/8/78</td>\n",
       "      <td>13</td>\n",
       "      <td>6.7</td>\n",
       "      <td>1978</td>\n",
       "      <td>0.000000e+00</td>\n",
       "      <td>0.0</td>\n",
       "    </tr>\n",
       "    <tr>\n",
       "      <td>1906</td>\n",
       "      <td>19238</td>\n",
       "      <td>tt1238304</td>\n",
       "      <td>0.169317</td>\n",
       "      <td>0</td>\n",
       "      <td>0</td>\n",
       "      <td>Table for Three</td>\n",
       "      <td>Jesse Bradford|Sophia Bush|Brandon Routh|Jenni...</td>\n",
       "      <td>NaN</td>\n",
       "      <td>Michael Samonek</td>\n",
       "      <td>Never trust a perfect couple.</td>\n",
       "      <td>...</td>\n",
       "      <td>A suddenly single guy invites what he thinks i...</td>\n",
       "      <td>93</td>\n",
       "      <td>Comedy|Romance</td>\n",
       "      <td>Starz Media</td>\n",
       "      <td>1/1/09</td>\n",
       "      <td>12</td>\n",
       "      <td>4.3</td>\n",
       "      <td>2009</td>\n",
       "      <td>0.000000e+00</td>\n",
       "      <td>0.0</td>\n",
       "    </tr>\n",
       "    <tr>\n",
       "      <td>8589</td>\n",
       "      <td>11229</td>\n",
       "      <td>tt0116361</td>\n",
       "      <td>0.361648</td>\n",
       "      <td>3000000</td>\n",
       "      <td>0</td>\n",
       "      <td>Freeway</td>\n",
       "      <td>Kiefer Sutherland|Reese Witherspoon|Wolfgang B...</td>\n",
       "      <td>NaN</td>\n",
       "      <td>Matthew Bright</td>\n",
       "      <td>Her life is no fairy tale.</td>\n",
       "      <td>...</td>\n",
       "      <td>Following the arrest of her mother, Ramona, yo...</td>\n",
       "      <td>110</td>\n",
       "      <td>Comedy|Drama|Thriller</td>\n",
       "      <td>The Kushner-Locke Company|August Entertainment...</td>\n",
       "      <td>8/23/96</td>\n",
       "      <td>30</td>\n",
       "      <td>6.6</td>\n",
       "      <td>1996</td>\n",
       "      <td>4.170650e+06</td>\n",
       "      <td>0.0</td>\n",
       "    </tr>\n",
       "  </tbody>\n",
       "</table>\n",
       "<p>3 rows × 21 columns</p>\n",
       "</div>"
      ],
      "text/plain": [
       "          id    imdb_id  popularity   budget  revenue   original_title  \\\n",
       "10789  34193  tt0077889    0.076600        0        0            Magic   \n",
       "1906   19238  tt1238304    0.169317        0        0  Table for Three   \n",
       "8589   11229  tt0116361    0.361648  3000000        0          Freeway   \n",
       "\n",
       "                                                    cast homepage  \\\n",
       "10789  Anthony Hopkins|Ann-Margret|Burgess Meredith|E...      NaN   \n",
       "1906   Jesse Bradford|Sophia Bush|Brandon Routh|Jenni...      NaN   \n",
       "8589   Kiefer Sutherland|Reese Witherspoon|Wolfgang B...      NaN   \n",
       "\n",
       "                   director                        tagline  ...  \\\n",
       "10789  Richard Attenborough       A terrifying love story.  ...   \n",
       "1906        Michael Samonek  Never trust a perfect couple.  ...   \n",
       "8589         Matthew Bright     Her life is no fairy tale.  ...   \n",
       "\n",
       "                                                overview runtime  \\\n",
       "10789  A ventriloquist is at the mercy of his vicious...     107   \n",
       "1906   A suddenly single guy invites what he thinks i...      93   \n",
       "8589   Following the arrest of her mother, Ramona, yo...     110   \n",
       "\n",
       "                      genres  \\\n",
       "10789  Drama|Horror|Thriller   \n",
       "1906          Comedy|Romance   \n",
       "8589   Comedy|Drama|Thriller   \n",
       "\n",
       "                                    production_companies release_date  \\\n",
       "10789  Twentieth Century Fox Film Corporation|Joseph ...      11/8/78   \n",
       "1906                                         Starz Media       1/1/09   \n",
       "8589   The Kushner-Locke Company|August Entertainment...      8/23/96   \n",
       "\n",
       "      vote_count  vote_average  release_year    budget_adj  revenue_adj  \n",
       "10789         13           6.7          1978  0.000000e+00          0.0  \n",
       "1906          12           4.3          2009  0.000000e+00          0.0  \n",
       "8589          30           6.6          1996  4.170650e+06          0.0  \n",
       "\n",
       "[3 rows x 21 columns]"
      ]
     },
     "execution_count": 43,
     "metadata": {},
     "output_type": "execute_result"
    }
   ],
   "source": [
    "df[df['revenue_adj'] == df['revenue_adj'].min()].sample(3)"
   ]
  },
  {
   "cell_type": "markdown",
   "metadata": {},
   "source": [
    "#### `vote_average` column"
   ]
  },
  {
   "cell_type": "code",
   "execution_count": 44,
   "metadata": {},
   "outputs": [
    {
     "data": {
      "text/plain": [
       "count    10866.000000\n",
       "mean         5.974922\n",
       "std          0.935142\n",
       "min          1.500000\n",
       "25%          5.400000\n",
       "50%          6.000000\n",
       "75%          6.600000\n",
       "max          9.200000\n",
       "Name: vote_average, dtype: float64"
      ]
     },
     "execution_count": 44,
     "metadata": {},
     "output_type": "execute_result"
    }
   ],
   "source": [
    "# to get a sense of the vote average\n",
    "df['vote_average'].describe()"
   ]
  },
  {
   "cell_type": "code",
   "execution_count": 45,
   "metadata": {},
   "outputs": [
    {
     "data": {
      "text/plain": [
       "6.1    496\n",
       "6.0    495\n",
       "5.8    486\n",
       "5.9    473\n",
       "6.2    464\n",
       "6.3    461\n",
       "6.5    457\n",
       "6.4    446\n",
       "5.7    415\n",
       "6.6    413\n",
       "5.6    412\n",
       "5.5    380\n",
       "6.7    376\n",
       "5.3    358\n",
       "5.4    338\n",
       "Name: vote_average, dtype: int64"
      ]
     },
     "execution_count": 45,
     "metadata": {},
     "output_type": "execute_result"
    }
   ],
   "source": [
    "df['vote_average'].value_counts().head(15)"
   ]
  },
  {
   "cell_type": "markdown",
   "metadata": {},
   "source": [
    "This means that `vote_average` ranges from 1 to 10."
   ]
  },
  {
   "cell_type": "markdown",
   "metadata": {},
   "source": [
    "Issues that need to be cleaned:\n",
    "- Filling the empty string values with \"empty\"\n",
    "- one duplicate\n",
    "- `id` should be string\n",
    "- `release_date` should be datetime\n",
    "- Remove the series and miniseries into a separate table\n",
    "- Columns to be dropped(because we won't use them):<br>\n",
    "    - imdb_id\n",
    "    - budget_adj\n",
    "    - revenue_adj\n",
    "    - overview\n",
    "    - tagline"
   ]
  },
  {
   "cell_type": "markdown",
   "metadata": {},
   "source": [
    "To sum up the questions that need to be answered\n",
    "- which genres are most popular every year?\n",
    "- which directors are the most popular in the 70s, 60s, 90s, and 2000s?\n",
    "- which movies are the most popular in the 70s, 60s, 90s, and 2000s?\n",
    "- How does the movie budgets change every year?\n",
    "- Does the movie budget affect its popularity?\n",
    "- Does the movie runtime affect its popularity?\n",
    "- Is there a relation between production companies and the movie's popularity?\n",
    "- Does certain genres get high budget than others?\n",
    "- Does certain directors generate bigger revenue?\n",
    "<br><br>\n",
    "- high revenue movies vs (genre, budget, director, runtime, production company)\n",
    "- popularity vs (genre, director, budget, runtime, production company)\n",
    "- title vs (popularity, vote average, homepage, genre, director, production company)"
   ]
  },
  {
   "cell_type": "markdown",
   "metadata": {},
   "source": [
    "> **Tip**: You should _not_ perform too many operations in each cell. Create cells freely to explore your data. One option that you can take with this project is to do a lot of explorations in an initial notebook. These don't have to be organized, but make sure you use enough comments to understand the purpose of each code cell. Then, after you're done with your analysis, create a duplicate notebook where you will trim the excess and organize your steps so that you have a flowing, cohesive report.\n",
    "\n",
    "> **Tip**: Make sure that you keep your reader informed on the steps that you are taking in your investigation. Follow every code cell, or every set of related code cells, with a markdown cell to describe to the reader what was found in the preceding cell(s). Try to make it so that the reader can then understand what they will be seeing in the following cell(s).\n",
    "\n",
    "### Data Cleaning "
   ]
  },
  {
   "cell_type": "code",
   "execution_count": 46,
   "metadata": {},
   "outputs": [],
   "source": [
    "# Make a copy of the clean data\n",
    "movies = df.copy()"
   ]
  },
  {
   "cell_type": "markdown",
   "metadata": {},
   "source": [
    "#### Filling the empty string values"
   ]
  },
  {
   "cell_type": "code",
   "execution_count": 47,
   "metadata": {},
   "outputs": [
    {
     "data": {
      "text/plain": [
       "id                         0\n",
       "imdb_id                   10\n",
       "popularity                 0\n",
       "budget                     0\n",
       "revenue                    0\n",
       "original_title             0\n",
       "cast                      76\n",
       "homepage                7930\n",
       "director                  44\n",
       "tagline                 2824\n",
       "keywords                1493\n",
       "overview                   4\n",
       "runtime                    0\n",
       "genres                    23\n",
       "production_companies    1030\n",
       "release_date               0\n",
       "vote_count                 0\n",
       "vote_average               0\n",
       "release_year               0\n",
       "budget_adj                 0\n",
       "revenue_adj                0\n",
       "dtype: int64"
      ]
     },
     "execution_count": 47,
     "metadata": {},
     "output_type": "execute_result"
    }
   ],
   "source": [
    "movies.isnull().sum()"
   ]
  },
  {
   "cell_type": "code",
   "execution_count": 48,
   "metadata": {},
   "outputs": [],
   "source": [
    "movies.fillna(\"empty\", inplace=True)"
   ]
  },
  {
   "cell_type": "code",
   "execution_count": 49,
   "metadata": {},
   "outputs": [
    {
     "data": {
      "text/plain": [
       "id                      0\n",
       "imdb_id                 0\n",
       "popularity              0\n",
       "budget                  0\n",
       "revenue                 0\n",
       "original_title          0\n",
       "cast                    0\n",
       "homepage                0\n",
       "director                0\n",
       "tagline                 0\n",
       "keywords                0\n",
       "overview                0\n",
       "runtime                 0\n",
       "genres                  0\n",
       "production_companies    0\n",
       "release_date            0\n",
       "vote_count              0\n",
       "vote_average            0\n",
       "release_year            0\n",
       "budget_adj              0\n",
       "revenue_adj             0\n",
       "dtype: int64"
      ]
     },
     "execution_count": 49,
     "metadata": {},
     "output_type": "execute_result"
    }
   ],
   "source": [
    "movies.isnull().sum()"
   ]
  },
  {
   "cell_type": "markdown",
   "metadata": {},
   "source": [
    "#### Removing the duplicate"
   ]
  },
  {
   "cell_type": "code",
   "execution_count": 50,
   "metadata": {},
   "outputs": [],
   "source": [
    "movies.drop_duplicates(inplace=True)"
   ]
  },
  {
   "cell_type": "code",
   "execution_count": 51,
   "metadata": {},
   "outputs": [
    {
     "data": {
      "text/plain": [
       "0"
      ]
     },
     "execution_count": 51,
     "metadata": {},
     "output_type": "execute_result"
    }
   ],
   "source": [
    "# Just to check\n",
    "movies.duplicated().sum()"
   ]
  },
  {
   "cell_type": "markdown",
   "metadata": {},
   "source": [
    "#### Fixing the `id` column"
   ]
  },
  {
   "cell_type": "code",
   "execution_count": 52,
   "metadata": {},
   "outputs": [
    {
     "data": {
      "text/plain": [
       "dtype('int64')"
      ]
     },
     "execution_count": 52,
     "metadata": {},
     "output_type": "execute_result"
    }
   ],
   "source": [
    "movies['id'].dtype"
   ]
  },
  {
   "cell_type": "code",
   "execution_count": 53,
   "metadata": {},
   "outputs": [],
   "source": [
    "movies['id'] = movies['id'].astype(str)"
   ]
  },
  {
   "cell_type": "code",
   "execution_count": 54,
   "metadata": {},
   "outputs": [
    {
     "data": {
      "text/plain": [
       "dtype('O')"
      ]
     },
     "execution_count": 54,
     "metadata": {},
     "output_type": "execute_result"
    }
   ],
   "source": [
    "# To check\n",
    "movies['id'].dtype"
   ]
  },
  {
   "cell_type": "markdown",
   "metadata": {},
   "source": [
    "#### Fixing the `release_date` column"
   ]
  },
  {
   "cell_type": "code",
   "execution_count": 55,
   "metadata": {},
   "outputs": [
    {
     "data": {
      "text/plain": [
       "dtype('O')"
      ]
     },
     "execution_count": 55,
     "metadata": {},
     "output_type": "execute_result"
    }
   ],
   "source": [
    "movies['release_date'].dtype"
   ]
  },
  {
   "cell_type": "code",
   "execution_count": 56,
   "metadata": {},
   "outputs": [
    {
     "data": {
      "text/plain": [
       "720    2/13/14\n",
       "Name: release_date, dtype: object"
      ]
     },
     "execution_count": 56,
     "metadata": {},
     "output_type": "execute_result"
    }
   ],
   "source": [
    "movies['release_date'].sample()"
   ]
  },
  {
   "cell_type": "markdown",
   "metadata": {},
   "source": [
    "The given order is month/day/year. We can take the year from the `release_year` column"
   ]
  },
  {
   "cell_type": "code",
   "execution_count": 57,
   "metadata": {},
   "outputs": [],
   "source": [
    "# Removing the last 2 characters (which indicate the year) and adding the year from the release_year column\n",
    "movies['release_date'] = movies['release_date'].map(lambda x: x[:-2])\n",
    "movies['release_date'] = movies['release_date'] + movies['release_year'].astype(str)"
   ]
  },
  {
   "cell_type": "code",
   "execution_count": 58,
   "metadata": {},
   "outputs": [
    {
     "data": {
      "text/plain": [
       "2708    11/6/2001\n",
       "Name: release_date, dtype: object"
      ]
     },
     "execution_count": 58,
     "metadata": {},
     "output_type": "execute_result"
    }
   ],
   "source": [
    "movies['release_date'].sample()"
   ]
  },
  {
   "cell_type": "code",
   "execution_count": 59,
   "metadata": {},
   "outputs": [
    {
     "data": {
      "text/plain": [
       "0       2015-06-09\n",
       "1       2015-05-13\n",
       "2       2015-03-18\n",
       "3       2015-12-15\n",
       "4       2015-04-01\n",
       "           ...    \n",
       "10861   1966-06-15\n",
       "10862   1966-12-21\n",
       "10863   1966-01-01\n",
       "10864   1966-11-02\n",
       "10865   1966-11-15\n",
       "Name: release_date, Length: 10865, dtype: datetime64[ns]"
      ]
     },
     "execution_count": 59,
     "metadata": {},
     "output_type": "execute_result"
    }
   ],
   "source": [
    "# Changing the type into datetime\n",
    "pd.to_datetime(movies['release_date'], format='%m/%d/%Y')"
   ]
  },
  {
   "cell_type": "markdown",
   "metadata": {},
   "source": [
    "#### Drop the unnecessary columns"
   ]
  },
  {
   "cell_type": "code",
   "execution_count": 60,
   "metadata": {},
   "outputs": [
    {
     "data": {
      "text/plain": [
       "(10865, 16)"
      ]
     },
     "execution_count": 60,
     "metadata": {},
     "output_type": "execute_result"
    }
   ],
   "source": [
    "to_be_dropped_columns = ['imdb_id', 'budget_adj', 'revenue_adj', 'overview', 'tagline']\n",
    "movies.drop(to_be_dropped_columns, axis=1, inplace=True)\n",
    "# Just to check\n",
    "movies.shape"
   ]
  },
  {
   "cell_type": "markdown",
   "metadata": {},
   "source": [
    "#### Splitting the table into 2 tables"
   ]
  },
  {
   "cell_type": "code",
   "execution_count": null,
   "metadata": {},
   "outputs": [],
   "source": [
    "movies.shape"
   ]
  },
  {
   "cell_type": "code",
   "execution_count": null,
   "metadata": {},
   "outputs": [],
   "source": [
    "series = pd.DataFrame(movies[movies['runtime'] > 180 ])"
   ]
  },
  {
   "cell_type": "code",
   "execution_count": null,
   "metadata": {},
   "outputs": [],
   "source": [
    "series.shape"
   ]
  },
  {
   "cell_type": "markdown",
   "metadata": {},
   "source": [
    "<a id='eda'></a>\n",
    "## Exploratory Data Analysis\n",
    "\n",
    "> **Tip**: Now that you've trimmed and cleaned your data, you're ready to move on to exploration. Compute statistics and create visualizations with the goal of addressing the research questions that you posed in the Introduction section. It is recommended that you be systematic with your approach. Look at one variable at a time, and then follow it up by looking at relationships between variables.\n",
    "\n",
    "### Genres Analysis"
   ]
  },
  {
   "cell_type": "code",
   "execution_count": null,
   "metadata": {},
   "outputs": [],
   "source": [
    "top_genres = movies.genres.value_counts().sort_values(ascending=False).head(7)\n",
    "top_genres"
   ]
  },
  {
   "cell_type": "code",
   "execution_count": null,
   "metadata": {},
   "outputs": [],
   "source": [
    "plt.bar(top_genres.keys(), top_genres)\n",
    "plt.xticks(rotation=45, fontsize=8)\n",
    "plt.show();"
   ]
  },
  {
   "cell_type": "code",
   "execution_count": null,
   "metadata": {},
   "outputs": [],
   "source": [
    "top_genres_by_years = movies['release_year'].query('genres == \"Comedy\"').value_counts().sort_values(ascending=False).head(7)\n",
    "top_genres_by_years"
   ]
  },
  {
   "cell_type": "code",
   "execution_count": null,
   "metadata": {},
   "outputs": [],
   "source": []
  },
  {
   "cell_type": "markdown",
   "metadata": {},
   "source": [
    "### Revenue Analysis"
   ]
  },
  {
   "cell_type": "code",
   "execution_count": null,
   "metadata": {},
   "outputs": [],
   "source": [
    "# Continue to explore the data to address your additional research\n",
    "#   questions. Add more headers as needed if you have more questions to\n",
    "#   investigate.\n"
   ]
  },
  {
   "cell_type": "markdown",
   "metadata": {},
   "source": [
    "### Directors & Production Companies Analysis"
   ]
  },
  {
   "cell_type": "code",
   "execution_count": null,
   "metadata": {},
   "outputs": [],
   "source": []
  },
  {
   "cell_type": "markdown",
   "metadata": {},
   "source": [
    "<a id='conclusions'></a>\n",
    "## Conclusions\n",
    "\n",
    "> **Tip**: Finally, summarize your findings and the results that have been performed. Make sure that you are clear with regards to the limitations of your exploration. If you haven't done any statistical tests, do not imply any statistical conclusions. And make sure you avoid implying causation from correlation!\n",
    "\n",
    "> **Tip**: Once you are satisfied with your work, you should save a copy of the report in HTML or PDF form via the **File** > **Download as** submenu. Before exporting your report, check over it to make sure that the flow of the report is complete. You should probably remove all of the \"Tip\" quotes like this one so that the presentation is as tidy as possible. Congratulations!"
   ]
  },
  {
   "cell_type": "code",
   "execution_count": null,
   "metadata": {},
   "outputs": [],
   "source": []
  }
 ],
 "metadata": {
  "kernelspec": {
   "display_name": "Python 3",
   "language": "python",
   "name": "python3"
  },
  "language_info": {
   "codemirror_mode": {
    "name": "ipython",
    "version": 3
   },
   "file_extension": ".py",
   "mimetype": "text/x-python",
   "name": "python",
   "nbconvert_exporter": "python",
   "pygments_lexer": "ipython3",
   "version": "3.7.4"
  }
 },
 "nbformat": 4,
 "nbformat_minor": 2
}
