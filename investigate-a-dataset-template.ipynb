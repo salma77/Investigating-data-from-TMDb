{
 "cells": [
  {
   "cell_type": "markdown",
   "metadata": {},
   "source": [
    "> **Tip**: Welcome to the Investigate a Dataset project! You will find tips in quoted sections like this to help organize your approach to your investigation. Before submitting your project, it will be a good idea to go back through your report and remove these sections to make the presentation of your work as tidy as possible. First things first, you might want to double-click this Markdown cell and change the title so that it reflects your dataset and investigation.\n",
    "\n",
    "# Project: Movies Data Analysis\n",
    "\n",
    "## Table of Contents\n",
    "<ul>\n",
    "<li><a href=\"#intro\">Introduction</a></li>\n",
    "<li><a href=\"#wrangling\">Data Wrangling</a></li>\n",
    "<li><a href=\"#eda\">Exploratory Data Analysis</a></li>\n",
    "<li><a href=\"#conclusions\">Conclusions</a></li>\n",
    "</ul>"
   ]
  },
  {
   "cell_type": "markdown",
   "metadata": {},
   "source": [
    "<a id='intro'></a>\n",
    "## Introduction\n",
    "\n",
    "> **Tip**: In this section of the report, provide a brief introduction to the dataset you've selected for analysis. At the end of this section, describe the questions that you plan on exploring over the course of the report. Try to build your report around the analysis of at least one dependent variable and three independent variables.\n",
    ">\n",
    "> If you haven't yet selected and downloaded your data, make sure you do that first before coming back here. If you're not sure what questions to ask right now, then make sure you familiarize yourself with the variables and the dataset context for ideas of what to explore."
   ]
  },
  {
   "cell_type": "code",
   "execution_count": 1,
   "metadata": {},
   "outputs": [],
   "source": [
    "import numpy as np\n",
    "import pandas as pd\n",
    "import matplotlib.pyplot as plt\n",
    "import plotly.graph_objects as go\n",
    "import seaborn as sns\n",
    "%matplotlib inline"
   ]
  },
  {
   "cell_type": "markdown",
   "metadata": {},
   "source": [
    "<a id='wrangling'></a>\n",
    "## Data Wrangling\n",
    "\n",
    "> **Tip**: In this section of the report, you will load in the data, check for cleanliness, and then trim and clean your dataset for analysis. Make sure that you document your steps carefully and justify your cleaning decisions.\n",
    "\n",
    "### Load the Dataset"
   ]
  },
  {
   "cell_type": "code",
   "execution_count": 2,
   "metadata": {},
   "outputs": [
    {
     "data": {
      "text/html": [
       "<div>\n",
       "<style scoped>\n",
       "    .dataframe tbody tr th:only-of-type {\n",
       "        vertical-align: middle;\n",
       "    }\n",
       "\n",
       "    .dataframe tbody tr th {\n",
       "        vertical-align: top;\n",
       "    }\n",
       "\n",
       "    .dataframe thead th {\n",
       "        text-align: right;\n",
       "    }\n",
       "</style>\n",
       "<table border=\"1\" class=\"dataframe\">\n",
       "  <thead>\n",
       "    <tr style=\"text-align: right;\">\n",
       "      <th></th>\n",
       "      <th>id</th>\n",
       "      <th>imdb_id</th>\n",
       "      <th>popularity</th>\n",
       "      <th>budget</th>\n",
       "      <th>revenue</th>\n",
       "      <th>original_title</th>\n",
       "      <th>cast</th>\n",
       "      <th>homepage</th>\n",
       "      <th>director</th>\n",
       "      <th>tagline</th>\n",
       "      <th>...</th>\n",
       "      <th>overview</th>\n",
       "      <th>runtime</th>\n",
       "      <th>genres</th>\n",
       "      <th>production_companies</th>\n",
       "      <th>release_date</th>\n",
       "      <th>vote_count</th>\n",
       "      <th>vote_average</th>\n",
       "      <th>release_year</th>\n",
       "      <th>budget_adj</th>\n",
       "      <th>revenue_adj</th>\n",
       "    </tr>\n",
       "  </thead>\n",
       "  <tbody>\n",
       "    <tr>\n",
       "      <td>0</td>\n",
       "      <td>135397</td>\n",
       "      <td>tt0369610</td>\n",
       "      <td>32.985763</td>\n",
       "      <td>150000000</td>\n",
       "      <td>1513528810</td>\n",
       "      <td>Jurassic World</td>\n",
       "      <td>Chris Pratt|Bryce Dallas Howard|Irrfan Khan|Vi...</td>\n",
       "      <td>http://www.jurassicworld.com/</td>\n",
       "      <td>Colin Trevorrow</td>\n",
       "      <td>The park is open.</td>\n",
       "      <td>...</td>\n",
       "      <td>Twenty-two years after the events of Jurassic ...</td>\n",
       "      <td>124</td>\n",
       "      <td>Action|Adventure|Science Fiction|Thriller</td>\n",
       "      <td>Universal Studios|Amblin Entertainment|Legenda...</td>\n",
       "      <td>6/9/15</td>\n",
       "      <td>5562</td>\n",
       "      <td>6.5</td>\n",
       "      <td>2015</td>\n",
       "      <td>1.379999e+08</td>\n",
       "      <td>1.392446e+09</td>\n",
       "    </tr>\n",
       "    <tr>\n",
       "      <td>1</td>\n",
       "      <td>76341</td>\n",
       "      <td>tt1392190</td>\n",
       "      <td>28.419936</td>\n",
       "      <td>150000000</td>\n",
       "      <td>378436354</td>\n",
       "      <td>Mad Max: Fury Road</td>\n",
       "      <td>Tom Hardy|Charlize Theron|Hugh Keays-Byrne|Nic...</td>\n",
       "      <td>http://www.madmaxmovie.com/</td>\n",
       "      <td>George Miller</td>\n",
       "      <td>What a Lovely Day.</td>\n",
       "      <td>...</td>\n",
       "      <td>An apocalyptic story set in the furthest reach...</td>\n",
       "      <td>120</td>\n",
       "      <td>Action|Adventure|Science Fiction|Thriller</td>\n",
       "      <td>Village Roadshow Pictures|Kennedy Miller Produ...</td>\n",
       "      <td>5/13/15</td>\n",
       "      <td>6185</td>\n",
       "      <td>7.1</td>\n",
       "      <td>2015</td>\n",
       "      <td>1.379999e+08</td>\n",
       "      <td>3.481613e+08</td>\n",
       "    </tr>\n",
       "    <tr>\n",
       "      <td>2</td>\n",
       "      <td>262500</td>\n",
       "      <td>tt2908446</td>\n",
       "      <td>13.112507</td>\n",
       "      <td>110000000</td>\n",
       "      <td>295238201</td>\n",
       "      <td>Insurgent</td>\n",
       "      <td>Shailene Woodley|Theo James|Kate Winslet|Ansel...</td>\n",
       "      <td>http://www.thedivergentseries.movie/#insurgent</td>\n",
       "      <td>Robert Schwentke</td>\n",
       "      <td>One Choice Can Destroy You</td>\n",
       "      <td>...</td>\n",
       "      <td>Beatrice Prior must confront her inner demons ...</td>\n",
       "      <td>119</td>\n",
       "      <td>Adventure|Science Fiction|Thriller</td>\n",
       "      <td>Summit Entertainment|Mandeville Films|Red Wago...</td>\n",
       "      <td>3/18/15</td>\n",
       "      <td>2480</td>\n",
       "      <td>6.3</td>\n",
       "      <td>2015</td>\n",
       "      <td>1.012000e+08</td>\n",
       "      <td>2.716190e+08</td>\n",
       "    </tr>\n",
       "    <tr>\n",
       "      <td>3</td>\n",
       "      <td>140607</td>\n",
       "      <td>tt2488496</td>\n",
       "      <td>11.173104</td>\n",
       "      <td>200000000</td>\n",
       "      <td>2068178225</td>\n",
       "      <td>Star Wars: The Force Awakens</td>\n",
       "      <td>Harrison Ford|Mark Hamill|Carrie Fisher|Adam D...</td>\n",
       "      <td>http://www.starwars.com/films/star-wars-episod...</td>\n",
       "      <td>J.J. Abrams</td>\n",
       "      <td>Every generation has a story.</td>\n",
       "      <td>...</td>\n",
       "      <td>Thirty years after defeating the Galactic Empi...</td>\n",
       "      <td>136</td>\n",
       "      <td>Action|Adventure|Science Fiction|Fantasy</td>\n",
       "      <td>Lucasfilm|Truenorth Productions|Bad Robot</td>\n",
       "      <td>12/15/15</td>\n",
       "      <td>5292</td>\n",
       "      <td>7.5</td>\n",
       "      <td>2015</td>\n",
       "      <td>1.839999e+08</td>\n",
       "      <td>1.902723e+09</td>\n",
       "    </tr>\n",
       "    <tr>\n",
       "      <td>4</td>\n",
       "      <td>168259</td>\n",
       "      <td>tt2820852</td>\n",
       "      <td>9.335014</td>\n",
       "      <td>190000000</td>\n",
       "      <td>1506249360</td>\n",
       "      <td>Furious 7</td>\n",
       "      <td>Vin Diesel|Paul Walker|Jason Statham|Michelle ...</td>\n",
       "      <td>http://www.furious7.com/</td>\n",
       "      <td>James Wan</td>\n",
       "      <td>Vengeance Hits Home</td>\n",
       "      <td>...</td>\n",
       "      <td>Deckard Shaw seeks revenge against Dominic Tor...</td>\n",
       "      <td>137</td>\n",
       "      <td>Action|Crime|Thriller</td>\n",
       "      <td>Universal Pictures|Original Film|Media Rights ...</td>\n",
       "      <td>4/1/15</td>\n",
       "      <td>2947</td>\n",
       "      <td>7.3</td>\n",
       "      <td>2015</td>\n",
       "      <td>1.747999e+08</td>\n",
       "      <td>1.385749e+09</td>\n",
       "    </tr>\n",
       "  </tbody>\n",
       "</table>\n",
       "<p>5 rows × 21 columns</p>\n",
       "</div>"
      ],
      "text/plain": [
       "       id    imdb_id  popularity     budget     revenue  \\\n",
       "0  135397  tt0369610   32.985763  150000000  1513528810   \n",
       "1   76341  tt1392190   28.419936  150000000   378436354   \n",
       "2  262500  tt2908446   13.112507  110000000   295238201   \n",
       "3  140607  tt2488496   11.173104  200000000  2068178225   \n",
       "4  168259  tt2820852    9.335014  190000000  1506249360   \n",
       "\n",
       "                 original_title  \\\n",
       "0                Jurassic World   \n",
       "1            Mad Max: Fury Road   \n",
       "2                     Insurgent   \n",
       "3  Star Wars: The Force Awakens   \n",
       "4                     Furious 7   \n",
       "\n",
       "                                                cast  \\\n",
       "0  Chris Pratt|Bryce Dallas Howard|Irrfan Khan|Vi...   \n",
       "1  Tom Hardy|Charlize Theron|Hugh Keays-Byrne|Nic...   \n",
       "2  Shailene Woodley|Theo James|Kate Winslet|Ansel...   \n",
       "3  Harrison Ford|Mark Hamill|Carrie Fisher|Adam D...   \n",
       "4  Vin Diesel|Paul Walker|Jason Statham|Michelle ...   \n",
       "\n",
       "                                            homepage          director  \\\n",
       "0                      http://www.jurassicworld.com/   Colin Trevorrow   \n",
       "1                        http://www.madmaxmovie.com/     George Miller   \n",
       "2     http://www.thedivergentseries.movie/#insurgent  Robert Schwentke   \n",
       "3  http://www.starwars.com/films/star-wars-episod...       J.J. Abrams   \n",
       "4                           http://www.furious7.com/         James Wan   \n",
       "\n",
       "                         tagline  ...  \\\n",
       "0              The park is open.  ...   \n",
       "1             What a Lovely Day.  ...   \n",
       "2     One Choice Can Destroy You  ...   \n",
       "3  Every generation has a story.  ...   \n",
       "4            Vengeance Hits Home  ...   \n",
       "\n",
       "                                            overview runtime  \\\n",
       "0  Twenty-two years after the events of Jurassic ...     124   \n",
       "1  An apocalyptic story set in the furthest reach...     120   \n",
       "2  Beatrice Prior must confront her inner demons ...     119   \n",
       "3  Thirty years after defeating the Galactic Empi...     136   \n",
       "4  Deckard Shaw seeks revenge against Dominic Tor...     137   \n",
       "\n",
       "                                      genres  \\\n",
       "0  Action|Adventure|Science Fiction|Thriller   \n",
       "1  Action|Adventure|Science Fiction|Thriller   \n",
       "2         Adventure|Science Fiction|Thriller   \n",
       "3   Action|Adventure|Science Fiction|Fantasy   \n",
       "4                      Action|Crime|Thriller   \n",
       "\n",
       "                                production_companies release_date vote_count  \\\n",
       "0  Universal Studios|Amblin Entertainment|Legenda...       6/9/15       5562   \n",
       "1  Village Roadshow Pictures|Kennedy Miller Produ...      5/13/15       6185   \n",
       "2  Summit Entertainment|Mandeville Films|Red Wago...      3/18/15       2480   \n",
       "3          Lucasfilm|Truenorth Productions|Bad Robot     12/15/15       5292   \n",
       "4  Universal Pictures|Original Film|Media Rights ...       4/1/15       2947   \n",
       "\n",
       "   vote_average  release_year    budget_adj   revenue_adj  \n",
       "0           6.5          2015  1.379999e+08  1.392446e+09  \n",
       "1           7.1          2015  1.379999e+08  3.481613e+08  \n",
       "2           6.3          2015  1.012000e+08  2.716190e+08  \n",
       "3           7.5          2015  1.839999e+08  1.902723e+09  \n",
       "4           7.3          2015  1.747999e+08  1.385749e+09  \n",
       "\n",
       "[5 rows x 21 columns]"
      ]
     },
     "execution_count": 2,
     "metadata": {},
     "output_type": "execute_result"
    }
   ],
   "source": [
    "df = pd.read_csv('tmdb-movies.csv')\n",
    "df.head()"
   ]
  },
  {
   "cell_type": "markdown",
   "metadata": {},
   "source": [
    "### Investigate the dataset"
   ]
  },
  {
   "cell_type": "code",
   "execution_count": 95,
   "metadata": {},
   "outputs": [
    {
     "name": "stdout",
     "output_type": "stream",
     "text": [
      "<class 'pandas.core.frame.DataFrame'>\n",
      "RangeIndex: 10866 entries, 0 to 10865\n",
      "Data columns (total 21 columns):\n",
      "id                      10866 non-null int64\n",
      "imdb_id                 10856 non-null object\n",
      "popularity              10866 non-null float64\n",
      "budget                  10866 non-null int64\n",
      "revenue                 10866 non-null int64\n",
      "original_title          10866 non-null object\n",
      "cast                    10790 non-null object\n",
      "homepage                2936 non-null object\n",
      "director                10822 non-null object\n",
      "tagline                 8042 non-null object\n",
      "keywords                9373 non-null object\n",
      "overview                10862 non-null object\n",
      "runtime                 10866 non-null int64\n",
      "genres                  10843 non-null object\n",
      "production_companies    9836 non-null object\n",
      "release_date            10866 non-null object\n",
      "vote_count              10866 non-null int64\n",
      "vote_average            10866 non-null float64\n",
      "release_year            10866 non-null int64\n",
      "budget_adj              10866 non-null float64\n",
      "revenue_adj             10866 non-null float64\n",
      "dtypes: float64(4), int64(6), object(11)\n",
      "memory usage: 1.7+ MB\n"
     ]
    }
   ],
   "source": [
    "df.info()"
   ]
  },
  {
   "cell_type": "code",
   "execution_count": 134,
   "metadata": {},
   "outputs": [
    {
     "data": {
      "text/plain": [
       "id                         0\n",
       "imdb_id                   10\n",
       "popularity                 0\n",
       "budget                     0\n",
       "revenue                    0\n",
       "original_title             0\n",
       "cast                      76\n",
       "homepage                7930\n",
       "director                  44\n",
       "tagline                 2824\n",
       "keywords                1493\n",
       "overview                   4\n",
       "runtime                    0\n",
       "genres                    23\n",
       "production_companies    1030\n",
       "release_date               0\n",
       "vote_count                 0\n",
       "vote_average               0\n",
       "release_year               0\n",
       "budget_adj                 0\n",
       "revenue_adj                0\n",
       "dtype: int64"
      ]
     },
     "execution_count": 134,
     "metadata": {},
     "output_type": "execute_result"
    }
   ],
   "source": [
    "df.isnull().sum()"
   ]
  },
  {
   "cell_type": "code",
   "execution_count": 96,
   "metadata": {},
   "outputs": [
    {
     "data": {
      "text/plain": [
       "1"
      ]
     },
     "execution_count": 96,
     "metadata": {},
     "output_type": "execute_result"
    }
   ],
   "source": [
    "df.duplicated().sum()"
   ]
  },
  {
   "cell_type": "markdown",
   "metadata": {},
   "source": [
    "- Issues\n",
    "    - one duplicate\n",
    "    - `id` should be string\n",
    "    - add '0' to ids\n",
    "    - `release_date` should be datetime"
   ]
  },
  {
   "cell_type": "markdown",
   "metadata": {},
   "source": [
    "#### `release_year` column"
   ]
  },
  {
   "cell_type": "code",
   "execution_count": 97,
   "metadata": {},
   "outputs": [
    {
     "data": {
      "text/plain": [
       "2014    700\n",
       "2013    659\n",
       "2015    629\n",
       "2012    588\n",
       "2011    540\n",
       "2009    533\n",
       "2008    496\n",
       "2010    490\n",
       "2007    438\n",
       "2006    408\n",
       "2005    364\n",
       "2004    307\n",
       "2003    281\n",
       "2002    266\n",
       "2001    242\n",
       "Name: release_year, dtype: int64"
      ]
     },
     "execution_count": 97,
     "metadata": {},
     "output_type": "execute_result"
    }
   ],
   "source": [
    "#Search for categorical variables\n",
    "df['release_year'].value_counts().sort_values(ascending=False).head(15)"
   ]
  },
  {
   "cell_type": "code",
   "execution_count": 98,
   "metadata": {},
   "outputs": [
    {
     "data": {
      "image/png": "[encoded data removed]",
      "text/plain": [
       "<Figure size 432x288 with 1 Axes>"
      ]
     },
     "metadata": {
      "needs_background": "light"
     },
     "output_type": "display_data"
    }
   ],
   "source": [
    "df['release_year'].hist(bins=50);"
   ]
  },
  {
   "cell_type": "markdown",
   "metadata": {},
   "source": [
    "#### `director` column"
   ]
  },
  {
   "cell_type": "code",
   "execution_count": 99,
   "metadata": {},
   "outputs": [
    {
     "data": {
      "text/plain": [
       "Woody Allen          45\n",
       "Clint Eastwood       34\n",
       "Steven Spielberg     29\n",
       "Martin Scorsese      29\n",
       "Ridley Scott         23\n",
       "Ron Howard           22\n",
       "Steven Soderbergh    22\n",
       "Joel Schumacher      21\n",
       "Brian De Palma       20\n",
       "Barry Levinson       19\n",
       "Wes Craven           19\n",
       "Tim Burton           19\n",
       "David Cronenberg     18\n",
       "Rob Reiner           18\n",
       "John Carpenter       18\n",
       "Name: director, dtype: int64"
      ]
     },
     "execution_count": 99,
     "metadata": {},
     "output_type": "execute_result"
    }
   ],
   "source": [
    "df['director'].value_counts().sort_values(ascending=False).head(15)"
   ]
  },
  {
   "cell_type": "markdown",
   "metadata": {},
   "source": [
    "#### `original_title` column"
   ]
  },
  {
   "cell_type": "code",
   "execution_count": 100,
   "metadata": {},
   "outputs": [
    {
     "data": {
      "text/plain": [
       "Hamlet                  4\n",
       "Julia                   3\n",
       "Jane Eyre               3\n",
       "Frankenstein            3\n",
       "A Christmas Carol       3\n",
       "Life                    3\n",
       "Emma                    3\n",
       "Wuthering Heights       3\n",
       "Alice in Wonderland     3\n",
       "Oliver Twist            3\n",
       "Annie                   3\n",
       "Beauty and the Beast    3\n",
       "Carrie                  3\n",
       "Shelter                 3\n",
       "Hercules                3\n",
       "Name: original_title, dtype: int64"
      ]
     },
     "execution_count": 100,
     "metadata": {},
     "output_type": "execute_result"
    }
   ],
   "source": [
    "df['original_title'].value_counts().head(15)"
   ]
  },
  {
   "cell_type": "markdown",
   "metadata": {},
   "source": [
    "It's not strange that there are many repeated titles, because famous movies are re-acted but let's check!"
   ]
  },
  {
   "cell_type": "code",
   "execution_count": 101,
   "metadata": {},
   "outputs": [
    {
     "data": {
      "text/html": [
       "<div>\n",
       "<style scoped>\n",
       "    .dataframe tbody tr th:only-of-type {\n",
       "        vertical-align: middle;\n",
       "    }\n",
       "\n",
       "    .dataframe tbody tr th {\n",
       "        vertical-align: top;\n",
       "    }\n",
       "\n",
       "    .dataframe thead th {\n",
       "        text-align: right;\n",
       "    }\n",
       "</style>\n",
       "<table border=\"1\" class=\"dataframe\">\n",
       "  <thead>\n",
       "    <tr style=\"text-align: right;\">\n",
       "      <th></th>\n",
       "      <th>id</th>\n",
       "      <th>imdb_id</th>\n",
       "      <th>popularity</th>\n",
       "      <th>budget</th>\n",
       "      <th>revenue</th>\n",
       "      <th>original_title</th>\n",
       "      <th>cast</th>\n",
       "      <th>homepage</th>\n",
       "      <th>director</th>\n",
       "      <th>tagline</th>\n",
       "      <th>...</th>\n",
       "      <th>overview</th>\n",
       "      <th>runtime</th>\n",
       "      <th>genres</th>\n",
       "      <th>production_companies</th>\n",
       "      <th>release_date</th>\n",
       "      <th>vote_count</th>\n",
       "      <th>vote_average</th>\n",
       "      <th>release_year</th>\n",
       "      <th>budget_adj</th>\n",
       "      <th>revenue_adj</th>\n",
       "    </tr>\n",
       "  </thead>\n",
       "  <tbody>\n",
       "    <tr>\n",
       "      <td>1890</td>\n",
       "      <td>28238</td>\n",
       "      <td>tt1449175</td>\n",
       "      <td>0.086490</td>\n",
       "      <td>0</td>\n",
       "      <td>0</td>\n",
       "      <td>Hamlet</td>\n",
       "      <td>David Tennant|Patrick Stewart|Penny Downie|Oli...</td>\n",
       "      <td>http://www.bbc.co.uk/hamlet/</td>\n",
       "      <td>Gregory Doran</td>\n",
       "      <td>To be, or not to be?</td>\n",
       "      <td>...</td>\n",
       "      <td>David Tennant stars in a film of the Royal Sha...</td>\n",
       "      <td>185</td>\n",
       "      <td>Drama</td>\n",
       "      <td>NHK Enterprises|Illuminations|BBC Wales</td>\n",
       "      <td>12/26/09</td>\n",
       "      <td>13</td>\n",
       "      <td>6.4</td>\n",
       "      <td>2009</td>\n",
       "      <td>0.000000e+00</td>\n",
       "      <td>0.000000e+00</td>\n",
       "    </tr>\n",
       "    <tr>\n",
       "      <td>8573</td>\n",
       "      <td>10549</td>\n",
       "      <td>tt0116477</td>\n",
       "      <td>0.383469</td>\n",
       "      <td>0</td>\n",
       "      <td>0</td>\n",
       "      <td>Hamlet</td>\n",
       "      <td>Kenneth Branagh|Derek Jacobi|Julie Christie|Ri...</td>\n",
       "      <td>NaN</td>\n",
       "      <td>Kenneth Branagh</td>\n",
       "      <td>NaN</td>\n",
       "      <td>...</td>\n",
       "      <td>Hamlet, Prince of Denmark, returns home to fin...</td>\n",
       "      <td>242</td>\n",
       "      <td>Drama</td>\n",
       "      <td>Castle Rock Entertainment|Turner Pictures (I)</td>\n",
       "      <td>12/25/96</td>\n",
       "      <td>51</td>\n",
       "      <td>6.7</td>\n",
       "      <td>1996</td>\n",
       "      <td>0.000000e+00</td>\n",
       "      <td>0.000000e+00</td>\n",
       "    </tr>\n",
       "    <tr>\n",
       "      <td>8797</td>\n",
       "      <td>10688</td>\n",
       "      <td>tt0171359</td>\n",
       "      <td>0.277798</td>\n",
       "      <td>2000000</td>\n",
       "      <td>1568749</td>\n",
       "      <td>Hamlet</td>\n",
       "      <td>Ethan Hawke|Kyle MacLachlan|Diane Venora|Sam S...</td>\n",
       "      <td>NaN</td>\n",
       "      <td>Michael Almereyda</td>\n",
       "      <td>Passion, Betrayal, Revenge, A hostile takeover...</td>\n",
       "      <td>...</td>\n",
       "      <td>Modern day adaptation of Shakespeare's immorta...</td>\n",
       "      <td>112</td>\n",
       "      <td>Drama</td>\n",
       "      <td>Miramax Films|double A Films</td>\n",
       "      <td>5/12/00</td>\n",
       "      <td>18</td>\n",
       "      <td>5.0</td>\n",
       "      <td>2000</td>\n",
       "      <td>2.532584e+06</td>\n",
       "      <td>1.986494e+06</td>\n",
       "    </tr>\n",
       "    <tr>\n",
       "      <td>10106</td>\n",
       "      <td>10264</td>\n",
       "      <td>tt0099726</td>\n",
       "      <td>0.067973</td>\n",
       "      <td>0</td>\n",
       "      <td>20710451</td>\n",
       "      <td>Hamlet</td>\n",
       "      <td>Mel Gibson|Glenn Close|Alan Bates|Paul Scofiel...</td>\n",
       "      <td>NaN</td>\n",
       "      <td>Franco Zeffirelli</td>\n",
       "      <td>The extraordinary adaptation of Shakespeare's ...</td>\n",
       "      <td>...</td>\n",
       "      <td>Hamlet, Prince of Denmark, finds out that his ...</td>\n",
       "      <td>130</td>\n",
       "      <td>Drama|History</td>\n",
       "      <td>Icon Productions|Warner Bros. Pictures|Nelson ...</td>\n",
       "      <td>12/19/90</td>\n",
       "      <td>43</td>\n",
       "      <td>6.5</td>\n",
       "      <td>1990</td>\n",
       "      <td>0.000000e+00</td>\n",
       "      <td>3.456364e+07</td>\n",
       "    </tr>\n",
       "  </tbody>\n",
       "</table>\n",
       "<p>4 rows × 21 columns</p>\n",
       "</div>"
      ],
      "text/plain": [
       "          id    imdb_id  popularity   budget   revenue original_title  \\\n",
       "1890   28238  tt1449175    0.086490        0         0         Hamlet   \n",
       "8573   10549  tt0116477    0.383469        0         0         Hamlet   \n",
       "8797   10688  tt0171359    0.277798  2000000   1568749         Hamlet   \n",
       "10106  10264  tt0099726    0.067973        0  20710451         Hamlet   \n",
       "\n",
       "                                                    cast  \\\n",
       "1890   David Tennant|Patrick Stewart|Penny Downie|Oli...   \n",
       "8573   Kenneth Branagh|Derek Jacobi|Julie Christie|Ri...   \n",
       "8797   Ethan Hawke|Kyle MacLachlan|Diane Venora|Sam S...   \n",
       "10106  Mel Gibson|Glenn Close|Alan Bates|Paul Scofiel...   \n",
       "\n",
       "                           homepage           director  \\\n",
       "1890   http://www.bbc.co.uk/hamlet/      Gregory Doran   \n",
       "8573                            NaN    Kenneth Branagh   \n",
       "8797                            NaN  Michael Almereyda   \n",
       "10106                           NaN  Franco Zeffirelli   \n",
       "\n",
       "                                                 tagline  ...  \\\n",
       "1890                                To be, or not to be?  ...   \n",
       "8573                                                 NaN  ...   \n",
       "8797   Passion, Betrayal, Revenge, A hostile takeover...  ...   \n",
       "10106  The extraordinary adaptation of Shakespeare's ...  ...   \n",
       "\n",
       "                                                overview runtime  \\\n",
       "1890   David Tennant stars in a film of the Royal Sha...     185   \n",
       "8573   Hamlet, Prince of Denmark, returns home to fin...     242   \n",
       "8797   Modern day adaptation of Shakespeare's immorta...     112   \n",
       "10106  Hamlet, Prince of Denmark, finds out that his ...     130   \n",
       "\n",
       "              genres                               production_companies  \\\n",
       "1890           Drama            NHK Enterprises|Illuminations|BBC Wales   \n",
       "8573           Drama      Castle Rock Entertainment|Turner Pictures (I)   \n",
       "8797           Drama                       Miramax Films|double A Films   \n",
       "10106  Drama|History  Icon Productions|Warner Bros. Pictures|Nelson ...   \n",
       "\n",
       "      release_date vote_count  vote_average  release_year    budget_adj  \\\n",
       "1890      12/26/09         13           6.4          2009  0.000000e+00   \n",
       "8573      12/25/96         51           6.7          1996  0.000000e+00   \n",
       "8797       5/12/00         18           5.0          2000  2.532584e+06   \n",
       "10106     12/19/90         43           6.5          1990  0.000000e+00   \n",
       "\n",
       "        revenue_adj  \n",
       "1890   0.000000e+00  \n",
       "8573   0.000000e+00  \n",
       "8797   1.986494e+06  \n",
       "10106  3.456364e+07  \n",
       "\n",
       "[4 rows x 21 columns]"
      ]
     },
     "execution_count": 101,
     "metadata": {},
     "output_type": "execute_result"
    }
   ],
   "source": [
    "df[df['original_title'] == 'Hamlet']"
   ]
  },
  {
   "cell_type": "code",
   "execution_count": 102,
   "metadata": {},
   "outputs": [
    {
     "data": {
      "text/html": [
       "<div>\n",
       "<style scoped>\n",
       "    .dataframe tbody tr th:only-of-type {\n",
       "        vertical-align: middle;\n",
       "    }\n",
       "\n",
       "    .dataframe tbody tr th {\n",
       "        vertical-align: top;\n",
       "    }\n",
       "\n",
       "    .dataframe thead th {\n",
       "        text-align: right;\n",
       "    }\n",
       "</style>\n",
       "<table border=\"1\" class=\"dataframe\">\n",
       "  <thead>\n",
       "    <tr style=\"text-align: right;\">\n",
       "      <th></th>\n",
       "      <th>id</th>\n",
       "      <th>imdb_id</th>\n",
       "      <th>popularity</th>\n",
       "      <th>budget</th>\n",
       "      <th>revenue</th>\n",
       "      <th>original_title</th>\n",
       "      <th>cast</th>\n",
       "      <th>homepage</th>\n",
       "      <th>director</th>\n",
       "      <th>tagline</th>\n",
       "      <th>...</th>\n",
       "      <th>overview</th>\n",
       "      <th>runtime</th>\n",
       "      <th>genres</th>\n",
       "      <th>production_companies</th>\n",
       "      <th>release_date</th>\n",
       "      <th>vote_count</th>\n",
       "      <th>vote_average</th>\n",
       "      <th>release_year</th>\n",
       "      <th>budget_adj</th>\n",
       "      <th>revenue_adj</th>\n",
       "    </tr>\n",
       "  </thead>\n",
       "  <tbody>\n",
       "    <tr>\n",
       "      <td>4101</td>\n",
       "      <td>7342</td>\n",
       "      <td>tt0319970</td>\n",
       "      <td>0.257263</td>\n",
       "      <td>0</td>\n",
       "      <td>0</td>\n",
       "      <td>Carrie</td>\n",
       "      <td>Angela Bettis|Patricia Clarkson|Rena Sofer|Kan...</td>\n",
       "      <td>NaN</td>\n",
       "      <td>David Carson</td>\n",
       "      <td>NaN</td>\n",
       "      <td>...</td>\n",
       "      <td>Carrie White is a lonely and painfully shy tee...</td>\n",
       "      <td>132</td>\n",
       "      <td>Drama|Horror</td>\n",
       "      <td>MGM Television|Trilogy Entertainment Group</td>\n",
       "      <td>11/4/02</td>\n",
       "      <td>53</td>\n",
       "      <td>5.5</td>\n",
       "      <td>2002</td>\n",
       "      <td>0.000000e+00</td>\n",
       "      <td>0.000000e+00</td>\n",
       "    </tr>\n",
       "    <tr>\n",
       "      <td>5486</td>\n",
       "      <td>133805</td>\n",
       "      <td>tt1939659</td>\n",
       "      <td>1.412233</td>\n",
       "      <td>30000000</td>\n",
       "      <td>82394288</td>\n",
       "      <td>Carrie</td>\n",
       "      <td>ChloÃ« Grace Moretz|Julianne Moore|Judy Greer|...</td>\n",
       "      <td>http://www.carrie-movie.com</td>\n",
       "      <td>Kimberly Peirce</td>\n",
       "      <td>Know her name. Fear her power.</td>\n",
       "      <td>...</td>\n",
       "      <td>A reimagining of the classic horror tale about...</td>\n",
       "      <td>100</td>\n",
       "      <td>Drama|Horror</td>\n",
       "      <td>Screen Gems|Metro-Goldwyn-Mayer (MGM)|Misher F...</td>\n",
       "      <td>10/16/13</td>\n",
       "      <td>897</td>\n",
       "      <td>5.8</td>\n",
       "      <td>2013</td>\n",
       "      <td>2.808100e+07</td>\n",
       "      <td>7.712380e+07</td>\n",
       "    </tr>\n",
       "    <tr>\n",
       "      <td>10175</td>\n",
       "      <td>7340</td>\n",
       "      <td>tt0074285</td>\n",
       "      <td>1.263483</td>\n",
       "      <td>1800000</td>\n",
       "      <td>33800000</td>\n",
       "      <td>Carrie</td>\n",
       "      <td>Sissy Spacek|Piper Laurie|Amy Irving|William K...</td>\n",
       "      <td>NaN</td>\n",
       "      <td>Brian De Palma</td>\n",
       "      <td>If youâ€™ve got a taste for terror... take Car...</td>\n",
       "      <td>...</td>\n",
       "      <td>Carrie may be ostracized, but the shy teen has...</td>\n",
       "      <td>98</td>\n",
       "      <td>Horror|Thriller</td>\n",
       "      <td>United Artists</td>\n",
       "      <td>11/3/76</td>\n",
       "      <td>497</td>\n",
       "      <td>6.8</td>\n",
       "      <td>1976</td>\n",
       "      <td>6.897056e+06</td>\n",
       "      <td>1.295114e+08</td>\n",
       "    </tr>\n",
       "  </tbody>\n",
       "</table>\n",
       "<p>3 rows × 21 columns</p>\n",
       "</div>"
      ],
      "text/plain": [
       "           id    imdb_id  popularity    budget   revenue original_title  \\\n",
       "4101     7342  tt0319970    0.257263         0         0         Carrie   \n",
       "5486   133805  tt1939659    1.412233  30000000  82394288         Carrie   \n",
       "10175    7340  tt0074285    1.263483   1800000  33800000         Carrie   \n",
       "\n",
       "                                                    cast  \\\n",
       "4101   Angela Bettis|Patricia Clarkson|Rena Sofer|Kan...   \n",
       "5486   ChloÃ« Grace Moretz|Julianne Moore|Judy Greer|...   \n",
       "10175  Sissy Spacek|Piper Laurie|Amy Irving|William K...   \n",
       "\n",
       "                          homepage         director  \\\n",
       "4101                           NaN     David Carson   \n",
       "5486   http://www.carrie-movie.com  Kimberly Peirce   \n",
       "10175                          NaN   Brian De Palma   \n",
       "\n",
       "                                                 tagline  ...  \\\n",
       "4101                                                 NaN  ...   \n",
       "5486                      Know her name. Fear her power.  ...   \n",
       "10175  If youâ€™ve got a taste for terror... take Car...  ...   \n",
       "\n",
       "                                                overview runtime  \\\n",
       "4101   Carrie White is a lonely and painfully shy tee...     132   \n",
       "5486   A reimagining of the classic horror tale about...     100   \n",
       "10175  Carrie may be ostracized, but the shy teen has...      98   \n",
       "\n",
       "                genres                               production_companies  \\\n",
       "4101      Drama|Horror         MGM Television|Trilogy Entertainment Group   \n",
       "5486      Drama|Horror  Screen Gems|Metro-Goldwyn-Mayer (MGM)|Misher F...   \n",
       "10175  Horror|Thriller                                     United Artists   \n",
       "\n",
       "      release_date vote_count  vote_average  release_year    budget_adj  \\\n",
       "4101       11/4/02         53           5.5          2002  0.000000e+00   \n",
       "5486      10/16/13        897           5.8          2013  2.808100e+07   \n",
       "10175      11/3/76        497           6.8          1976  6.897056e+06   \n",
       "\n",
       "        revenue_adj  \n",
       "4101   0.000000e+00  \n",
       "5486   7.712380e+07  \n",
       "10175  1.295114e+08  \n",
       "\n",
       "[3 rows x 21 columns]"
      ]
     },
     "execution_count": 102,
     "metadata": {},
     "output_type": "execute_result"
    }
   ],
   "source": [
    "df[df['original_title'] == 'Carrie']"
   ]
  },
  {
   "cell_type": "code",
   "execution_count": 103,
   "metadata": {},
   "outputs": [
    {
     "data": {
      "text/html": [
       "<div>\n",
       "<style scoped>\n",
       "    .dataframe tbody tr th:only-of-type {\n",
       "        vertical-align: middle;\n",
       "    }\n",
       "\n",
       "    .dataframe tbody tr th {\n",
       "        vertical-align: top;\n",
       "    }\n",
       "\n",
       "    .dataframe thead th {\n",
       "        text-align: right;\n",
       "    }\n",
       "</style>\n",
       "<table border=\"1\" class=\"dataframe\">\n",
       "  <thead>\n",
       "    <tr style=\"text-align: right;\">\n",
       "      <th></th>\n",
       "      <th>id</th>\n",
       "      <th>imdb_id</th>\n",
       "      <th>popularity</th>\n",
       "      <th>budget</th>\n",
       "      <th>revenue</th>\n",
       "      <th>original_title</th>\n",
       "      <th>cast</th>\n",
       "      <th>homepage</th>\n",
       "      <th>director</th>\n",
       "      <th>tagline</th>\n",
       "      <th>...</th>\n",
       "      <th>overview</th>\n",
       "      <th>runtime</th>\n",
       "      <th>genres</th>\n",
       "      <th>production_companies</th>\n",
       "      <th>release_date</th>\n",
       "      <th>vote_count</th>\n",
       "      <th>vote_average</th>\n",
       "      <th>release_year</th>\n",
       "      <th>budget_adj</th>\n",
       "      <th>revenue_adj</th>\n",
       "    </tr>\n",
       "  </thead>\n",
       "  <tbody>\n",
       "    <tr>\n",
       "      <td>724</td>\n",
       "      <td>196867</td>\n",
       "      <td>tt1823664</td>\n",
       "      <td>1.588010</td>\n",
       "      <td>65000000</td>\n",
       "      <td>133821816</td>\n",
       "      <td>Annie</td>\n",
       "      <td>QuvenzhanÃ© Wallis|Jamie Foxx|Rose Byrne|Camer...</td>\n",
       "      <td>NaN</td>\n",
       "      <td>Will Gluck</td>\n",
       "      <td>It's a Hard Knock Life</td>\n",
       "      <td>...</td>\n",
       "      <td>Ever since her parents left her as a baby, lit...</td>\n",
       "      <td>119</td>\n",
       "      <td>Music|Comedy|Drama|Family</td>\n",
       "      <td>Columbia Pictures|Sony Pictures Entertainment ...</td>\n",
       "      <td>12/19/14</td>\n",
       "      <td>331</td>\n",
       "      <td>6.1</td>\n",
       "      <td>2014</td>\n",
       "      <td>5.987092e+07</td>\n",
       "      <td>1.232621e+08</td>\n",
       "    </tr>\n",
       "    <tr>\n",
       "      <td>2485</td>\n",
       "      <td>26177</td>\n",
       "      <td>tt0207972</td>\n",
       "      <td>0.548720</td>\n",
       "      <td>0</td>\n",
       "      <td>0</td>\n",
       "      <td>Annie</td>\n",
       "      <td>Kathy Bates|Victor Garber|Alan Cumming|Audra M...</td>\n",
       "      <td>NaN</td>\n",
       "      <td>Rob Marshall</td>\n",
       "      <td>Disney makes the classical musical more magica...</td>\n",
       "      <td>...</td>\n",
       "      <td>Eleven-year-old Annie has been living in an or...</td>\n",
       "      <td>90</td>\n",
       "      <td>Music|Family|Comedy</td>\n",
       "      <td>Walt Disney Television|Storyline Entertainment...</td>\n",
       "      <td>11/7/99</td>\n",
       "      <td>35</td>\n",
       "      <td>5.5</td>\n",
       "      <td>1999</td>\n",
       "      <td>0.000000e+00</td>\n",
       "      <td>0.000000e+00</td>\n",
       "    </tr>\n",
       "    <tr>\n",
       "      <td>8920</td>\n",
       "      <td>15739</td>\n",
       "      <td>tt0083564</td>\n",
       "      <td>0.421748</td>\n",
       "      <td>50000000</td>\n",
       "      <td>57059003</td>\n",
       "      <td>Annie</td>\n",
       "      <td>Aileen Quinn|Albert Finney|Carol Burnett|Ann R...</td>\n",
       "      <td>NaN</td>\n",
       "      <td>John Huston</td>\n",
       "      <td>The movie of 'Tomorrow'</td>\n",
       "      <td>...</td>\n",
       "      <td>An orphan in a facility run by the mean Miss H...</td>\n",
       "      <td>127</td>\n",
       "      <td>Comedy|Drama|Family|Music</td>\n",
       "      <td>Columbia Pictures|Rastar Pictures</td>\n",
       "      <td>6/18/82</td>\n",
       "      <td>99</td>\n",
       "      <td>6.2</td>\n",
       "      <td>1982</td>\n",
       "      <td>1.129821e+08</td>\n",
       "      <td>1.289329e+08</td>\n",
       "    </tr>\n",
       "  </tbody>\n",
       "</table>\n",
       "<p>3 rows × 21 columns</p>\n",
       "</div>"
      ],
      "text/plain": [
       "          id    imdb_id  popularity    budget    revenue original_title  \\\n",
       "724   196867  tt1823664    1.588010  65000000  133821816          Annie   \n",
       "2485   26177  tt0207972    0.548720         0          0          Annie   \n",
       "8920   15739  tt0083564    0.421748  50000000   57059003          Annie   \n",
       "\n",
       "                                                   cast homepage  \\\n",
       "724   QuvenzhanÃ© Wallis|Jamie Foxx|Rose Byrne|Camer...      NaN   \n",
       "2485  Kathy Bates|Victor Garber|Alan Cumming|Audra M...      NaN   \n",
       "8920  Aileen Quinn|Albert Finney|Carol Burnett|Ann R...      NaN   \n",
       "\n",
       "          director                                            tagline  ...  \\\n",
       "724     Will Gluck                             It's a Hard Knock Life  ...   \n",
       "2485  Rob Marshall  Disney makes the classical musical more magica...  ...   \n",
       "8920   John Huston                            The movie of 'Tomorrow'  ...   \n",
       "\n",
       "                                               overview runtime  \\\n",
       "724   Ever since her parents left her as a baby, lit...     119   \n",
       "2485  Eleven-year-old Annie has been living in an or...      90   \n",
       "8920  An orphan in a facility run by the mean Miss H...     127   \n",
       "\n",
       "                         genres  \\\n",
       "724   Music|Comedy|Drama|Family   \n",
       "2485        Music|Family|Comedy   \n",
       "8920  Comedy|Drama|Family|Music   \n",
       "\n",
       "                                   production_companies release_date  \\\n",
       "724   Columbia Pictures|Sony Pictures Entertainment ...     12/19/14   \n",
       "2485  Walt Disney Television|Storyline Entertainment...      11/7/99   \n",
       "8920                  Columbia Pictures|Rastar Pictures      6/18/82   \n",
       "\n",
       "     vote_count  vote_average  release_year    budget_adj   revenue_adj  \n",
       "724         331           6.1          2014  5.987092e+07  1.232621e+08  \n",
       "2485         35           5.5          1999  0.000000e+00  0.000000e+00  \n",
       "8920         99           6.2          1982  1.129821e+08  1.289329e+08  \n",
       "\n",
       "[3 rows x 21 columns]"
      ]
     },
     "execution_count": 103,
     "metadata": {},
     "output_type": "execute_result"
    }
   ],
   "source": [
    "df[df['original_title'] == 'Annie']"
   ]
  },
  {
   "cell_type": "markdown",
   "metadata": {},
   "source": [
    "Cool, they're not duplicates. No worries here."
   ]
  },
  {
   "cell_type": "markdown",
   "metadata": {},
   "source": [
    "#### `homepage` column"
   ]
  },
  {
   "cell_type": "code",
   "execution_count": 104,
   "metadata": {},
   "outputs": [
    {
     "data": {
      "text/plain": [
       "7930"
      ]
     },
     "execution_count": 104,
     "metadata": {},
     "output_type": "execute_result"
    }
   ],
   "source": [
    "df['homepage'].isnull().sum()"
   ]
  },
  {
   "cell_type": "code",
   "execution_count": 105,
   "metadata": {},
   "outputs": [
    {
     "data": {
      "text/plain": [
       "253                                                    NaN\n",
       "10778                                                  NaN\n",
       "9008                                                   NaN\n",
       "4170                                                   NaN\n",
       "9227                                                   NaN\n",
       "4068                                                   NaN\n",
       "1329     http://www.starwars.com/films/star-wars-episod...\n",
       "8653                                                   NaN\n",
       "2560                                                   NaN\n",
       "5802     http://www.sonypictures.com/previews/homevideo...\n",
       "Name: homepage, dtype: object"
      ]
     },
     "execution_count": 105,
     "metadata": {},
     "output_type": "execute_result"
    }
   ],
   "source": [
    "df['homepage'].sample(10)"
   ]
  },
  {
   "cell_type": "markdown",
   "metadata": {},
   "source": [
    "Looks like the column `homepage` won't be of much use, since it's has many nans"
   ]
  },
  {
   "cell_type": "markdown",
   "metadata": {},
   "source": [
    "#### `tagline` column"
   ]
  },
  {
   "cell_type": "code",
   "execution_count": 106,
   "metadata": {},
   "outputs": [
    {
     "data": {
      "text/plain": [
       "6559          Every Second Chance Begins With a First Step\n",
       "6109                           Guess Who's Coming To Town!\n",
       "9414                             There's Magic In The Air.\n",
       "4712                                       Face Your Fears\n",
       "9550     Trapped behind enemy lines. A whole army after...\n",
       "8836     He fell in love for the first time. She fell i...\n",
       "8298     He needed to trust her with his secret. She ha...\n",
       "3712                                                   NaN\n",
       "10257               Keaton & Allen reunited for fun flick!\n",
       "10379    She's got a little secret and a lot of explain...\n",
       "Name: tagline, dtype: object"
      ]
     },
     "execution_count": 106,
     "metadata": {},
     "output_type": "execute_result"
    }
   ],
   "source": [
    "# Can't really imagine what tagline column might be like\n",
    "df['tagline'].sample(10)"
   ]
  },
  {
   "cell_type": "code",
   "execution_count": 107,
   "metadata": {},
   "outputs": [
    {
     "data": {
      "text/plain": [
       "2824"
      ]
     },
     "execution_count": 107,
     "metadata": {},
     "output_type": "execute_result"
    }
   ],
   "source": [
    "df['tagline'].isnull().sum()"
   ]
  },
  {
   "cell_type": "markdown",
   "metadata": {},
   "source": [
    "#### `keywords` column"
   ]
  },
  {
   "cell_type": "code",
   "execution_count": 108,
   "metadata": {},
   "outputs": [
    {
     "data": {
      "text/plain": [
       "10450    amateur detective|heart attack|horseback ridin...\n",
       "919              anthology|woman director|horror anthology\n",
       "4588     surgeon|teenager|domineering mother|awkwardnes...\n",
       "3737                                  concert|live concert\n",
       "4630     based on novel|high school|teenager|teen comed...\n",
       "10723    mutant|greenhouse|carnivorous plant|radioactiv...\n",
       "7629                robbery|treasure|cello|daughter|father\n",
       "7373          female nudity|rape|boat|mass murder|mutation\n",
       "7223         rape|trauma|high school|independent film|mute\n",
       "3543         roman empire|slavery|ancient rome|eagle|honor\n",
       "Name: keywords, dtype: object"
      ]
     },
     "execution_count": 108,
     "metadata": {},
     "output_type": "execute_result"
    }
   ],
   "source": [
    "df['keywords'].sample(10)"
   ]
  },
  {
   "cell_type": "code",
   "execution_count": 109,
   "metadata": {},
   "outputs": [
    {
     "data": {
      "text/plain": [
       "woman director                     134\n",
       "independent film                    82\n",
       "sport                               25\n",
       "suspense                            24\n",
       "duringcreditsstinger                24\n",
       "musical                             24\n",
       "stand-up|stand up comedy            16\n",
       "holiday                             16\n",
       "biography                           15\n",
       "independent film|woman director     13\n",
       "stand up comedy                      9\n",
       "christmas                            7\n",
       "holiday|christmas                    7\n",
       "dystopia                             7\n",
       "found footage                        7\n",
       "Name: keywords, dtype: int64"
      ]
     },
     "execution_count": 109,
     "metadata": {},
     "output_type": "execute_result"
    }
   ],
   "source": [
    "df['keywords'].value_counts().head(15)"
   ]
  },
  {
   "cell_type": "markdown",
   "metadata": {},
   "source": [
    "#### `overview` column"
   ]
  },
  {
   "cell_type": "code",
   "execution_count": 110,
   "metadata": {},
   "outputs": [
    {
     "data": {
      "text/plain": [
       "No overview found.                                                                                                                                                                                                                                                                                                                                                                                                                        13\n",
       "1960. The thrilling battles waged by a band of kids from two rival villages in the southern French countryside.                                                                                                                                                                                                                                                                                                                            2\n",
       "In the year of 2039, after World Wars destroy much of the civilization as we know it, territories are no longer run by governments, but by corporations; the mightiest of which is the Mishima Zaibatsu. In order to placate the seething masses of this dystopia, Mishima sponsors Tekken, a tournament in which fighters battle until only one is left standing.                                                                         2\n",
       "Wilbur the pig is scared of the end of the season, because he knows that come that time, he will end up on the dinner table. He hatches a plan with Charlotte, a spider that lives in his pen, to ensure that this will never happen.                                                                                                                                                                                                      2\n",
       "An art curator decides to seek revenge on his abusive boss by conning him into buying a fake Monet, but his plan requires the help of an eccentric and unpredictable Texas rodeo queen.                                                                                                                                                                                                                                                    1\n",
       "                                                                                                                                                                                                                                                                                                                                                                                                                                          ..\n",
       "If you had a love-potion, who would you make fall madly in love with you? Timothy, prone to escaping his dismal high school reality through dazzling musical daydreams, gets to answer that question in a very real way. After his eccentric teacher casts him as Puck in A Midsummer Night's Dream, he stumbles upon a recipe hidden within the script to create the play's magical, purple love-pansy.                                   1\n",
       "A sexy nightclub owner, Barb Wire moonlights as a mercenary in Steel Harbor, one of the last free zones in the now fascist United States. When scientist Cora Devonshire wanders into Barb's establishment, she gets roped into a top-secret government plot involving biological weapons. Soon Barb is reunited with her old flame Axel Hood, who is now Cora's husband and a guerrilla fighter, resulting in plenty of tense action.     1\n",
       "A young man sets out to uncover the truth about his life after finding his baby photo on a missing persons website.                                                                                                                                                                                                                                                                                                                        1\n",
       "After his bombardier is killed, Jake Grafton, a carrier-based Intruder pilot, questions the purpose of Navy bombing missions...                                                                                                                                                                                                                                                                                                            1\n",
       "Based on the real-life relationship between teammates Brian Piccolo and Gale Sayers and the bond established when Piccolo discovers that he is dying.                                                                                                                                                                                                                                                                                      1\n",
       "Name: overview, Length: 10847, dtype: int64"
      ]
     },
     "execution_count": 110,
     "metadata": {},
     "output_type": "execute_result"
    }
   ],
   "source": [
    "df['overview'].value_counts()"
   ]
  },
  {
   "cell_type": "markdown",
   "metadata": {},
   "source": [
    "#### `production_companies` column"
   ]
  },
  {
   "cell_type": "code",
   "execution_count": 111,
   "metadata": {},
   "outputs": [
    {
     "data": {
      "text/plain": [
       "Paramount Pictures                              156\n",
       "Universal Pictures                              133\n",
       "Warner Bros.                                     84\n",
       "Walt Disney Pictures                             76\n",
       "Columbia Pictures                                72\n",
       "Metro-Goldwyn-Mayer (MGM)                        72\n",
       "New Line Cinema                                  61\n",
       "Touchstone Pictures                              51\n",
       "20th Century Fox                                 50\n",
       "Twentieth Century Fox Film Corporation           49\n",
       "TriStar Pictures                                 45\n",
       "Orion Pictures                                   42\n",
       "Miramax Films                                    32\n",
       "Columbia Pictures Corporation                    31\n",
       "DreamWorks Animation                             31\n",
       "Pixar Animation Studios                          30\n",
       "Walt Disney Productions                          29\n",
       "Dimension Films                                  28\n",
       "United Artists                                   23\n",
       "Imagine Entertainment|Universal Pictures         22\n",
       "Marvel Studios                                   22\n",
       "The Asylum                                       21\n",
       "Lions Gate Films                                 21\n",
       "Walt Disney Pictures|Pixar Animation Studios     17\n",
       "New World Pictures                               17\n",
       "Name: production_companies, dtype: int64"
      ]
     },
     "execution_count": 111,
     "metadata": {},
     "output_type": "execute_result"
    }
   ],
   "source": [
    "df['production_companies'].value_counts().head(25)"
   ]
  },
  {
   "cell_type": "markdown",
   "metadata": {},
   "source": [
    "#### `release_date` column"
   ]
  },
  {
   "cell_type": "code",
   "execution_count": 112,
   "metadata": {},
   "outputs": [
    {
     "data": {
      "text/plain": [
       "5755      7/6/13\n",
       "9187     12/1/89\n",
       "6217     9/30/05\n",
       "3702      8/4/11\n",
       "5063    10/29/03\n",
       "3763      6/4/11\n",
       "4861     1/31/12\n",
       "5243     8/15/97\n",
       "2005      6/4/10\n",
       "3281      2/3/08\n",
       "Name: release_date, dtype: object"
      ]
     },
     "execution_count": 112,
     "metadata": {},
     "output_type": "execute_result"
    }
   ],
   "source": [
    "df['release_date'].sample(10)"
   ]
  },
  {
   "cell_type": "markdown",
   "metadata": {},
   "source": [
    "#### `vote_count` column"
   ]
  },
  {
   "cell_type": "code",
   "execution_count": 113,
   "metadata": {},
   "outputs": [
    {
     "data": {
      "text/plain": [
       "979      14\n",
       "2817     11\n",
       "911      30\n",
       "5549    637\n",
       "4652     23\n",
       "5748     49\n",
       "1694    254\n",
       "7736     17\n",
       "6264    185\n",
       "9567     13\n",
       "Name: vote_count, dtype: int64"
      ]
     },
     "execution_count": 113,
     "metadata": {},
     "output_type": "execute_result"
    }
   ],
   "source": [
    "df['vote_count'].sample(10)"
   ]
  },
  {
   "cell_type": "code",
   "execution_count": 114,
   "metadata": {},
   "outputs": [
    {
     "data": {
      "text/plain": [
       "count    10866.000000\n",
       "mean       217.389748\n",
       "std        575.619058\n",
       "min         10.000000\n",
       "25%         17.000000\n",
       "50%         38.000000\n",
       "75%        145.750000\n",
       "max       9767.000000\n",
       "Name: vote_count, dtype: float64"
      ]
     },
     "execution_count": 114,
     "metadata": {},
     "output_type": "execute_result"
    }
   ],
   "source": [
    "#to get a sense of the numbers\n",
    "df['vote_count'].describe()"
   ]
  },
  {
   "cell_type": "markdown",
   "metadata": {},
   "source": [
    "#### `popularity` column"
   ]
  },
  {
   "cell_type": "code",
   "execution_count": 115,
   "metadata": {},
   "outputs": [
    {
     "data": {
      "text/plain": [
       "count    10866.000000\n",
       "mean         0.646441\n",
       "std          1.000185\n",
       "min          0.000065\n",
       "25%          0.207583\n",
       "50%          0.383856\n",
       "75%          0.713817\n",
       "max         32.985763\n",
       "Name: popularity, dtype: float64"
      ]
     },
     "execution_count": 115,
     "metadata": {},
     "output_type": "execute_result"
    }
   ],
   "source": [
    "#to get a sense of the numbers\n",
    "df['popularity'].describe()"
   ]
  },
  {
   "cell_type": "code",
   "execution_count": 116,
   "metadata": {},
   "outputs": [
    {
     "data": {
      "text/plain": [
       "6.500000000000001e-05"
      ]
     },
     "execution_count": 116,
     "metadata": {},
     "output_type": "execute_result"
    }
   ],
   "source": [
    "df['popularity'].min()"
   ]
  },
  {
   "cell_type": "code",
   "execution_count": 117,
   "metadata": {},
   "outputs": [
    {
     "data": {
      "text/html": [
       "<div>\n",
       "<style scoped>\n",
       "    .dataframe tbody tr th:only-of-type {\n",
       "        vertical-align: middle;\n",
       "    }\n",
       "\n",
       "    .dataframe tbody tr th {\n",
       "        vertical-align: top;\n",
       "    }\n",
       "\n",
       "    .dataframe thead th {\n",
       "        text-align: right;\n",
       "    }\n",
       "</style>\n",
       "<table border=\"1\" class=\"dataframe\">\n",
       "  <thead>\n",
       "    <tr style=\"text-align: right;\">\n",
       "      <th></th>\n",
       "      <th>id</th>\n",
       "      <th>imdb_id</th>\n",
       "      <th>popularity</th>\n",
       "      <th>budget</th>\n",
       "      <th>revenue</th>\n",
       "      <th>original_title</th>\n",
       "      <th>cast</th>\n",
       "      <th>homepage</th>\n",
       "      <th>director</th>\n",
       "      <th>tagline</th>\n",
       "      <th>...</th>\n",
       "      <th>overview</th>\n",
       "      <th>runtime</th>\n",
       "      <th>genres</th>\n",
       "      <th>production_companies</th>\n",
       "      <th>release_date</th>\n",
       "      <th>vote_count</th>\n",
       "      <th>vote_average</th>\n",
       "      <th>release_year</th>\n",
       "      <th>budget_adj</th>\n",
       "      <th>revenue_adj</th>\n",
       "    </tr>\n",
       "  </thead>\n",
       "  <tbody>\n",
       "    <tr>\n",
       "      <td>6181</td>\n",
       "      <td>18729</td>\n",
       "      <td>tt0088583</td>\n",
       "      <td>0.000065</td>\n",
       "      <td>0</td>\n",
       "      <td>0</td>\n",
       "      <td>North and South, Book I</td>\n",
       "      <td>Patrick Swayze|Philip Casnoff|Kirstie Alley|Ge...</td>\n",
       "      <td>NaN</td>\n",
       "      <td>NaN</td>\n",
       "      <td>NaN</td>\n",
       "      <td>...</td>\n",
       "      <td>Two friends, one northern and one southern, st...</td>\n",
       "      <td>561</td>\n",
       "      <td>Drama|History|Western</td>\n",
       "      <td>NaN</td>\n",
       "      <td>11/3/85</td>\n",
       "      <td>17</td>\n",
       "      <td>6.0</td>\n",
       "      <td>1985</td>\n",
       "      <td>0.0</td>\n",
       "      <td>0.0</td>\n",
       "    </tr>\n",
       "  </tbody>\n",
       "</table>\n",
       "<p>1 rows × 21 columns</p>\n",
       "</div>"
      ],
      "text/plain": [
       "         id    imdb_id  popularity  budget  revenue           original_title  \\\n",
       "6181  18729  tt0088583    0.000065       0        0  North and South, Book I   \n",
       "\n",
       "                                                   cast homepage director  \\\n",
       "6181  Patrick Swayze|Philip Casnoff|Kirstie Alley|Ge...      NaN      NaN   \n",
       "\n",
       "     tagline  ...                                           overview runtime  \\\n",
       "6181     NaN  ...  Two friends, one northern and one southern, st...     561   \n",
       "\n",
       "                     genres production_companies release_date vote_count  \\\n",
       "6181  Drama|History|Western                  NaN      11/3/85         17   \n",
       "\n",
       "      vote_average  release_year  budget_adj  revenue_adj  \n",
       "6181           6.0          1985         0.0          0.0  \n",
       "\n",
       "[1 rows x 21 columns]"
      ]
     },
     "execution_count": 117,
     "metadata": {},
     "output_type": "execute_result"
    }
   ],
   "source": [
    "df[df['popularity'] == df['popularity'].min()] "
   ]
  },
  {
   "cell_type": "markdown",
   "metadata": {},
   "source": [
    "Runtime is 561 mins which is wierd!!"
   ]
  },
  {
   "cell_type": "markdown",
   "metadata": {},
   "source": [
    "#### `runtime` column"
   ]
  },
  {
   "cell_type": "code",
   "execution_count": 118,
   "metadata": {},
   "outputs": [
    {
     "data": {
      "text/plain": [
       "145"
      ]
     },
     "execution_count": 118,
     "metadata": {},
     "output_type": "execute_result"
    }
   ],
   "source": [
    "sum(df['runtime'] >= 180)"
   ]
  },
  {
   "cell_type": "markdown",
   "metadata": {},
   "source": [
    "Apparantly, there's something wrong"
   ]
  },
  {
   "cell_type": "code",
   "execution_count": 119,
   "metadata": {},
   "outputs": [
    {
     "data": {
      "text/html": [
       "<div>\n",
       "<style scoped>\n",
       "    .dataframe tbody tr th:only-of-type {\n",
       "        vertical-align: middle;\n",
       "    }\n",
       "\n",
       "    .dataframe tbody tr th {\n",
       "        vertical-align: top;\n",
       "    }\n",
       "\n",
       "    .dataframe thead th {\n",
       "        text-align: right;\n",
       "    }\n",
       "</style>\n",
       "<table border=\"1\" class=\"dataframe\">\n",
       "  <thead>\n",
       "    <tr style=\"text-align: right;\">\n",
       "      <th></th>\n",
       "      <th>id</th>\n",
       "      <th>imdb_id</th>\n",
       "      <th>popularity</th>\n",
       "      <th>budget</th>\n",
       "      <th>revenue</th>\n",
       "      <th>original_title</th>\n",
       "      <th>cast</th>\n",
       "      <th>homepage</th>\n",
       "      <th>director</th>\n",
       "      <th>tagline</th>\n",
       "      <th>...</th>\n",
       "      <th>overview</th>\n",
       "      <th>runtime</th>\n",
       "      <th>genres</th>\n",
       "      <th>production_companies</th>\n",
       "      <th>release_date</th>\n",
       "      <th>vote_count</th>\n",
       "      <th>vote_average</th>\n",
       "      <th>release_year</th>\n",
       "      <th>budget_adj</th>\n",
       "      <th>revenue_adj</th>\n",
       "    </tr>\n",
       "  </thead>\n",
       "  <tbody>\n",
       "    <tr>\n",
       "      <td>6829</td>\n",
       "      <td>134777</td>\n",
       "      <td>tt0830361</td>\n",
       "      <td>0.265388</td>\n",
       "      <td>0</td>\n",
       "      <td>0</td>\n",
       "      <td>The Lost Room</td>\n",
       "      <td>Peter Krause|Julianna Margulies|Kevin Pollak|R...</td>\n",
       "      <td>NaN</td>\n",
       "      <td>Craig R. Baxley|Michael W. Watkins</td>\n",
       "      <td>NaN</td>\n",
       "      <td>...</td>\n",
       "      <td>Peter Krause (Six Feet Under) heads up the ste...</td>\n",
       "      <td>270</td>\n",
       "      <td>Action|Fantasy|Mystery</td>\n",
       "      <td>Lions Gate|Motel Man Productions</td>\n",
       "      <td>12/9/06</td>\n",
       "      <td>28</td>\n",
       "      <td>7.2</td>\n",
       "      <td>2006</td>\n",
       "      <td>0.000000e+00</td>\n",
       "      <td>0.000000e+00</td>\n",
       "    </tr>\n",
       "    <tr>\n",
       "      <td>6181</td>\n",
       "      <td>18729</td>\n",
       "      <td>tt0088583</td>\n",
       "      <td>0.000065</td>\n",
       "      <td>0</td>\n",
       "      <td>0</td>\n",
       "      <td>North and South, Book I</td>\n",
       "      <td>Patrick Swayze|Philip Casnoff|Kirstie Alley|Ge...</td>\n",
       "      <td>NaN</td>\n",
       "      <td>NaN</td>\n",
       "      <td>NaN</td>\n",
       "      <td>...</td>\n",
       "      <td>Two friends, one northern and one southern, st...</td>\n",
       "      <td>561</td>\n",
       "      <td>Drama|History|Western</td>\n",
       "      <td>NaN</td>\n",
       "      <td>11/3/85</td>\n",
       "      <td>17</td>\n",
       "      <td>6.0</td>\n",
       "      <td>1985</td>\n",
       "      <td>0.000000e+00</td>\n",
       "      <td>0.000000e+00</td>\n",
       "    </tr>\n",
       "    <tr>\n",
       "      <td>8221</td>\n",
       "      <td>55676</td>\n",
       "      <td>tt0112120</td>\n",
       "      <td>0.194889</td>\n",
       "      <td>0</td>\n",
       "      <td>0</td>\n",
       "      <td>A Personal Journey with Martin Scorsese Throug...</td>\n",
       "      <td>Martin Scorsese|Brian De Palma|Gregory Peck|Fr...</td>\n",
       "      <td>NaN</td>\n",
       "      <td>Martin Scorsese|Michael Henry Wilson</td>\n",
       "      <td>NaN</td>\n",
       "      <td>...</td>\n",
       "      <td>Martin Scorsese celebrates American movies fro...</td>\n",
       "      <td>225</td>\n",
       "      <td>Documentary</td>\n",
       "      <td>Miramax Films|British Film Institute (BFI)</td>\n",
       "      <td>5/21/95</td>\n",
       "      <td>11</td>\n",
       "      <td>8.5</td>\n",
       "      <td>1995</td>\n",
       "      <td>0.000000e+00</td>\n",
       "      <td>0.000000e+00</td>\n",
       "    </tr>\n",
       "    <tr>\n",
       "      <td>6141</td>\n",
       "      <td>34573</td>\n",
       "      <td>tt0088693</td>\n",
       "      <td>0.350256</td>\n",
       "      <td>0</td>\n",
       "      <td>0</td>\n",
       "      <td>Alice in Wonderland</td>\n",
       "      <td>Natalie Gregory|Sheila Allen|Sharee Gregory|Re...</td>\n",
       "      <td>NaN</td>\n",
       "      <td>Harry Harris</td>\n",
       "      <td>NaN</td>\n",
       "      <td>...</td>\n",
       "      <td>Classic tale of a girl named Alice who follows...</td>\n",
       "      <td>187</td>\n",
       "      <td>Fantasy|Family</td>\n",
       "      <td>NaN</td>\n",
       "      <td>12/9/85</td>\n",
       "      <td>13</td>\n",
       "      <td>6.2</td>\n",
       "      <td>1985</td>\n",
       "      <td>0.000000e+00</td>\n",
       "      <td>0.000000e+00</td>\n",
       "    </tr>\n",
       "    <tr>\n",
       "      <td>2642</td>\n",
       "      <td>676</td>\n",
       "      <td>tt0213149</td>\n",
       "      <td>2.478879</td>\n",
       "      <td>140000000</td>\n",
       "      <td>449220945</td>\n",
       "      <td>Pearl Harbor</td>\n",
       "      <td>Ben Affleck|Josh Hartnett|Kate Beckinsale|Cuba...</td>\n",
       "      <td>NaN</td>\n",
       "      <td>Michael Bay</td>\n",
       "      <td>December 7, 1941 - A day that shall live in in...</td>\n",
       "      <td>...</td>\n",
       "      <td>The lifelong friendship between Rafe McCawley ...</td>\n",
       "      <td>183</td>\n",
       "      <td>History|Romance|War</td>\n",
       "      <td>Jerry Bruckheimer Films|Touchstone Pictures</td>\n",
       "      <td>5/21/01</td>\n",
       "      <td>1044</td>\n",
       "      <td>6.6</td>\n",
       "      <td>2001</td>\n",
       "      <td>1.724083e+08</td>\n",
       "      <td>5.532103e+08</td>\n",
       "    </tr>\n",
       "  </tbody>\n",
       "</table>\n",
       "<p>5 rows × 21 columns</p>\n",
       "</div>"
      ],
      "text/plain": [
       "          id    imdb_id  popularity     budget    revenue  \\\n",
       "6829  134777  tt0830361    0.265388          0          0   \n",
       "6181   18729  tt0088583    0.000065          0          0   \n",
       "8221   55676  tt0112120    0.194889          0          0   \n",
       "6141   34573  tt0088693    0.350256          0          0   \n",
       "2642     676  tt0213149    2.478879  140000000  449220945   \n",
       "\n",
       "                                         original_title  \\\n",
       "6829                                      The Lost Room   \n",
       "6181                            North and South, Book I   \n",
       "8221  A Personal Journey with Martin Scorsese Throug...   \n",
       "6141                                Alice in Wonderland   \n",
       "2642                                       Pearl Harbor   \n",
       "\n",
       "                                                   cast homepage  \\\n",
       "6829  Peter Krause|Julianna Margulies|Kevin Pollak|R...      NaN   \n",
       "6181  Patrick Swayze|Philip Casnoff|Kirstie Alley|Ge...      NaN   \n",
       "8221  Martin Scorsese|Brian De Palma|Gregory Peck|Fr...      NaN   \n",
       "6141  Natalie Gregory|Sheila Allen|Sharee Gregory|Re...      NaN   \n",
       "2642  Ben Affleck|Josh Hartnett|Kate Beckinsale|Cuba...      NaN   \n",
       "\n",
       "                                  director  \\\n",
       "6829    Craig R. Baxley|Michael W. Watkins   \n",
       "6181                                   NaN   \n",
       "8221  Martin Scorsese|Michael Henry Wilson   \n",
       "6141                          Harry Harris   \n",
       "2642                           Michael Bay   \n",
       "\n",
       "                                                tagline  ...  \\\n",
       "6829                                                NaN  ...   \n",
       "6181                                                NaN  ...   \n",
       "8221                                                NaN  ...   \n",
       "6141                                                NaN  ...   \n",
       "2642  December 7, 1941 - A day that shall live in in...  ...   \n",
       "\n",
       "                                               overview runtime  \\\n",
       "6829  Peter Krause (Six Feet Under) heads up the ste...     270   \n",
       "6181  Two friends, one northern and one southern, st...     561   \n",
       "8221  Martin Scorsese celebrates American movies fro...     225   \n",
       "6141  Classic tale of a girl named Alice who follows...     187   \n",
       "2642  The lifelong friendship between Rafe McCawley ...     183   \n",
       "\n",
       "                      genres                         production_companies  \\\n",
       "6829  Action|Fantasy|Mystery             Lions Gate|Motel Man Productions   \n",
       "6181   Drama|History|Western                                          NaN   \n",
       "8221             Documentary   Miramax Films|British Film Institute (BFI)   \n",
       "6141          Fantasy|Family                                          NaN   \n",
       "2642     History|Romance|War  Jerry Bruckheimer Films|Touchstone Pictures   \n",
       "\n",
       "     release_date vote_count  vote_average  release_year    budget_adj  \\\n",
       "6829      12/9/06         28           7.2          2006  0.000000e+00   \n",
       "6181      11/3/85         17           6.0          1985  0.000000e+00   \n",
       "8221      5/21/95         11           8.5          1995  0.000000e+00   \n",
       "6141      12/9/85         13           6.2          1985  0.000000e+00   \n",
       "2642      5/21/01       1044           6.6          2001  1.724083e+08   \n",
       "\n",
       "       revenue_adj  \n",
       "6829  0.000000e+00  \n",
       "6181  0.000000e+00  \n",
       "8221  0.000000e+00  \n",
       "6141  0.000000e+00  \n",
       "2642  5.532103e+08  \n",
       "\n",
       "[5 rows x 21 columns]"
      ]
     },
     "execution_count": 119,
     "metadata": {},
     "output_type": "execute_result"
    }
   ],
   "source": [
    "df[df['runtime'] >= 180].sample(5)"
   ]
  },
  {
   "cell_type": "markdown",
   "metadata": {},
   "source": [
    "The dataset has movies and series/miniseries which is considered a tidiness issue"
   ]
  },
  {
   "cell_type": "markdown",
   "metadata": {},
   "source": [
    "#### `genres` column"
   ]
  },
  {
   "cell_type": "code",
   "execution_count": 120,
   "metadata": {},
   "outputs": [
    {
     "data": {
      "text/plain": [
       "Drama                   712\n",
       "Comedy                  712\n",
       "Documentary             312\n",
       "Drama|Romance           289\n",
       "Comedy|Drama            280\n",
       "Comedy|Romance          268\n",
       "Horror|Thriller         259\n",
       "Horror                  253\n",
       "Comedy|Drama|Romance    222\n",
       "Drama|Thriller          138\n",
       "Comedy|Family           102\n",
       "Action|Thriller         101\n",
       "Thriller                 93\n",
       "Drama|Comedy             92\n",
       "Animation|Family         90\n",
       "Name: genres, dtype: int64"
      ]
     },
     "execution_count": 120,
     "metadata": {},
     "output_type": "execute_result"
    }
   ],
   "source": [
    "df['genres'].value_counts().sort_values(ascending=False).head(15)"
   ]
  },
  {
   "cell_type": "markdown",
   "metadata": {},
   "source": [
    "#### `budget` & `budget_adj` columns"
   ]
  },
  {
   "cell_type": "code",
   "execution_count": 121,
   "metadata": {},
   "outputs": [
    {
     "data": {
      "text/plain": [
       "count    1.086600e+04\n",
       "mean     1.462570e+07\n",
       "std      3.091321e+07\n",
       "min      0.000000e+00\n",
       "25%      0.000000e+00\n",
       "50%      0.000000e+00\n",
       "75%      1.500000e+07\n",
       "max      4.250000e+08\n",
       "Name: budget, dtype: float64"
      ]
     },
     "execution_count": 121,
     "metadata": {},
     "output_type": "execute_result"
    }
   ],
   "source": [
    "#to get a sense of the range of values in the budget column\n",
    "df['budget'].describe()"
   ]
  },
  {
   "cell_type": "code",
   "execution_count": 122,
   "metadata": {},
   "outputs": [
    {
     "data": {
      "text/html": [
       "<div>\n",
       "<style scoped>\n",
       "    .dataframe tbody tr th:only-of-type {\n",
       "        vertical-align: middle;\n",
       "    }\n",
       "\n",
       "    .dataframe tbody tr th {\n",
       "        vertical-align: top;\n",
       "    }\n",
       "\n",
       "    .dataframe thead th {\n",
       "        text-align: right;\n",
       "    }\n",
       "</style>\n",
       "<table border=\"1\" class=\"dataframe\">\n",
       "  <thead>\n",
       "    <tr style=\"text-align: right;\">\n",
       "      <th></th>\n",
       "      <th>id</th>\n",
       "      <th>imdb_id</th>\n",
       "      <th>popularity</th>\n",
       "      <th>budget</th>\n",
       "      <th>revenue</th>\n",
       "      <th>original_title</th>\n",
       "      <th>cast</th>\n",
       "      <th>homepage</th>\n",
       "      <th>director</th>\n",
       "      <th>tagline</th>\n",
       "      <th>...</th>\n",
       "      <th>overview</th>\n",
       "      <th>runtime</th>\n",
       "      <th>genres</th>\n",
       "      <th>production_companies</th>\n",
       "      <th>release_date</th>\n",
       "      <th>vote_count</th>\n",
       "      <th>vote_average</th>\n",
       "      <th>release_year</th>\n",
       "      <th>budget_adj</th>\n",
       "      <th>revenue_adj</th>\n",
       "    </tr>\n",
       "  </thead>\n",
       "  <tbody>\n",
       "    <tr>\n",
       "      <td>6387</td>\n",
       "      <td>15258</td>\n",
       "      <td>tt0436078</td>\n",
       "      <td>0.261343</td>\n",
       "      <td>0</td>\n",
       "      <td>0</td>\n",
       "      <td>The Aristocrats</td>\n",
       "      <td>Jason Alexander|Chris Albrecht|Hank Azaria|She...</td>\n",
       "      <td>NaN</td>\n",
       "      <td>Paul Provenza</td>\n",
       "      <td>100 Superstar Comedians. One Very Dirty Joke.</td>\n",
       "      <td>...</td>\n",
       "      <td>One hundred superstar comedians tell the same ...</td>\n",
       "      <td>89</td>\n",
       "      <td>Comedy|Documentary</td>\n",
       "      <td>Mighty Cheese Productions</td>\n",
       "      <td>1/1/05</td>\n",
       "      <td>18</td>\n",
       "      <td>5.8</td>\n",
       "      <td>2005</td>\n",
       "      <td>0.0</td>\n",
       "      <td>0.000000e+00</td>\n",
       "    </tr>\n",
       "    <tr>\n",
       "      <td>1286</td>\n",
       "      <td>250777</td>\n",
       "      <td>tt2174896</td>\n",
       "      <td>0.190655</td>\n",
       "      <td>0</td>\n",
       "      <td>0</td>\n",
       "      <td>To Be Takei</td>\n",
       "      <td>George Takei|Leonard Nimoy|William Shatner|Nic...</td>\n",
       "      <td>http://tobetakei.com/</td>\n",
       "      <td>Jennifer M. Kroot</td>\n",
       "      <td>NaN</td>\n",
       "      <td>...</td>\n",
       "      <td>Over seven decades, actor and activist George ...</td>\n",
       "      <td>94</td>\n",
       "      <td>Documentary</td>\n",
       "      <td>Rainbow Shooting Star Pictures|Dodgeville Films</td>\n",
       "      <td>8/22/14</td>\n",
       "      <td>15</td>\n",
       "      <td>6.5</td>\n",
       "      <td>2014</td>\n",
       "      <td>0.0</td>\n",
       "      <td>0.000000e+00</td>\n",
       "    </tr>\n",
       "    <tr>\n",
       "      <td>7879</td>\n",
       "      <td>40842</td>\n",
       "      <td>tt0079638</td>\n",
       "      <td>0.058087</td>\n",
       "      <td>0</td>\n",
       "      <td>22228000</td>\n",
       "      <td>Norma Rae</td>\n",
       "      <td>Sally Field|Beau Bridges|Ron Leibman|Pat Hingl...</td>\n",
       "      <td>NaN</td>\n",
       "      <td>Martin Ritt</td>\n",
       "      <td>The story of a woman with the courage to risk ...</td>\n",
       "      <td>...</td>\n",
       "      <td>Norma Rae is a southern textile worker employe...</td>\n",
       "      <td>110</td>\n",
       "      <td>Drama</td>\n",
       "      <td>Twentieth Century Fox Film Corporation</td>\n",
       "      <td>3/2/79</td>\n",
       "      <td>13</td>\n",
       "      <td>5.8</td>\n",
       "      <td>1979</td>\n",
       "      <td>0.0</td>\n",
       "      <td>6.678523e+07</td>\n",
       "    </tr>\n",
       "  </tbody>\n",
       "</table>\n",
       "<p>3 rows × 21 columns</p>\n",
       "</div>"
      ],
      "text/plain": [
       "          id    imdb_id  popularity  budget   revenue   original_title  \\\n",
       "6387   15258  tt0436078    0.261343       0         0  The Aristocrats   \n",
       "1286  250777  tt2174896    0.190655       0         0      To Be Takei   \n",
       "7879   40842  tt0079638    0.058087       0  22228000        Norma Rae   \n",
       "\n",
       "                                                   cast  \\\n",
       "6387  Jason Alexander|Chris Albrecht|Hank Azaria|She...   \n",
       "1286  George Takei|Leonard Nimoy|William Shatner|Nic...   \n",
       "7879  Sally Field|Beau Bridges|Ron Leibman|Pat Hingl...   \n",
       "\n",
       "                   homepage           director  \\\n",
       "6387                    NaN      Paul Provenza   \n",
       "1286  http://tobetakei.com/  Jennifer M. Kroot   \n",
       "7879                    NaN        Martin Ritt   \n",
       "\n",
       "                                                tagline  ...  \\\n",
       "6387      100 Superstar Comedians. One Very Dirty Joke.  ...   \n",
       "1286                                                NaN  ...   \n",
       "7879  The story of a woman with the courage to risk ...  ...   \n",
       "\n",
       "                                               overview runtime  \\\n",
       "6387  One hundred superstar comedians tell the same ...      89   \n",
       "1286  Over seven decades, actor and activist George ...      94   \n",
       "7879  Norma Rae is a southern textile worker employe...     110   \n",
       "\n",
       "                  genres                             production_companies  \\\n",
       "6387  Comedy|Documentary                        Mighty Cheese Productions   \n",
       "1286         Documentary  Rainbow Shooting Star Pictures|Dodgeville Films   \n",
       "7879               Drama           Twentieth Century Fox Film Corporation   \n",
       "\n",
       "     release_date vote_count  vote_average  release_year  budget_adj  \\\n",
       "6387       1/1/05         18           5.8          2005         0.0   \n",
       "1286      8/22/14         15           6.5          2014         0.0   \n",
       "7879       3/2/79         13           5.8          1979         0.0   \n",
       "\n",
       "       revenue_adj  \n",
       "6387  0.000000e+00  \n",
       "1286  0.000000e+00  \n",
       "7879  6.678523e+07  \n",
       "\n",
       "[3 rows x 21 columns]"
      ]
     },
     "execution_count": 122,
     "metadata": {},
     "output_type": "execute_result"
    }
   ],
   "source": [
    "#because it doesn't make sense to have a budget of zero\n",
    "df[df['budget'] == 0].sample(3)"
   ]
  },
  {
   "cell_type": "code",
   "execution_count": 123,
   "metadata": {},
   "outputs": [
    {
     "data": {
      "text/plain": [
       "0.0"
      ]
     },
     "execution_count": 123,
     "metadata": {},
     "output_type": "execute_result"
    }
   ],
   "source": [
    "# let's check if we can fix them by using the 2010 dollar values\n",
    "df['budget_adj'].min()"
   ]
  },
  {
   "cell_type": "code",
   "execution_count": 124,
   "metadata": {},
   "outputs": [
    {
     "data": {
      "text/plain": [
       "count    1.086600e+04\n",
       "mean     1.755104e+07\n",
       "std      3.430616e+07\n",
       "min      0.000000e+00\n",
       "25%      0.000000e+00\n",
       "50%      0.000000e+00\n",
       "75%      2.085325e+07\n",
       "max      4.250000e+08\n",
       "Name: budget_adj, dtype: float64"
      ]
     },
     "execution_count": 124,
     "metadata": {},
     "output_type": "execute_result"
    }
   ],
   "source": [
    "df['budget_adj'].describe()"
   ]
  },
  {
   "cell_type": "markdown",
   "metadata": {},
   "source": [
    "#### `revenue` & `revenue_adj` columns"
   ]
  },
  {
   "cell_type": "code",
   "execution_count": 125,
   "metadata": {},
   "outputs": [
    {
     "data": {
      "text/plain": [
       "count    1.086600e+04\n",
       "mean     3.982332e+07\n",
       "std      1.170035e+08\n",
       "min      0.000000e+00\n",
       "25%      0.000000e+00\n",
       "50%      0.000000e+00\n",
       "75%      2.400000e+07\n",
       "max      2.781506e+09\n",
       "Name: revenue, dtype: float64"
      ]
     },
     "execution_count": 125,
     "metadata": {},
     "output_type": "execute_result"
    }
   ],
   "source": [
    "# to get a sense of the range of values in revenue\n",
    "df['revenue'].describe()"
   ]
  },
  {
   "cell_type": "code",
   "execution_count": 126,
   "metadata": {},
   "outputs": [
    {
     "data": {
      "text/plain": [
       "6016"
      ]
     },
     "execution_count": 126,
     "metadata": {},
     "output_type": "execute_result"
    }
   ],
   "source": [
    "sum(df['revenue'] == 0)"
   ]
  },
  {
   "cell_type": "code",
   "execution_count": 127,
   "metadata": {},
   "outputs": [
    {
     "data": {
      "text/plain": [
       "4850"
      ]
     },
     "execution_count": 127,
     "metadata": {},
     "output_type": "execute_result"
    }
   ],
   "source": [
    "sum(df['revenue'] != 0)"
   ]
  },
  {
   "cell_type": "code",
   "execution_count": 128,
   "metadata": {},
   "outputs": [
    {
     "data": {
      "text/plain": [
       "count    1.086600e+04\n",
       "mean     5.136436e+07\n",
       "std      1.446325e+08\n",
       "min      0.000000e+00\n",
       "25%      0.000000e+00\n",
       "50%      0.000000e+00\n",
       "75%      3.369710e+07\n",
       "max      2.827124e+09\n",
       "Name: revenue_adj, dtype: float64"
      ]
     },
     "execution_count": 128,
     "metadata": {},
     "output_type": "execute_result"
    }
   ],
   "source": [
    "# to get a sense of the range of values in revenue\n",
    "df['revenue_adj'].describe()"
   ]
  },
  {
   "cell_type": "code",
   "execution_count": 129,
   "metadata": {},
   "outputs": [
    {
     "data": {
      "text/html": [
       "<div>\n",
       "<style scoped>\n",
       "    .dataframe tbody tr th:only-of-type {\n",
       "        vertical-align: middle;\n",
       "    }\n",
       "\n",
       "    .dataframe tbody tr th {\n",
       "        vertical-align: top;\n",
       "    }\n",
       "\n",
       "    .dataframe thead th {\n",
       "        text-align: right;\n",
       "    }\n",
       "</style>\n",
       "<table border=\"1\" class=\"dataframe\">\n",
       "  <thead>\n",
       "    <tr style=\"text-align: right;\">\n",
       "      <th></th>\n",
       "      <th>id</th>\n",
       "      <th>imdb_id</th>\n",
       "      <th>popularity</th>\n",
       "      <th>budget</th>\n",
       "      <th>revenue</th>\n",
       "      <th>original_title</th>\n",
       "      <th>cast</th>\n",
       "      <th>homepage</th>\n",
       "      <th>director</th>\n",
       "      <th>tagline</th>\n",
       "      <th>...</th>\n",
       "      <th>overview</th>\n",
       "      <th>runtime</th>\n",
       "      <th>genres</th>\n",
       "      <th>production_companies</th>\n",
       "      <th>release_date</th>\n",
       "      <th>vote_count</th>\n",
       "      <th>vote_average</th>\n",
       "      <th>release_year</th>\n",
       "      <th>budget_adj</th>\n",
       "      <th>revenue_adj</th>\n",
       "    </tr>\n",
       "  </thead>\n",
       "  <tbody>\n",
       "    <tr>\n",
       "      <td>3760</td>\n",
       "      <td>98344</td>\n",
       "      <td>tt2007993</td>\n",
       "      <td>0.191228</td>\n",
       "      <td>25000000</td>\n",
       "      <td>0</td>\n",
       "      <td>è³½å¾·å…‹Â·å·´èŠ (ä¸Š)  å¤ªé™½æ——</td>\n",
       "      <td>Umin Boya|Chi-Wei Cheng|Lin Ching-Tai|Masanobu...</td>\n",
       "      <td>NaN</td>\n",
       "      <td>Te-Sheng Wei</td>\n",
       "      <td>A man rises up to lead his people in a brave a...</td>\n",
       "      <td>...</td>\n",
       "      <td>Mouna Rudo was born and raised among the Seedi...</td>\n",
       "      <td>144</td>\n",
       "      <td>Drama|Action|History</td>\n",
       "      <td>ARS Film Production</td>\n",
       "      <td>4/9/11</td>\n",
       "      <td>11</td>\n",
       "      <td>6.0</td>\n",
       "      <td>2011</td>\n",
       "      <td>2.423495e+07</td>\n",
       "      <td>0.0</td>\n",
       "    </tr>\n",
       "    <tr>\n",
       "      <td>8855</td>\n",
       "      <td>19349</td>\n",
       "      <td>tt0278793</td>\n",
       "      <td>0.130377</td>\n",
       "      <td>0</td>\n",
       "      <td>0</td>\n",
       "      <td>The Up in Smoke Tour</td>\n",
       "      <td>Ice Cube|Eminem|Dr. Dre|Snoop Dogg|Nate Dogg</td>\n",
       "      <td>NaN</td>\n",
       "      <td>Philip G. Atwell</td>\n",
       "      <td>Smoke Weed Everyday</td>\n",
       "      <td>...</td>\n",
       "      <td>The Up in Smoke Tour is a West Coast hip hop t...</td>\n",
       "      <td>119</td>\n",
       "      <td>Documentary|Music</td>\n",
       "      <td>Eagle Rock Entertainment</td>\n",
       "      <td>12/2/00</td>\n",
       "      <td>12</td>\n",
       "      <td>7.5</td>\n",
       "      <td>2000</td>\n",
       "      <td>0.000000e+00</td>\n",
       "      <td>0.0</td>\n",
       "    </tr>\n",
       "    <tr>\n",
       "      <td>6145</td>\n",
       "      <td>17898</td>\n",
       "      <td>tt0090021</td>\n",
       "      <td>0.328682</td>\n",
       "      <td>0</td>\n",
       "      <td>0</td>\n",
       "      <td>Silver Bullet</td>\n",
       "      <td>Gary Busey|Everett McGill|Corey Haim|Megan Fol...</td>\n",
       "      <td>NaN</td>\n",
       "      <td>Daniel Attias</td>\n",
       "      <td>It started in May. In a small town. And every ...</td>\n",
       "      <td>...</td>\n",
       "      <td>The small city of Tarker's Mill is startled by...</td>\n",
       "      <td>95</td>\n",
       "      <td>Horror</td>\n",
       "      <td>Paramount Pictures|Famous Films (II)</td>\n",
       "      <td>10/11/85</td>\n",
       "      <td>43</td>\n",
       "      <td>5.6</td>\n",
       "      <td>1985</td>\n",
       "      <td>0.000000e+00</td>\n",
       "      <td>0.0</td>\n",
       "    </tr>\n",
       "  </tbody>\n",
       "</table>\n",
       "<p>3 rows × 21 columns</p>\n",
       "</div>"
      ],
      "text/plain": [
       "         id    imdb_id  popularity    budget  revenue  \\\n",
       "3760  98344  tt2007993    0.191228  25000000        0   \n",
       "8855  19349  tt0278793    0.130377         0        0   \n",
       "6145  17898  tt0090021    0.328682         0        0   \n",
       "\n",
       "                         original_title  \\\n",
       "3760  è³½å¾·å…‹Â·å·´èŠ (ä¸Š)  å¤ªé™½æ——   \n",
       "8855               The Up in Smoke Tour   \n",
       "6145                      Silver Bullet   \n",
       "\n",
       "                                                   cast homepage  \\\n",
       "3760  Umin Boya|Chi-Wei Cheng|Lin Ching-Tai|Masanobu...      NaN   \n",
       "8855       Ice Cube|Eminem|Dr. Dre|Snoop Dogg|Nate Dogg      NaN   \n",
       "6145  Gary Busey|Everett McGill|Corey Haim|Megan Fol...      NaN   \n",
       "\n",
       "              director                                            tagline  \\\n",
       "3760      Te-Sheng Wei  A man rises up to lead his people in a brave a...   \n",
       "8855  Philip G. Atwell                                Smoke Weed Everyday   \n",
       "6145     Daniel Attias  It started in May. In a small town. And every ...   \n",
       "\n",
       "      ...                                           overview runtime  \\\n",
       "3760  ...  Mouna Rudo was born and raised among the Seedi...     144   \n",
       "8855  ...  The Up in Smoke Tour is a West Coast hip hop t...     119   \n",
       "6145  ...  The small city of Tarker's Mill is startled by...      95   \n",
       "\n",
       "                    genres                  production_companies release_date  \\\n",
       "3760  Drama|Action|History                   ARS Film Production       4/9/11   \n",
       "8855     Documentary|Music              Eagle Rock Entertainment      12/2/00   \n",
       "6145                Horror  Paramount Pictures|Famous Films (II)     10/11/85   \n",
       "\n",
       "     vote_count  vote_average  release_year    budget_adj  revenue_adj  \n",
       "3760         11           6.0          2011  2.423495e+07          0.0  \n",
       "8855         12           7.5          2000  0.000000e+00          0.0  \n",
       "6145         43           5.6          1985  0.000000e+00          0.0  \n",
       "\n",
       "[3 rows x 21 columns]"
      ]
     },
     "execution_count": 129,
     "metadata": {},
     "output_type": "execute_result"
    }
   ],
   "source": [
    "df[df['revenue'] == df['revenue'].min()].sample(3)"
   ]
  },
  {
   "cell_type": "code",
   "execution_count": 130,
   "metadata": {},
   "outputs": [
    {
     "data": {
      "text/html": [
       "<div>\n",
       "<style scoped>\n",
       "    .dataframe tbody tr th:only-of-type {\n",
       "        vertical-align: middle;\n",
       "    }\n",
       "\n",
       "    .dataframe tbody tr th {\n",
       "        vertical-align: top;\n",
       "    }\n",
       "\n",
       "    .dataframe thead th {\n",
       "        text-align: right;\n",
       "    }\n",
       "</style>\n",
       "<table border=\"1\" class=\"dataframe\">\n",
       "  <thead>\n",
       "    <tr style=\"text-align: right;\">\n",
       "      <th></th>\n",
       "      <th>id</th>\n",
       "      <th>imdb_id</th>\n",
       "      <th>popularity</th>\n",
       "      <th>budget</th>\n",
       "      <th>revenue</th>\n",
       "      <th>original_title</th>\n",
       "      <th>cast</th>\n",
       "      <th>homepage</th>\n",
       "      <th>director</th>\n",
       "      <th>tagline</th>\n",
       "      <th>...</th>\n",
       "      <th>overview</th>\n",
       "      <th>runtime</th>\n",
       "      <th>genres</th>\n",
       "      <th>production_companies</th>\n",
       "      <th>release_date</th>\n",
       "      <th>vote_count</th>\n",
       "      <th>vote_average</th>\n",
       "      <th>release_year</th>\n",
       "      <th>budget_adj</th>\n",
       "      <th>revenue_adj</th>\n",
       "    </tr>\n",
       "  </thead>\n",
       "  <tbody>\n",
       "    <tr>\n",
       "      <td>825</td>\n",
       "      <td>256835</td>\n",
       "      <td>tt3473654</td>\n",
       "      <td>0.707208</td>\n",
       "      <td>0</td>\n",
       "      <td>0</td>\n",
       "      <td>Toy Story That Time Forgot</td>\n",
       "      <td>Tom Hanks|Tim Allen|Joan Cusack|Kristen Schaal...</td>\n",
       "      <td>NaN</td>\n",
       "      <td>Steve Purcell</td>\n",
       "      <td>NaN</td>\n",
       "      <td>...</td>\n",
       "      <td>During a post-Christmas play date, the gang fi...</td>\n",
       "      <td>22</td>\n",
       "      <td>Animation|Family</td>\n",
       "      <td>Pixar Animation Studios</td>\n",
       "      <td>12/2/14</td>\n",
       "      <td>169</td>\n",
       "      <td>6.9</td>\n",
       "      <td>2014</td>\n",
       "      <td>0.0</td>\n",
       "      <td>0.0</td>\n",
       "    </tr>\n",
       "    <tr>\n",
       "      <td>10396</td>\n",
       "      <td>26672</td>\n",
       "      <td>tt0112389</td>\n",
       "      <td>0.014992</td>\n",
       "      <td>0</td>\n",
       "      <td>0</td>\n",
       "      <td>The Thief and the Cobbler</td>\n",
       "      <td>Vincent Price|Anthony Quayle|Sean Connery|Joan...</td>\n",
       "      <td>NaN</td>\n",
       "      <td>Richard Williams</td>\n",
       "      <td>NaN</td>\n",
       "      <td>...</td>\n",
       "      <td>It is written among the limitless constellatio...</td>\n",
       "      <td>72</td>\n",
       "      <td>Fantasy|Animation|Science Fiction|Family</td>\n",
       "      <td>Richard Williams Productions</td>\n",
       "      <td>9/23/93</td>\n",
       "      <td>14</td>\n",
       "      <td>6.3</td>\n",
       "      <td>1993</td>\n",
       "      <td>0.0</td>\n",
       "      <td>0.0</td>\n",
       "    </tr>\n",
       "    <tr>\n",
       "      <td>377</td>\n",
       "      <td>357681</td>\n",
       "      <td>tt4973112</td>\n",
       "      <td>0.198522</td>\n",
       "      <td>0</td>\n",
       "      <td>0</td>\n",
       "      <td>Hitting the Apex</td>\n",
       "      <td>Brad Pitt|Valentino Rossi|Jorge Lorenzo|Casey ...</td>\n",
       "      <td>http://hittingtheapexfilm.com/</td>\n",
       "      <td>Mark Neale</td>\n",
       "      <td>NaN</td>\n",
       "      <td>...</td>\n",
       "      <td>'Hitting the Apex' is the inside story of six ...</td>\n",
       "      <td>138</td>\n",
       "      <td>Documentary</td>\n",
       "      <td>First Movie Companie</td>\n",
       "      <td>9/2/15</td>\n",
       "      <td>14</td>\n",
       "      <td>8.0</td>\n",
       "      <td>2015</td>\n",
       "      <td>0.0</td>\n",
       "      <td>0.0</td>\n",
       "    </tr>\n",
       "  </tbody>\n",
       "</table>\n",
       "<p>3 rows × 21 columns</p>\n",
       "</div>"
      ],
      "text/plain": [
       "           id    imdb_id  popularity  budget  revenue  \\\n",
       "825    256835  tt3473654    0.707208       0        0   \n",
       "10396   26672  tt0112389    0.014992       0        0   \n",
       "377    357681  tt4973112    0.198522       0        0   \n",
       "\n",
       "                   original_title  \\\n",
       "825    Toy Story That Time Forgot   \n",
       "10396   The Thief and the Cobbler   \n",
       "377              Hitting the Apex   \n",
       "\n",
       "                                                    cast  \\\n",
       "825    Tom Hanks|Tim Allen|Joan Cusack|Kristen Schaal...   \n",
       "10396  Vincent Price|Anthony Quayle|Sean Connery|Joan...   \n",
       "377    Brad Pitt|Valentino Rossi|Jorge Lorenzo|Casey ...   \n",
       "\n",
       "                             homepage          director tagline  ...  \\\n",
       "825                               NaN     Steve Purcell     NaN  ...   \n",
       "10396                             NaN  Richard Williams     NaN  ...   \n",
       "377    http://hittingtheapexfilm.com/        Mark Neale     NaN  ...   \n",
       "\n",
       "                                                overview runtime  \\\n",
       "825    During a post-Christmas play date, the gang fi...      22   \n",
       "10396  It is written among the limitless constellatio...      72   \n",
       "377    'Hitting the Apex' is the inside story of six ...     138   \n",
       "\n",
       "                                         genres          production_companies  \\\n",
       "825                            Animation|Family       Pixar Animation Studios   \n",
       "10396  Fantasy|Animation|Science Fiction|Family  Richard Williams Productions   \n",
       "377                                 Documentary          First Movie Companie   \n",
       "\n",
       "      release_date vote_count  vote_average  release_year  budget_adj  \\\n",
       "825        12/2/14        169           6.9          2014         0.0   \n",
       "10396      9/23/93         14           6.3          1993         0.0   \n",
       "377         9/2/15         14           8.0          2015         0.0   \n",
       "\n",
       "       revenue_adj  \n",
       "825            0.0  \n",
       "10396          0.0  \n",
       "377            0.0  \n",
       "\n",
       "[3 rows x 21 columns]"
      ]
     },
     "execution_count": 130,
     "metadata": {},
     "output_type": "execute_result"
    }
   ],
   "source": [
    "df[df['revenue_adj'] == df['revenue_adj'].min()].sample(3)"
   ]
  },
  {
   "cell_type": "markdown",
   "metadata": {},
   "source": [
    "#### `vote_average` column"
   ]
  },
  {
   "cell_type": "code",
   "execution_count": 131,
   "metadata": {},
   "outputs": [
    {
     "data": {
      "text/plain": [
       "count    10866.000000\n",
       "mean         5.974922\n",
       "std          0.935142\n",
       "min          1.500000\n",
       "25%          5.400000\n",
       "50%          6.000000\n",
       "75%          6.600000\n",
       "max          9.200000\n",
       "Name: vote_average, dtype: float64"
      ]
     },
     "execution_count": 131,
     "metadata": {},
     "output_type": "execute_result"
    }
   ],
   "source": [
    "# to get a sense of the vote average\n",
    "df['vote_average'].describe()"
   ]
  },
  {
   "cell_type": "code",
   "execution_count": 132,
   "metadata": {},
   "outputs": [
    {
     "data": {
      "text/plain": [
       "6.1    496\n",
       "6.0    495\n",
       "5.8    486\n",
       "5.9    473\n",
       "6.2    464\n",
       "6.3    461\n",
       "6.5    457\n",
       "6.4    446\n",
       "5.7    415\n",
       "6.6    413\n",
       "5.6    412\n",
       "5.5    380\n",
       "6.7    376\n",
       "5.3    358\n",
       "5.4    338\n",
       "Name: vote_average, dtype: int64"
      ]
     },
     "execution_count": 132,
     "metadata": {},
     "output_type": "execute_result"
    }
   ],
   "source": [
    "df['vote_average'].value_counts().head(15)"
   ]
  },
  {
   "cell_type": "markdown",
   "metadata": {},
   "source": [
    "This means that `vote_average` ranges from 1 to 10."
   ]
  },
  {
   "cell_type": "markdown",
   "metadata": {},
   "source": [
    "To sum up the issues that need to be solved\n",
    "- one duplicate\n",
    "- `id` should be string\n",
    "- add '0' to ids\n",
    "- `release_date` should be datetime\n",
    "- Remove the series and miniseries into a separate table"
   ]
  },
  {
   "cell_type": "markdown",
   "metadata": {},
   "source": [
    "To sum up the questions that need to be answered\n",
    "- which genres are most popular every year?\n",
    "- high revenue movies vs (genre, budget, director, runtime, production company)\n",
    "- popularity vs (genre, director, budget, runtime, production company)\n",
    "- title vs (popularity, vote average, homepage, genre, director, production company)"
   ]
  },
  {
   "cell_type": "markdown",
   "metadata": {},
   "source": [
    "> **Tip**: You should _not_ perform too many operations in each cell. Create cells freely to explore your data. One option that you can take with this project is to do a lot of explorations in an initial notebook. These don't have to be organized, but make sure you use enough comments to understand the purpose of each code cell. Then, after you're done with your analysis, create a duplicate notebook where you will trim the excess and organize your steps so that you have a flowing, cohesive report.\n",
    "\n",
    "> **Tip**: Make sure that you keep your reader informed on the steps that you are taking in your investigation. Follow every code cell, or every set of related code cells, with a markdown cell to describe to the reader what was found in the preceding cell(s). Try to make it so that the reader can then understand what they will be seeing in the following cell(s).\n",
    "\n",
    "### Data Cleaning "
   ]
  },
  {
   "cell_type": "code",
   "execution_count": 145,
   "metadata": {},
   "outputs": [],
   "source": [
    "# Make a copy of the clean data\n",
    "movies = df.copy()"
   ]
  },
  {
   "cell_type": "markdown",
   "metadata": {},
   "source": [
    "#### Removing the duplicate"
   ]
  },
  {
   "cell_type": "code",
   "execution_count": 146,
   "metadata": {},
   "outputs": [],
   "source": [
    "movies.drop_duplicates(inplace=True)"
   ]
  },
  {
   "cell_type": "code",
   "execution_count": 147,
   "metadata": {},
   "outputs": [
    {
     "data": {
      "text/plain": [
       "0"
      ]
     },
     "execution_count": 147,
     "metadata": {},
     "output_type": "execute_result"
    }
   ],
   "source": [
    "# Just to check\n",
    "movies.duplicated().sum()"
   ]
  },
  {
   "cell_type": "markdown",
   "metadata": {},
   "source": [
    "#### Fixing the `id` column"
   ]
  },
  {
   "cell_type": "code",
   "execution_count": 148,
   "metadata": {},
   "outputs": [
    {
     "data": {
      "text/plain": [
       "dtype('int64')"
      ]
     },
     "execution_count": 148,
     "metadata": {},
     "output_type": "execute_result"
    }
   ],
   "source": [
    "movies['id'].dtype"
   ]
  },
  {
   "cell_type": "code",
   "execution_count": 139,
   "metadata": {},
   "outputs": [],
   "source": [
    "for id\n",
    "movies['id'] = str(movies['id'])"
   ]
  },
  {
   "cell_type": "code",
   "execution_count": 140,
   "metadata": {},
   "outputs": [
    {
     "data": {
      "text/plain": [
       "dtype('O')"
      ]
     },
     "execution_count": 140,
     "metadata": {},
     "output_type": "execute_result"
    }
   ],
   "source": [
    "# To check\n",
    "movies['id'].dtype"
   ]
  },
  {
   "cell_type": "code",
   "execution_count": 144,
   "metadata": {},
   "outputs": [
    {
     "data": {
      "text/html": [
       "<div>\n",
       "<style scoped>\n",
       "    .dataframe tbody tr th:only-of-type {\n",
       "        vertical-align: middle;\n",
       "    }\n",
       "\n",
       "    .dataframe tbody tr th {\n",
       "        vertical-align: top;\n",
       "    }\n",
       "\n",
       "    .dataframe thead th {\n",
       "        text-align: right;\n",
       "    }\n",
       "</style>\n",
       "<table border=\"1\" class=\"dataframe\">\n",
       "  <thead>\n",
       "    <tr style=\"text-align: right;\">\n",
       "      <th></th>\n",
       "      <th>id</th>\n",
       "      <th>imdb_id</th>\n",
       "      <th>popularity</th>\n",
       "      <th>budget</th>\n",
       "      <th>revenue</th>\n",
       "      <th>original_title</th>\n",
       "      <th>cast</th>\n",
       "      <th>homepage</th>\n",
       "      <th>director</th>\n",
       "      <th>tagline</th>\n",
       "      <th>...</th>\n",
       "      <th>overview</th>\n",
       "      <th>runtime</th>\n",
       "      <th>genres</th>\n",
       "      <th>production_companies</th>\n",
       "      <th>release_date</th>\n",
       "      <th>vote_count</th>\n",
       "      <th>vote_average</th>\n",
       "      <th>release_year</th>\n",
       "      <th>budget_adj</th>\n",
       "      <th>revenue_adj</th>\n",
       "    </tr>\n",
       "  </thead>\n",
       "  <tbody>\n",
       "    <tr>\n",
       "      <td>0</td>\n",
       "      <td>0        135397\\n1         76341\\n2        262...</td>\n",
       "      <td>tt0369610</td>\n",
       "      <td>32.985763</td>\n",
       "      <td>150000000</td>\n",
       "      <td>1513528810</td>\n",
       "      <td>Jurassic World</td>\n",
       "      <td>Chris Pratt|Bryce Dallas Howard|Irrfan Khan|Vi...</td>\n",
       "      <td>http://www.jurassicworld.com/</td>\n",
       "      <td>Colin Trevorrow</td>\n",
       "      <td>The park is open.</td>\n",
       "      <td>...</td>\n",
       "      <td>Twenty-two years after the events of Jurassic ...</td>\n",
       "      <td>124</td>\n",
       "      <td>Action|Adventure|Science Fiction|Thriller</td>\n",
       "      <td>Universal Studios|Amblin Entertainment|Legenda...</td>\n",
       "      <td>6/9/15</td>\n",
       "      <td>5562</td>\n",
       "      <td>6.5</td>\n",
       "      <td>2015</td>\n",
       "      <td>1.379999e+08</td>\n",
       "      <td>1.392446e+09</td>\n",
       "    </tr>\n",
       "    <tr>\n",
       "      <td>1</td>\n",
       "      <td>0        135397\\n1         76341\\n2        262...</td>\n",
       "      <td>tt1392190</td>\n",
       "      <td>28.419936</td>\n",
       "      <td>150000000</td>\n",
       "      <td>378436354</td>\n",
       "      <td>Mad Max: Fury Road</td>\n",
       "      <td>Tom Hardy|Charlize Theron|Hugh Keays-Byrne|Nic...</td>\n",
       "      <td>http://www.madmaxmovie.com/</td>\n",
       "      <td>George Miller</td>\n",
       "      <td>What a Lovely Day.</td>\n",
       "      <td>...</td>\n",
       "      <td>An apocalyptic story set in the furthest reach...</td>\n",
       "      <td>120</td>\n",
       "      <td>Action|Adventure|Science Fiction|Thriller</td>\n",
       "      <td>Village Roadshow Pictures|Kennedy Miller Produ...</td>\n",
       "      <td>5/13/15</td>\n",
       "      <td>6185</td>\n",
       "      <td>7.1</td>\n",
       "      <td>2015</td>\n",
       "      <td>1.379999e+08</td>\n",
       "      <td>3.481613e+08</td>\n",
       "    </tr>\n",
       "    <tr>\n",
       "      <td>2</td>\n",
       "      <td>0        135397\\n1         76341\\n2        262...</td>\n",
       "      <td>tt2908446</td>\n",
       "      <td>13.112507</td>\n",
       "      <td>110000000</td>\n",
       "      <td>295238201</td>\n",
       "      <td>Insurgent</td>\n",
       "      <td>Shailene Woodley|Theo James|Kate Winslet|Ansel...</td>\n",
       "      <td>http://www.thedivergentseries.movie/#insurgent</td>\n",
       "      <td>Robert Schwentke</td>\n",
       "      <td>One Choice Can Destroy You</td>\n",
       "      <td>...</td>\n",
       "      <td>Beatrice Prior must confront her inner demons ...</td>\n",
       "      <td>119</td>\n",
       "      <td>Adventure|Science Fiction|Thriller</td>\n",
       "      <td>Summit Entertainment|Mandeville Films|Red Wago...</td>\n",
       "      <td>3/18/15</td>\n",
       "      <td>2480</td>\n",
       "      <td>6.3</td>\n",
       "      <td>2015</td>\n",
       "      <td>1.012000e+08</td>\n",
       "      <td>2.716190e+08</td>\n",
       "    </tr>\n",
       "    <tr>\n",
       "      <td>3</td>\n",
       "      <td>0        135397\\n1         76341\\n2        262...</td>\n",
       "      <td>tt2488496</td>\n",
       "      <td>11.173104</td>\n",
       "      <td>200000000</td>\n",
       "      <td>2068178225</td>\n",
       "      <td>Star Wars: The Force Awakens</td>\n",
       "      <td>Harrison Ford|Mark Hamill|Carrie Fisher|Adam D...</td>\n",
       "      <td>http://www.starwars.com/films/star-wars-episod...</td>\n",
       "      <td>J.J. Abrams</td>\n",
       "      <td>Every generation has a story.</td>\n",
       "      <td>...</td>\n",
       "      <td>Thirty years after defeating the Galactic Empi...</td>\n",
       "      <td>136</td>\n",
       "      <td>Action|Adventure|Science Fiction|Fantasy</td>\n",
       "      <td>Lucasfilm|Truenorth Productions|Bad Robot</td>\n",
       "      <td>12/15/15</td>\n",
       "      <td>5292</td>\n",
       "      <td>7.5</td>\n",
       "      <td>2015</td>\n",
       "      <td>1.839999e+08</td>\n",
       "      <td>1.902723e+09</td>\n",
       "    </tr>\n",
       "    <tr>\n",
       "      <td>4</td>\n",
       "      <td>0        135397\\n1         76341\\n2        262...</td>\n",
       "      <td>tt2820852</td>\n",
       "      <td>9.335014</td>\n",
       "      <td>190000000</td>\n",
       "      <td>1506249360</td>\n",
       "      <td>Furious 7</td>\n",
       "      <td>Vin Diesel|Paul Walker|Jason Statham|Michelle ...</td>\n",
       "      <td>http://www.furious7.com/</td>\n",
       "      <td>James Wan</td>\n",
       "      <td>Vengeance Hits Home</td>\n",
       "      <td>...</td>\n",
       "      <td>Deckard Shaw seeks revenge against Dominic Tor...</td>\n",
       "      <td>137</td>\n",
       "      <td>Action|Crime|Thriller</td>\n",
       "      <td>Universal Pictures|Original Film|Media Rights ...</td>\n",
       "      <td>4/1/15</td>\n",
       "      <td>2947</td>\n",
       "      <td>7.3</td>\n",
       "      <td>2015</td>\n",
       "      <td>1.747999e+08</td>\n",
       "      <td>1.385749e+09</td>\n",
       "    </tr>\n",
       "  </tbody>\n",
       "</table>\n",
       "<p>5 rows × 21 columns</p>\n",
       "</div>"
      ],
      "text/plain": [
       "                                                  id    imdb_id  popularity  \\\n",
       "0  0        135397\\n1         76341\\n2        262...  tt0369610   32.985763   \n",
       "1  0        135397\\n1         76341\\n2        262...  tt1392190   28.419936   \n",
       "2  0        135397\\n1         76341\\n2        262...  tt2908446   13.112507   \n",
       "3  0        135397\\n1         76341\\n2        262...  tt2488496   11.173104   \n",
       "4  0        135397\\n1         76341\\n2        262...  tt2820852    9.335014   \n",
       "\n",
       "      budget     revenue                original_title  \\\n",
       "0  150000000  1513528810                Jurassic World   \n",
       "1  150000000   378436354            Mad Max: Fury Road   \n",
       "2  110000000   295238201                     Insurgent   \n",
       "3  200000000  2068178225  Star Wars: The Force Awakens   \n",
       "4  190000000  1506249360                     Furious 7   \n",
       "\n",
       "                                                cast  \\\n",
       "0  Chris Pratt|Bryce Dallas Howard|Irrfan Khan|Vi...   \n",
       "1  Tom Hardy|Charlize Theron|Hugh Keays-Byrne|Nic...   \n",
       "2  Shailene Woodley|Theo James|Kate Winslet|Ansel...   \n",
       "3  Harrison Ford|Mark Hamill|Carrie Fisher|Adam D...   \n",
       "4  Vin Diesel|Paul Walker|Jason Statham|Michelle ...   \n",
       "\n",
       "                                            homepage          director  \\\n",
       "0                      http://www.jurassicworld.com/   Colin Trevorrow   \n",
       "1                        http://www.madmaxmovie.com/     George Miller   \n",
       "2     http://www.thedivergentseries.movie/#insurgent  Robert Schwentke   \n",
       "3  http://www.starwars.com/films/star-wars-episod...       J.J. Abrams   \n",
       "4                           http://www.furious7.com/         James Wan   \n",
       "\n",
       "                         tagline  ...  \\\n",
       "0              The park is open.  ...   \n",
       "1             What a Lovely Day.  ...   \n",
       "2     One Choice Can Destroy You  ...   \n",
       "3  Every generation has a story.  ...   \n",
       "4            Vengeance Hits Home  ...   \n",
       "\n",
       "                                            overview runtime  \\\n",
       "0  Twenty-two years after the events of Jurassic ...     124   \n",
       "1  An apocalyptic story set in the furthest reach...     120   \n",
       "2  Beatrice Prior must confront her inner demons ...     119   \n",
       "3  Thirty years after defeating the Galactic Empi...     136   \n",
       "4  Deckard Shaw seeks revenge against Dominic Tor...     137   \n",
       "\n",
       "                                      genres  \\\n",
       "0  Action|Adventure|Science Fiction|Thriller   \n",
       "1  Action|Adventure|Science Fiction|Thriller   \n",
       "2         Adventure|Science Fiction|Thriller   \n",
       "3   Action|Adventure|Science Fiction|Fantasy   \n",
       "4                      Action|Crime|Thriller   \n",
       "\n",
       "                                production_companies release_date vote_count  \\\n",
       "0  Universal Studios|Amblin Entertainment|Legenda...       6/9/15       5562   \n",
       "1  Village Roadshow Pictures|Kennedy Miller Produ...      5/13/15       6185   \n",
       "2  Summit Entertainment|Mandeville Films|Red Wago...      3/18/15       2480   \n",
       "3          Lucasfilm|Truenorth Productions|Bad Robot     12/15/15       5292   \n",
       "4  Universal Pictures|Original Film|Media Rights ...       4/1/15       2947   \n",
       "\n",
       "   vote_average  release_year    budget_adj   revenue_adj  \n",
       "0           6.5          2015  1.379999e+08  1.392446e+09  \n",
       "1           7.1          2015  1.379999e+08  3.481613e+08  \n",
       "2           6.3          2015  1.012000e+08  2.716190e+08  \n",
       "3           7.5          2015  1.839999e+08  1.902723e+09  \n",
       "4           7.3          2015  1.747999e+08  1.385749e+09  \n",
       "\n",
       "[5 rows x 21 columns]"
      ]
     },
     "execution_count": 144,
     "metadata": {},
     "output_type": "execute_result"
    }
   ],
   "source": [
    "movies.head()"
   ]
  },
  {
   "cell_type": "code",
   "execution_count": null,
   "metadata": {},
   "outputs": [],
   "source": []
  },
  {
   "cell_type": "markdown",
   "metadata": {},
   "source": [
    "#### Fixing the `release_date` column"
   ]
  },
  {
   "cell_type": "code",
   "execution_count": null,
   "metadata": {},
   "outputs": [],
   "source": []
  },
  {
   "cell_type": "code",
   "execution_count": null,
   "metadata": {},
   "outputs": [],
   "source": []
  },
  {
   "cell_type": "markdown",
   "metadata": {},
   "source": [
    "#### Splitting the table into 2 tables"
   ]
  },
  {
   "cell_type": "code",
   "execution_count": null,
   "metadata": {},
   "outputs": [],
   "source": []
  },
  {
   "cell_type": "markdown",
   "metadata": {},
   "source": [
    "<a id='eda'></a>\n",
    "## Exploratory Data Analysis\n",
    "\n",
    "> **Tip**: Now that you've trimmed and cleaned your data, you're ready to move on to exploration. Compute statistics and create visualizations with the goal of addressing the research questions that you posed in the Introduction section. It is recommended that you be systematic with your approach. Look at one variable at a time, and then follow it up by looking at relationships between variables.\n",
    "\n",
    "### Research Question 1 (Replace this header name!)"
   ]
  },
  {
   "cell_type": "code",
   "execution_count": null,
   "metadata": {},
   "outputs": [],
   "source": [
    "# Use this, and more code cells, to explore your data. Don't forget to add\n",
    "#   Markdown cells to document your observations and findings.\n"
   ]
  },
  {
   "cell_type": "markdown",
   "metadata": {},
   "source": [
    "### Research Question 2  (Replace this header name!)"
   ]
  },
  {
   "cell_type": "code",
   "execution_count": null,
   "metadata": {},
   "outputs": [],
   "source": [
    "# Continue to explore the data to address your additional research\n",
    "#   questions. Add more headers as needed if you have more questions to\n",
    "#   investigate.\n"
   ]
  },
  {
   "cell_type": "markdown",
   "metadata": {},
   "source": [
    "<a id='conclusions'></a>\n",
    "## Conclusions\n",
    "\n",
    "> **Tip**: Finally, summarize your findings and the results that have been performed. Make sure that you are clear with regards to the limitations of your exploration. If you haven't done any statistical tests, do not imply any statistical conclusions. And make sure you avoid implying causation from correlation!\n",
    "\n",
    "> **Tip**: Once you are satisfied with your work, you should save a copy of the report in HTML or PDF form via the **File** > **Download as** submenu. Before exporting your report, check over it to make sure that the flow of the report is complete. You should probably remove all of the \"Tip\" quotes like this one so that the presentation is as tidy as possible. Congratulations!"
   ]
  },
  {
   "cell_type": "code",
   "execution_count": null,
   "metadata": {},
   "outputs": [],
   "source": []
  }
 ],
 "metadata": {
  "kernelspec": {
   "display_name": "Python 3",
   "language": "python",
   "name": "python3"
  },
  "language_info": {
   "codemirror_mode": {
    "name": "ipython",
    "version": 3
   },
   "file_extension": ".py",
   "mimetype": "text/x-python",
   "name": "python",
   "nbconvert_exporter": "python",
   "pygments_lexer": "ipython3",
   "version": "3.7.4"
  }
 },
 "nbformat": 4,
 "nbformat_minor": 2
}
